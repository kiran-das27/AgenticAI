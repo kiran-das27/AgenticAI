{
 "cells": [
  {
   "cell_type": "code",
   "execution_count": 2,
   "id": "86be72a3",
   "metadata": {},
   "outputs": [],
   "source": [
    "from dotenv import load_dotenv\n",
    "from openai import OpenAI,AsyncOpenAI\n",
    "from agents import Agent, Runner, function_tool,Trace,input_guardrail,output_guardrail,FunctionTool,GuardrailFunctionOutput,OpenAIChatCompletionsModel,trace\n",
    "from typing import Dict\n",
    "from pydantic import BaseModel\n",
    "import os"
   ]
  },
  {
   "cell_type": "code",
   "execution_count": 3,
   "id": "7cdd1939",
   "metadata": {},
   "outputs": [
    {
     "data": {
      "text/plain": [
       "True"
      ]
     },
     "execution_count": 3,
     "metadata": {},
     "output_type": "execute_result"
    }
   ],
   "source": [
    "load_dotenv(override=True)"
   ]
  },
  {
   "cell_type": "code",
   "execution_count": 4,
   "id": "16fabd6a",
   "metadata": {},
   "outputs": [
    {
     "name": "stdout",
     "output_type": "stream",
     "text": [
      "OpenAI API Key exists and begins sk-proj-\n",
      "Google API Key exists and begins AI\n",
      "DeepSeek API Key exists and begins sk-\n",
      "Groq API Key exists and begins gsk_\n"
     ]
    }
   ],
   "source": [
    "\n",
    "openai_api_key = os.getenv('OPENAI_API_KEY')\n",
    "google_api_key = os.getenv('GOOGLE_API_KEY')\n",
    "deepseek_api_key = os.getenv('DEEPSEEK_API_KEY')\n",
    "groq_api_key = os.getenv('GROQ_API_KEY')\n",
    "\n",
    "if openai_api_key:\n",
    "    print(f\"OpenAI API Key exists and begins {openai_api_key[:8]}\")\n",
    "else:\n",
    "    print(\"OpenAI API Key not set\")\n",
    "\n",
    "if google_api_key:\n",
    "    print(f\"Google API Key exists and begins {google_api_key[:2]}\")\n",
    "else:\n",
    "    print(\"Google API Key not set (and this is optional)\")\n",
    "\n",
    "if deepseek_api_key:\n",
    "    print(f\"DeepSeek API Key exists and begins {deepseek_api_key[:3]}\")\n",
    "else:\n",
    "    print(\"DeepSeek API Key not set (and this is optional)\")\n",
    "\n",
    "if groq_api_key:\n",
    "    print(f\"Groq API Key exists and begins {groq_api_key[:4]}\")\n",
    "else:\n",
    "    print(\"Groq API Key not set (and this is optional)\")"
   ]
  },
  {
   "cell_type": "code",
   "execution_count": 23,
   "id": "d8770827",
   "metadata": {},
   "outputs": [],
   "source": [
    "instruction1 = \"You are Cricket Fanatic. You have extreme knowledge in cricket and includes records, statistics, player info and many other. Answer only to this context and nothing else .Kepp it elaboratoive.If the topic is outside cricket reply 'i am not aware of this topic and restricted to cricket only'\"\n",
    "instruction2 = \"You are Bollywood Fanatic. You know all info about bollywood , celibrites, box office, release, actor and actress ifo etc etc. Answer only to this context and nothing else . Keep it elaboratoive. If the topic is outside bollywood reply 'i am not aware of this topic and restricted to bolllywood only'\"\n",
    "instruction3 = \"You are Space and science fanatic. You have all info about universe, solar system blackholes, extraterestial,supernova,starts , planets galaxy and telescopes , rover and science missisions and exploration. Answer only in context and nothing else.Be elaborative.If the topic is outside space and science reply 'i am not aware of this topic and restricted to space and science only'\""
   ]
  },
  {
   "cell_type": "code",
   "execution_count": 6,
   "id": "1f9dba10",
   "metadata": {},
   "outputs": [],
   "source": [
    "GEMINI_BASE_URL = \"https://generativelanguage.googleapis.com/v1beta/openai/\"\n",
    "DEEPSEEK_BASE_URL = \"https://api.deepseek.com/v1\"\n",
    "GROQ_BASE_URL = \"https://api.groq.com/openai/v1\""
   ]
  },
  {
   "cell_type": "code",
   "execution_count": 24,
   "id": "9fee9113",
   "metadata": {},
   "outputs": [],
   "source": [
    "deepseek_client = AsyncOpenAI(base_url=DEEPSEEK_BASE_URL, api_key=deepseek_api_key)\n",
    "gemini_client = AsyncOpenAI(base_url=GEMINI_BASE_URL, api_key=google_api_key)\n",
    "groq_client = AsyncOpenAI(base_url=GROQ_BASE_URL, api_key=groq_api_key)"
   ]
  },
  {
   "cell_type": "code",
   "execution_count": 25,
   "id": "c0c2a668",
   "metadata": {},
   "outputs": [
    {
     "data": {
      "text/plain": [
       "'\\ndeepseek = OpenAI(api_key=deepseek_api_key, base_url=\"https://api.deepseek.com/v1\")\\nmodel_name = \"deepseek-chat\"\\nresponse = deepseek.chat.completions.create(model=model_name, messages=messages)\\n'"
      ]
     },
     "execution_count": 25,
     "metadata": {},
     "output_type": "execute_result"
    }
   ],
   "source": [
    "deepseek_model=OpenAIChatCompletionsModel(model='deepseek-chat',openai_client=deepseek_client)\n",
    "# this is simalr to 2_lab2_practice.ipynb  where in \n",
    "'''\n",
    "deepseek = OpenAI(api_key=deepseek_api_key, base_url=\"https://api.deepseek.com/v1\")\n",
    "model_name = \"deepseek-chat\"\n",
    "response = deepseek.chat.completions.create(model=model_name, messages=messages)\n",
    "'''"
   ]
  },
  {
   "cell_type": "code",
   "execution_count": 26,
   "id": "90038bf3",
   "metadata": {},
   "outputs": [],
   "source": [
    "gemini_model = OpenAIChatCompletionsModel(model=\"gemini-2.0-flash\", openai_client=gemini_client)\n",
    "llama3_3_model = OpenAIChatCompletionsModel(model=\"llama-3.3-70b-versatile\", openai_client=groq_client)"
   ]
  },
  {
   "cell_type": "code",
   "execution_count": 27,
   "id": "f1dd388b",
   "metadata": {},
   "outputs": [],
   "source": [
    "AgentPicker=Agent(name=\"Response Picker\",model='gpt-4o-mini',instructions=\"\"\"You are best response picker. you analyse response returned by LLMS/AGENTS OR tools and pick the best one as per context and the topic of interest given \n",
    "     just pick the best response from llms/tools/agents in context of the topic and area of expertise being asked. If the response is outside the topic u donty pick that . You are intelligent and \n",
    "        and dont pick any random things. You see which Agent/Tool had provided the topic answer and u chose that Agent/Tool response. u know some Agent/Tool may not provide the answer as it is outside their expertise. Choose the one which give the response for the \n",
    "            topic and output the response and reply with the best response. Dont answer by yourself any thing .Let the Agent/Tool Decide.\n",
    "             Please Prefix at beigining of response the following (Only if you get Response related to the topic).\n",
    "             channel_name:Channel1 if Bollywood related you picked or channel_name:Chhannel2 if cricket is picked and channel_name:Channel3 if space is picked . \n",
    "             after this with a single new line response should foolow. \n",
    "             Lastly give the description why u picked it in one sentence \n",
    "             Dont randomly select any channel if the response is outside their context .If none of the Agent provides suitable answer to topic respons with 'Topic oustsoide three channel(space,cricket,bollywood)\n",
    "             . I am sorry i cant answer . foe example , if any question is asked for politics none of the tools will be able to answer , you should format the response as i stated  above  \"\"\"\n",
    "             )"
   ]
  },
  {
   "cell_type": "code",
   "execution_count": null,
   "id": "855fa375",
   "metadata": {},
   "outputs": [],
   "source": []
  },
  {
   "cell_type": "code",
   "execution_count": 28,
   "id": "3ff385b6",
   "metadata": {},
   "outputs": [],
   "source": [
    "BollyAgent=Agent(name=\"Bollywood DeepSeek Agent\",instructions=instruction1,model=deepseek_model)\n",
    "CricAgent=Agent(name=\"Cricket geninine agent\",instructions=instruction2,model=gemini_model)\n",
    "SpaceAgent=Agent(name=\"Space llama agent\",instructions=instruction3,model=llama3_3_model)"
   ]
  },
  {
   "cell_type": "code",
   "execution_count": 29,
   "id": "c033677f",
   "metadata": {},
   "outputs": [],
   "source": [
    "tool1=BollyAgent.as_tool(tool_name=\"Bollywood\",tool_description=\"all information about bollywood\")\n",
    "tool2=CricAgent.as_tool(tool_name=\"Cricket\",tool_description=\"Info about cricket sport\")\n",
    "tool3=SpaceAgent.as_tool(tool_name=\"Space\",tool_description=\"Info about space and science\")\n",
    "tool4=AgentPicker.as_tool(tool_name=\"ResponsePicker\",tool_description=\"Pick the best response from the given options\")\n",
    "\n"
   ]
  },
  {
   "cell_type": "code",
   "execution_count": 30,
   "id": "949025a3",
   "metadata": {},
   "outputs": [],
   "source": [
    "from IPython.display import display, Markdown"
   ]
  },
  {
   "cell_type": "code",
   "execution_count": 31,
   "id": "fc4d6af7",
   "metadata": {},
   "outputs": [],
   "source": [
    "@function_tool\n",
    "def extract_Chhanel_and_response(data:str):\n",
    "    \"\"\"Simple function to extract channel_name and response from tool call output\"\"\"\n",
    "    if isinstance(data,dict) and 'text_output' in data:\n",
    "        text_output=data['text_output']\n",
    "    else:\n",
    "        text_output=data\n",
    "    \n",
    "    lines = text_output.split('\\n')\n",
    "   \n",
    "    channel = None\n",
    "    response_lines = []\n",
    "    \n",
    "    for line in lines:\n",
    "        # Extract channel name\n",
    "        \n",
    "        if 'channel_name' in line:\n",
    "                channel = line.split(':')[1]\n",
    "\n",
    "        # Extract Response\n",
    "        elif line.strip() and not line.startswith('channel_name:'):\n",
    "            response_lines.append(line.strip())\n",
    " \n",
    "    \n",
    "    response = '\\n'.join(response_lines) if response_lines else \"\"\n",
    "\n",
    "    if \"Channel1\" in channel:\n",
    "        display(Markdown(f\"## 🎬🎵🎥  **Bollywood Channel Selected**\\n\\n{response}\"))\n",
    "    elif \"Channel2\" in channel:\n",
    "        display(Markdown(f\"## 🏏🏆🏟️ **Cricket Channel Selected**\\n\\n{response}\"))\n",
    "    elif \"Channel3\" in channel:\n",
    "        display(Markdown(f\"## ⭐🪐🌍  **space Channel Selected**\\n\\n{response}\"))\n",
    "        \n",
    "\n",
    "    \n",
    "    return channel, response"
   ]
  },
  {
   "cell_type": "code",
   "execution_count": 32,
   "id": "2f38d05a",
   "metadata": {},
   "outputs": [],
   "source": [
    "@function_tool\n",
    "def content_display(channel: str, response: str):\n",
    "    '''\n",
    "    display contents visually apealing\n",
    "\n",
    "    Args:\n",
    "        channel: The channel to display, such as \"Channel1\" or \"Channel2 or Channel3\".\n",
    "        response: The content to display on the channel.\n",
    "    '''\n",
    "    if \"Channel1\" in channel:\n",
    "        display(Markdown(f\"## 🎬🎵🎥  **Bollywood Channel Selected**\\n\\n{response}\"))\n",
    "    elif \"Channel2\" in channel:\n",
    "        display(Markdown(f\"## 🏏🏆🏟️ **Cricket Channel Selected**\\n\\n{response}\"))\n",
    "    elif \"Channel3\" in channel:\n",
    "        display(Markdown(f\"## ⭐🪐🌍  **space Channel Selected**\\n\\n{response}\"))"
   ]
  },
  {
   "cell_type": "code",
   "execution_count": 33,
   "id": "e16616c7",
   "metadata": {},
   "outputs": [],
   "source": [
    "final_handoff_instruction=\"\"\"you are an Content Displayer . u recieve the response and channel_name from the tool extract_Chhanel_and_response. and u generate the content in markdown which is visually apealing \n",
    ".You also add icon related to the subject  along with the display of content .You also Take care of pargraph spacing and make the conttent display very visually apealing in markdown format\"\"\""
   ]
  },
  {
   "cell_type": "code",
   "execution_count": 34,
   "id": "257ff040",
   "metadata": {},
   "outputs": [],
   "source": [
    "display_content_tool=[content_display]\n",
    "display_content_agent=Agent(name=\"Content Displayer\",\n",
    "                            model='gpt-4o-mini',\n",
    "                            instructions=final_handoff_instruction,\n",
    "                            handoff_description=\"Display content in visually apealing markdown format\",\n",
    "                            tools=display_content_tool)\n",
    "display_handoff=[display_content_agent]"
   ]
  },
  {
   "cell_type": "code",
   "execution_count": 35,
   "id": "77648a0e",
   "metadata": {},
   "outputs": [],
   "source": [
    "content_generator_nd_response_tool=[tool1,tool2,tool3,tool4]"
   ]
  },
  {
   "cell_type": "code",
   "execution_count": 36,
   "id": "91c84e1c",
   "metadata": {},
   "outputs": [],
   "source": [
    "Tinstruction= \"\"\"You are a content agent .Based on subject given to you , you leverage the below tools for the topic or subject \n",
    "            tools=Bollywood ,Cricket ,Space , ResponsePicker and extract_Chhanel_and_response\n",
    "            DO NOT answer by yourself and DO NOT display by urself. always use tools at your disposal to answer the question. You are just a guide      \n",
    "            Follow the below instruction properly \n",
    "               1. Whatever question is asked by the user you need to pass to the 3 tools for Content genreation: Bollywood ,Cricket and  Space tools\n",
    "               2. The response provided by the above tools should be passed to ResponsePicker tool and let the ResponsePicker tool decided the response to be picked. The tool should also pick the channel name along with content\n",
    "               3. Next use the tool extract_Chhanel_and_response for extracting channel_name and response taking the input from Response Picker tool.Ensure that channel_name is picked .\n",
    "                   Also ensure only one channel is selected and that too to the subject concerned. If there is a relation between channels  you should  judge and pick one and only one response.\n",
    "               4. Finally Handoff for displaying: pass the response and channel_name to display_content_agent. the display_content_agent will take care of displaying visually appealing content\n",
    "                critical rules:\n",
    "                    1. Always use tool for performing tasks.\n",
    "                    2. Use must handoff by passing the response and channel_name to display_content_agent \n",
    "                    3. if there is an issue with any tool or handoff ,output the same and elaborate the issue for debugging\"\"\""
   ]
  },
  {
   "cell_type": "code",
   "execution_count": 37,
   "id": "0b5b0125",
   "metadata": {},
   "outputs": [],
   "source": [
    "content_manager=Agent(\n",
    "                        name=\"Content Manager\",\n",
    "                        model=\"gpt-4o-mini\",\n",
    "                        instructions=Tinstruction,\n",
    "                        handoffs=display_handoff,\n",
    "                        tools=content_generator_nd_response_tool\n",
    ")"
   ]
  },
  {
   "cell_type": "code",
   "execution_count": 38,
   "id": "f276be39",
   "metadata": {},
   "outputs": [
    {
     "data": {
      "text/markdown": [
       "## ⭐🪐🌍  **space Channel Selected**\n",
       "\n",
       "# 🌌 What is a Supernova?\n",
       "\n",
       "A **supernova** is an incredibly **powerful** and **rare** astronomical event in which a star explodes, releasing a massive amount of **energy** and **elements** into space. It is one of the most **violent** and **spectacular** events in the universe, outshining an entire galaxy of stars and expelling a vast amount of gas, dust, and heavy elements into the surrounding interstellar medium.\n",
       "\n",
       "## Types of Supernovae\n",
       "\n",
       "There are two main types of supernovae:\n",
       "\n",
       "- **Type I**: These occur when a white dwarf star in a binary system accumulates material from a companion star, eventually reaching a critical mass that triggers a **thermonuclear explosion**.\n",
       "\n",
       "- **Type II**: These occur when a massive star (at least 8-10 times the mass of the sun) runs out of fuel and collapses under its own gravity, leading to a massive explosion.\n",
       "\n",
       "## Characteristics of Supernovae\n",
       "\n",
       "1. **Energy Output**: The explosion can be so powerful that it can be seen from millions of light-years away, briefly outshining an entire galaxy.\n",
       "2. **Element Expulsion**: Heavy elements like **iron**, **nickel**, and **gold** are forged in the star's core during the explosion and are then dispersed into space.\n",
       "3. **Role in the Universe**: Supernovae play a crucial role in the evolution of the universe by helping to distribute heavy elements, seeding the formation of new stars and planets, and regulating galaxy growth.\n",
       "4. **Scientific Importance**: They provide unique opportunities to study extreme physics and gain insights into the fundamental laws governing matter and energy.\n",
       "\n",
       "## Examples of Notable Supernovae\n",
       "- **SN 1987A**: A Type II supernova that occurred in the Large Magellanic Cloud, a satellite galaxy of the Milky Way.\n",
       "- **SN 1006**: A Type Ia supernova that was visible from Earth for several months.\n",
       "- **Tycho's Supernova**: A Type Ia supernova observed in 1572 by Danish astronomer Tycho Brahe.\n",
       "\n",
       "Overall, supernovae are awe-inspiring events that offer profound insights into the extreme physics of the universe, shaping the cosmic landscape in which we exist."
      ],
      "text/plain": [
       "<IPython.core.display.Markdown object>"
      ]
     },
     "metadata": {},
     "output_type": "display_data"
    }
   ],
   "source": [
    "message=\"what is supernova\"\n",
    "with trace(\"ContentCreateorr\"):\n",
    "    result=await Runner.run(content_manager,message)"
   ]
  },
  {
   "cell_type": "code",
   "execution_count": 39,
   "id": "06df4319",
   "metadata": {},
   "outputs": [],
   "source": [
    "from typing import List\n",
    "class InappropriateContentCheck(BaseModel):\n",
    "    has_inappropriate_content: bool\n",
    "    inappropriate_words_found: List[str]\n",
    "\n",
    "inappropriate_guardrail_agent = Agent(\n",
    "    name=\"Inappropriate Content Check\",\n",
    "    instructions=\"Check if the user's message contains inappropriate words or topics like hate, violence, spam, nudity ,porn related,nudity related ,ass ,dick, illegal, harmful, dangerous, toxic, abuse, harassment.\",\n",
    "    output_type=InappropriateContentCheck,\n",
    "    model=\"gpt-4o-mini\"\n",
    ")"
   ]
  },
  {
   "cell_type": "code",
   "execution_count": 40,
   "id": "ef7df817",
   "metadata": {},
   "outputs": [],
   "source": [
    "@input_guardrail\n",
    "async def guardrail_against_inappropriate_content(ctx, agent, message):\n",
    "    # Run the guardrail agent to check the message\n",
    "    result = await Runner.run(inappropriate_guardrail_agent, message, context=ctx.context)\n",
    "    \n",
    "    # Get the result from Pydantic model\n",
    "    has_inappropriate = result.final_output.has_inappropriate_content\n",
    "    \n",
    "    if has_inappropriate:\n",
    "        print(\"🚫 BLOCKING content\")\n",
    "    # Return GuardrailFunctionOutput\n",
    "    return GuardrailFunctionOutput(\n",
    "        output_info={\"inappropriate_words\": result.final_output.inappropriate_words_found},\n",
    "        tripwire_triggered=has_inappropriate  # True = block, False = allow\n",
    "    )\n",
    "\n",
    "    # ctx.context contains the conversation history\n",
    "    # ctx.agent is the BollyAgent/CricAgent/SpaceAgent\n",
    "    # message is the user's input"
   ]
  },
  {
   "cell_type": "code",
   "execution_count": 41,
   "id": "435ee67d",
   "metadata": {},
   "outputs": [],
   "source": [
    "NonResponsisbleContentManger=Agent(                        name=\"Content Manager\",\n",
    "                        model=\"gpt-4o-mini\",\n",
    "                        instructions=Tinstruction,\n",
    "                        handoffs=display_handoff,\n",
    "                        tools=content_generator_nd_response_tool,\n",
    "                        input_guardrails=[guardrail_against_inappropriate_content])"
   ]
  },
  {
   "cell_type": "code",
   "execution_count": 42,
   "id": "dd0094f7",
   "metadata": {},
   "outputs": [
    {
     "data": {
      "text/markdown": [
       "## 🎬🎵🎥  **Bollywood Channel Selected**\n",
       "\n",
       "# 🌟 Akshay Kumar: The Versatile Star of Bollywood\n",
       "\n",
       "---\n",
       "\n",
       "### 🎬 About Akshay Kumar\n",
       "\n",
       "Akshay Kumar, born **Rajiv Hari Om Bhatia** on **September 9, 1967**, is one of Bollywood's most prolific and bankable actors. Known for his **versatility**, **discipline**, and **dedication** to his craft, he has successfully transitioned from being an action hero to a comedic star, while also addressing socially relevant subjects.\n",
       "\n",
       "---\n",
       "\n",
       "### 📈 Key Highlights:\n",
       "\n",
       "- **Early Career & Action Hero Image:**  \n",
       "  Akshay started his Bollywood journey in the early 1990s, primarily known for action-packed roles in films like **\"Khiladi\"**, **\"Mohra\"**, and **\"Sabse Bada Khiladi\"**. His martial arts background gave him an edge in these roles.\n",
       "\n",
       "- **Transition to Comedy:**  \n",
       "  He reinvented himself with comedic roles in movies such as **\"Hera Pheri\"**, **\"Mujhse Shaadi Karogi\"**, and **\"Singh Is Kinng\"**.\n",
       "\n",
       "- **Socially Relevant Films:**  \n",
       "  Recently, he has focused on films that tackle social issues, including **\"Toilet: Ek Prem Katha\"** (sanitation) and **\"Pad Man\"** (menstrual hygiene).\n",
       "\n",
       "- **Box Office Power:**  \n",
       "  Akshay Kumar is consistently ranked among the highest-paid actors in Bollywood, known for his commercially successful films.\n",
       "\n",
       "- **Awards & Recognition:**  \n",
       "  He has won numerous awards, including two **National Film Awards** for Best Actor and several **Filmfare Awards**.\n",
       "\n",
       "---\n",
       "\n",
       "### 🎥 Notable Films (Acros Genres):\n",
       "\n",
       "- **Action:** Khiladi series, Mohra, Waqt Hamara Hai  \n",
       "- **Comedy:** Hera Pheri, Housefull series  \n",
       "- **Drama/Social:** Airlift, Toilet: Ek Prem Katha, Gold  \n",
       "- **Romantic:** Dhadkan, Namastey London  \n",
       "\n",
       "---\n",
       "\n",
       "### 🌟 Why He is So Popular:\n",
       "\n",
       "- **Versatility:**  \n",
       "  Convinces in action, comedy, and drama.\n",
       "\n",
       "- **Discipline:**  \n",
       "  Known for a rigorous fitness routine and professional work ethics.\n",
       "\n",
       "- **Relatability:**  \n",
       "  Often portrays characters that resonate with the common man.\n",
       "\n",
       "- **Patriotic Image:**  \n",
       "  His films reflect a sense of patriotism and social responsibility.\n",
       "\n",
       "---\n",
       "\n",
       "### 🎉 Conclusion\n",
       "\n",
       "Akshay Kumar continues to be a dominant force in Bollywood, constantly evolving with his roles while maintaining his status as a top star."
      ],
      "text/plain": [
       "<IPython.core.display.Markdown object>"
      ]
     },
     "metadata": {},
     "output_type": "display_data"
    }
   ],
   "source": [
    "message=\"no of hits of akshay kumar\"\n",
    "with trace(\"non_responspible content\"):\n",
    "    result=await Runner.run(NonResponsisbleContentManger,message)"
   ]
  },
  {
   "cell_type": "code",
   "execution_count": 43,
   "id": "64769d84",
   "metadata": {},
   "outputs": [
    {
     "name": "stdout",
     "output_type": "stream",
     "text": [
      "🚫 BLOCKING content\n"
     ]
    },
    {
     "ename": "InputGuardrailTripwireTriggered",
     "evalue": "Guardrail InputGuardrail triggered tripwire",
     "output_type": "error",
     "traceback": [
      "\u001b[31m---------------------------------------------------------------------------\u001b[39m",
      "\u001b[31mInputGuardrailTripwireTriggered\u001b[39m           Traceback (most recent call last)",
      "\u001b[36mCell\u001b[39m\u001b[36m \u001b[39m\u001b[32mIn[43]\u001b[39m\u001b[32m, line 3\u001b[39m\n\u001b[32m      1\u001b[39m message=\u001b[33m\"\u001b[39m\u001b[33mhate speech from cricket celebrites\u001b[39m\u001b[33m\"\u001b[39m\n\u001b[32m      2\u001b[39m \u001b[38;5;28;01mwith\u001b[39;00m trace(\u001b[33m\"\u001b[39m\u001b[33mnon_responspible content\u001b[39m\u001b[33m\"\u001b[39m):\n\u001b[32m----> \u001b[39m\u001b[32m3\u001b[39m     result=\u001b[38;5;28;01mawait\u001b[39;00m Runner.run(NonResponsisbleContentManger,message)\n\u001b[32m      5\u001b[39m     \u001b[38;5;66;03m# check trace :\u001b[39;00m\n\u001b[32m      6\u001b[39m    \u001b[38;5;66;03m# {\u001b[39;00m\n\u001b[32m      7\u001b[39m   \u001b[38;5;66;03m#\"has_inappropriate_content\": true,\u001b[39;00m\n\u001b[32m   (...)\u001b[39m\u001b[32m     10\u001b[39m  \u001b[38;5;66;03m## ]\u001b[39;00m\n\u001b[32m     11\u001b[39m \u001b[38;5;66;03m#}\u001b[39;00m\n",
      "\u001b[36mFile \u001b[39m\u001b[32m~/Desktop/AgenticAIEngineering/projects/agents/.venv/lib/python3.12/site-packages/agents/run.py:219\u001b[39m, in \u001b[36mRunner.run\u001b[39m\u001b[34m(cls, starting_agent, input, context, max_turns, hooks, run_config, previous_response_id)\u001b[39m\n\u001b[32m    214\u001b[39m logger.debug(\n\u001b[32m    215\u001b[39m     \u001b[33mf\u001b[39m\u001b[33m\"\u001b[39m\u001b[33mRunning agent \u001b[39m\u001b[38;5;132;01m{\u001b[39;00mcurrent_agent.name\u001b[38;5;132;01m}\u001b[39;00m\u001b[33m (turn \u001b[39m\u001b[38;5;132;01m{\u001b[39;00mcurrent_turn\u001b[38;5;132;01m}\u001b[39;00m\u001b[33m)\u001b[39m\u001b[33m\"\u001b[39m,\n\u001b[32m    216\u001b[39m )\n\u001b[32m    218\u001b[39m \u001b[38;5;28;01mif\u001b[39;00m current_turn == \u001b[32m1\u001b[39m:\n\u001b[32m--> \u001b[39m\u001b[32m219\u001b[39m     input_guardrail_results, turn_result = \u001b[38;5;28;01mawait\u001b[39;00m asyncio.gather(\n\u001b[32m    220\u001b[39m         \u001b[38;5;28mcls\u001b[39m._run_input_guardrails(\n\u001b[32m    221\u001b[39m             starting_agent,\n\u001b[32m    222\u001b[39m             starting_agent.input_guardrails\n\u001b[32m    223\u001b[39m             + (run_config.input_guardrails \u001b[38;5;129;01mor\u001b[39;00m []),\n\u001b[32m    224\u001b[39m             copy.deepcopy(\u001b[38;5;28minput\u001b[39m),\n\u001b[32m    225\u001b[39m             context_wrapper,\n\u001b[32m    226\u001b[39m         ),\n\u001b[32m    227\u001b[39m         \u001b[38;5;28mcls\u001b[39m._run_single_turn(\n\u001b[32m    228\u001b[39m             agent=current_agent,\n\u001b[32m    229\u001b[39m             all_tools=all_tools,\n\u001b[32m    230\u001b[39m             original_input=original_input,\n\u001b[32m    231\u001b[39m             generated_items=generated_items,\n\u001b[32m    232\u001b[39m             hooks=hooks,\n\u001b[32m    233\u001b[39m             context_wrapper=context_wrapper,\n\u001b[32m    234\u001b[39m             run_config=run_config,\n\u001b[32m    235\u001b[39m             should_run_agent_start_hooks=should_run_agent_start_hooks,\n\u001b[32m    236\u001b[39m             tool_use_tracker=tool_use_tracker,\n\u001b[32m    237\u001b[39m             previous_response_id=previous_response_id,\n\u001b[32m    238\u001b[39m         ),\n\u001b[32m    239\u001b[39m     )\n\u001b[32m    240\u001b[39m \u001b[38;5;28;01melse\u001b[39;00m:\n\u001b[32m    241\u001b[39m     turn_result = \u001b[38;5;28;01mawait\u001b[39;00m \u001b[38;5;28mcls\u001b[39m._run_single_turn(\n\u001b[32m    242\u001b[39m         agent=current_agent,\n\u001b[32m    243\u001b[39m         all_tools=all_tools,\n\u001b[32m   (...)\u001b[39m\u001b[32m    251\u001b[39m         previous_response_id=previous_response_id,\n\u001b[32m    252\u001b[39m     )\n",
      "\u001b[36mFile \u001b[39m\u001b[32m~/Desktop/AgenticAIEngineering/projects/agents/.venv/lib/python3.12/site-packages/agents/run.py:884\u001b[39m, in \u001b[36mRunner._run_input_guardrails\u001b[39m\u001b[34m(cls, agent, guardrails, input, context)\u001b[39m\n\u001b[32m    877\u001b[39m         t.cancel()\n\u001b[32m    878\u001b[39m     _error_tracing.attach_error_to_current_span(\n\u001b[32m    879\u001b[39m         SpanError(\n\u001b[32m    880\u001b[39m             message=\u001b[33m\"\u001b[39m\u001b[33mGuardrail tripwire triggered\u001b[39m\u001b[33m\"\u001b[39m,\n\u001b[32m    881\u001b[39m             data={\u001b[33m\"\u001b[39m\u001b[33mguardrail\u001b[39m\u001b[33m\"\u001b[39m: result.guardrail.get_name()},\n\u001b[32m    882\u001b[39m         )\n\u001b[32m    883\u001b[39m     )\n\u001b[32m--> \u001b[39m\u001b[32m884\u001b[39m     \u001b[38;5;28;01mraise\u001b[39;00m InputGuardrailTripwireTriggered(result)\n\u001b[32m    885\u001b[39m \u001b[38;5;28;01melse\u001b[39;00m:\n\u001b[32m    886\u001b[39m     guardrail_results.append(result)\n",
      "\u001b[31mInputGuardrailTripwireTriggered\u001b[39m: Guardrail InputGuardrail triggered tripwire"
     ]
    }
   ],
   "source": [
    "message=\"hate speech from cricket celebrites\"\n",
    "with trace(\"non_responspible content\"):\n",
    "    result=await Runner.run(NonResponsisbleContentManger,message)\n",
    "\n",
    "    # check trace :\n",
    "   # {\n",
    "  #\"has_inappropriate_content\": true,\n",
    "  #\"inappropriate_words_found\": [\n",
    "   # \"nude\"\n",
    " ## ]\n",
    "#}\n"
   ]
  },
  {
   "cell_type": "code",
   "execution_count": 132,
   "id": "784e8c14",
   "metadata": {},
   "outputs": [],
   "source": [
    "# 1. Create Pydantic model for output validation\n",
    "class OutputQualityCheck(BaseModel):\n",
    "    is_response_blank: bool\n",
    "    response_quality_score: int  # 1-10 scale\n",
    "    issues_found: str\n",
    "\n",
    "# 2. Create the output guardrail agent\n",
    "output_guardrail_agent = Agent(\n",
    "    name=\"Output Quality Check\",\n",
    "    instructions=\"\"\"Check if the agent's response is appropriate  and relevant to the Tools tpic of concern and high quality .\n",
    "    Rate quality from 1-10 and list any issues. Consider: relevance to topic, helpfulness, appropriateness, completeness.\n",
    "     If its outside the topic what the Bollywood tool or space tool  or cricket tool  , The response should be blank \n",
    "     and set response_quality_score to 0.\n",
    "     \"\"\",\n",
    "    output_type=OutputQualityCheck,\n",
    "    model=\"gpt-4o-mini\"\n",
    ")\n",
    "\n",
    "# 3. Create the output guardrail function\n",
    "@output_guardrail\n",
    "async def guardrail_against_poor_output(ctx, agent, response):\n",
    "    # Run the guardrail agent to check the response\n",
    "    result = await Runner.run(output_guardrail_agent, response, context=ctx.context)\n",
    "    \n",
    "    # Get the results from Pydantic model\n",
    "    quality_score = result.final_output.response_quality_score\n",
    "    is_appropriate = result.final_output.is_response_blank\n",
    "   \n",
    "    issues = result.final_output.issues_found\n",
    "    \n",
    "    # Block if quality is too low or inappropriate\n",
    "    should_block = not is_appropriate or quality_score < 5\n",
    "    #print(should_block) \n",
    "    should_block = quality_score < 1\n",
    "\n",
    "    if not should_block:\n",
    "        print(\"✅ ALLOWING content\") \n",
    "    else :\n",
    "        display(Markdown(\"❌ BLOCKED :The user query is outside my scope to answer. Please restric your question to bOllywood,cricket or Space & science related only\"))\n",
    "    \n",
    "    return GuardrailFunctionOutput(\n",
    "        output_info={\n",
    "            \"quality_score\": quality_score,\n",
    "            \"issues_found\": issues,\n",
    "            \"agent_name\": agent.name\n",
    "        },\n",
    "        tripwire_triggered=should_block\n",
    "    )\n",
    "\n"
   ]
  },
  {
   "cell_type": "code",
   "execution_count": 133,
   "id": "4cd8f466",
   "metadata": {},
   "outputs": [],
   "source": [
    "ResponsisbleContentManger=Agent(                        name=\"Content Manager\",\n",
    "                        model=\"gpt-4o-mini\",\n",
    "                        instructions=Tinstruction,\n",
    "                        handoffs=display_handoff,\n",
    "                        tools=content_generator_nd_response_tool,\n",
    "                        input_guardrails=[guardrail_against_inappropriate_content],\n",
    "                        output_guardrails=[guardrail_against_poor_output])"
   ]
  },
  {
   "cell_type": "code",
   "execution_count": 134,
   "id": "2672bddc",
   "metadata": {},
   "outputs": [
    {
     "data": {
      "text/markdown": [
       "❌ BLOCKED :The user query is outside my scope to answer. Please restric your question to bOllywood,cricket or Space & science related only"
      ],
      "text/plain": [
       "<IPython.core.display.Markdown object>"
      ]
     },
     "metadata": {},
     "output_type": "display_data"
    },
    {
     "ename": "OutputGuardrailTripwireTriggered",
     "evalue": "Guardrail OutputGuardrail triggered tripwire",
     "output_type": "error",
     "traceback": [
      "\u001b[31m---------------------------------------------------------------------------\u001b[39m",
      "\u001b[31mOutputGuardrailTripwireTriggered\u001b[39m          Traceback (most recent call last)",
      "\u001b[36mCell\u001b[39m\u001b[36m \u001b[39m\u001b[32mIn[134]\u001b[39m\u001b[32m, line 3\u001b[39m\n\u001b[32m      1\u001b[39m message=\u001b[33m\"\u001b[39m\u001b[33mwhy is donald trump imposing tarrifs ?\u001b[39m\u001b[33m\"\u001b[39m\n\u001b[32m      2\u001b[39m \u001b[38;5;28;01mwith\u001b[39;00m trace(\u001b[33m\"\u001b[39m\u001b[33mnon_responspible content\u001b[39m\u001b[33m\"\u001b[39m):\n\u001b[32m----> \u001b[39m\u001b[32m3\u001b[39m     result=\u001b[38;5;28;01mawait\u001b[39;00m Runner.run(ResponsisbleContentManger,message)\n",
      "\u001b[36mFile \u001b[39m\u001b[32m~/Desktop/AgenticAIEngineering/projects/agents/.venv/lib/python3.12/site-packages/agents/run.py:199\u001b[39m, in \u001b[36mRunner.run\u001b[39m\u001b[34m(cls, starting_agent, input, context, max_turns, hooks, run_config, previous_response_id)\u001b[39m\n\u001b[32m    172\u001b[39m \u001b[38;5;250m\u001b[39m\u001b[33;03m\"\"\"Run a workflow starting at the given agent. The agent will run in a loop until a final\u001b[39;00m\n\u001b[32m    173\u001b[39m \u001b[33;03moutput is generated. The loop runs like so:\u001b[39;00m\n\u001b[32m    174\u001b[39m \u001b[33;03m1. The agent is invoked with the given input.\u001b[39;00m\n\u001b[32m   (...)\u001b[39m\u001b[32m    196\u001b[39m \u001b[33;03m    agent. Agents may perform handoffs, so we don't know the specific type of the output.\u001b[39;00m\n\u001b[32m    197\u001b[39m \u001b[33;03m\"\"\"\u001b[39;00m\n\u001b[32m    198\u001b[39m runner = DEFAULT_AGENT_RUNNER\n\u001b[32m--> \u001b[39m\u001b[32m199\u001b[39m \u001b[38;5;28;01mreturn\u001b[39;00m \u001b[38;5;28;01mawait\u001b[39;00m runner.run(\n\u001b[32m    200\u001b[39m     starting_agent,\n\u001b[32m    201\u001b[39m     \u001b[38;5;28minput\u001b[39m,\n\u001b[32m    202\u001b[39m     context=context,\n\u001b[32m    203\u001b[39m     max_turns=max_turns,\n\u001b[32m    204\u001b[39m     hooks=hooks,\n\u001b[32m    205\u001b[39m     run_config=run_config,\n\u001b[32m    206\u001b[39m     previous_response_id=previous_response_id,\n\u001b[32m    207\u001b[39m )\n",
      "\u001b[36mFile \u001b[39m\u001b[32m~/Desktop/AgenticAIEngineering/projects/agents/.venv/lib/python3.12/site-packages/agents/run.py:436\u001b[39m, in \u001b[36mAgentRunner.run\u001b[39m\u001b[34m(self, starting_agent, input, **kwargs)\u001b[39m\n\u001b[32m    433\u001b[39m generated_items = turn_result.generated_items\n\u001b[32m    435\u001b[39m \u001b[38;5;28;01mif\u001b[39;00m \u001b[38;5;28misinstance\u001b[39m(turn_result.next_step, NextStepFinalOutput):\n\u001b[32m--> \u001b[39m\u001b[32m436\u001b[39m     output_guardrail_results = \u001b[38;5;28;01mawait\u001b[39;00m \u001b[38;5;28mself\u001b[39m._run_output_guardrails(\n\u001b[32m    437\u001b[39m         current_agent.output_guardrails + (run_config.output_guardrails \u001b[38;5;129;01mor\u001b[39;00m []),\n\u001b[32m    438\u001b[39m         current_agent,\n\u001b[32m    439\u001b[39m         turn_result.next_step.output,\n\u001b[32m    440\u001b[39m         context_wrapper,\n\u001b[32m    441\u001b[39m     )\n\u001b[32m    442\u001b[39m     \u001b[38;5;28;01mreturn\u001b[39;00m RunResult(\n\u001b[32m    443\u001b[39m         \u001b[38;5;28minput\u001b[39m=original_input,\n\u001b[32m    444\u001b[39m         new_items=generated_items,\n\u001b[32m   (...)\u001b[39m\u001b[32m    450\u001b[39m         context_wrapper=context_wrapper,\n\u001b[32m    451\u001b[39m     )\n\u001b[32m    452\u001b[39m \u001b[38;5;28;01melif\u001b[39;00m \u001b[38;5;28misinstance\u001b[39m(turn_result.next_step, NextStepHandoff):\n",
      "\u001b[36mFile \u001b[39m\u001b[32m~/Desktop/AgenticAIEngineering/projects/agents/.venv/lib/python3.12/site-packages/agents/run.py:1041\u001b[39m, in \u001b[36mAgentRunner._run_output_guardrails\u001b[39m\u001b[34m(cls, guardrails, agent, agent_output, context)\u001b[39m\n\u001b[32m   1034\u001b[39m         t.cancel()\n\u001b[32m   1035\u001b[39m     _error_tracing.attach_error_to_current_span(\n\u001b[32m   1036\u001b[39m         SpanError(\n\u001b[32m   1037\u001b[39m             message=\u001b[33m\"\u001b[39m\u001b[33mGuardrail tripwire triggered\u001b[39m\u001b[33m\"\u001b[39m,\n\u001b[32m   1038\u001b[39m             data={\u001b[33m\"\u001b[39m\u001b[33mguardrail\u001b[39m\u001b[33m\"\u001b[39m: result.guardrail.get_name()},\n\u001b[32m   1039\u001b[39m         )\n\u001b[32m   1040\u001b[39m     )\n\u001b[32m-> \u001b[39m\u001b[32m1041\u001b[39m     \u001b[38;5;28;01mraise\u001b[39;00m OutputGuardrailTripwireTriggered(result)\n\u001b[32m   1042\u001b[39m \u001b[38;5;28;01melse\u001b[39;00m:\n\u001b[32m   1043\u001b[39m     guardrail_results.append(result)\n",
      "\u001b[31mOutputGuardrailTripwireTriggered\u001b[39m: Guardrail OutputGuardrail triggered tripwire"
     ]
    }
   ],
   "source": [
    "message=\"why is donald trump imposing tarrifs ?\"\n",
    "with trace(\"non_responspible content\"):\n",
    "    result=await Runner.run(ResponsisbleContentManger,message)"
   ]
  },
  {
   "cell_type": "code",
   "execution_count": 95,
   "id": "a0f6935b",
   "metadata": {},
   "outputs": [
    {
     "data": {
      "text/markdown": [
       "## 🏏🏆🏟️ **Cricket Channel Selected**\n",
       "\n",
       "# 🏏 **Virat Kohli: The Phenomenon of Cricket**\n",
       "\n",
       "Virat Kohli is not just a player; he is a phenomenon. He is widely regarded as one of the greatest batsmen in the history of the sport. A modern-day legend, his career is defined by incredible consistency, an insatiable hunger for runs, and a fierce competitive spirit.\n",
       "\n",
       "---\n",
       "\n",
       "## 🏆 **Highlights of His Career**\n",
       "- **Full Name:** Virat Kohli  \n",
       "- **Born:** November 5, 1988, in Delhi, India  \n",
       "- **Role:** Top-Order Batsman (Right-Handed)  \n",
       "- **Current Teams:** India (International), Royal Challengers Bangalore (IPL)  \n",
       "- **Nicknames:** King Kohli, The Chase Master, Run Machine  \n",
       "\n",
       "---\n",
       "\n",
       "## 📈 **Career Statistics**  \n",
       "* **Total Runs:** Over **26,000** international runs  \n",
       "* **Centuries:** **80** international centuries  \n",
       "  - **Test Centuries:** 29  \n",
       "  - **ODI Centuries:** 50 *(Highest ever)*  \n",
       "  - **T20I Centuries:** 1  \n",
       "\n",
       "#### 🔍 **Format Breakdown**  \n",
       "- **Test Cricket:**  \n",
       "  - **Matches:** 113 | **Runs:** 8,848 | **Average:** 49.16  \n",
       "  - **Highest Score:** 254  \n",
       "\n",
       "- **ODI Cricket:**  \n",
       "  - **Matches:** 292 | **Runs:** 13,848 | **Average:** 58.68  \n",
       "\n",
       "- **T20I Cricket:**  \n",
       "  - **Matches:** 117 | **Runs:** 4,037 | **Average:** 51.75  \n",
       "\n",
       "---\n",
       "\n",
       "## 🔥 **The Chase Master**  \n",
       "Kohli's ability to chase down targets in limited-overs cricket is legendary.  \n",
       "* **Average in Successful ODI Chases:** **90.90**  \n",
       "* **Centuries in Chases:** **26**  \n",
       "\n",
       "---\n",
       "\n",
       "## 🎖️ **Leadership**  \n",
       "He served as the captain of India across all formats from 2017 to 2022, leaving a legacy of fitness, aggression, and a never-say-die attitude.\n",
       "\n",
       "---\n",
       "\n",
       "## ⭐ **Legacy & Impact**  \n",
       "Virat Kohli's impact transcends statistics, inspiring millions of young athletes around the globe.\n",
       "\n",
       "### In Summary  \n",
       "**Virat Kohli** is the quintessential modern batsman—a blend of classical technique, explosive power, supreme fitness, and an unyielding will to win. His career is a masterclass in consistency and excellence, making him a vital force in cricket."
      ],
      "text/plain": [
       "<IPython.core.display.Markdown object>"
      ]
     },
     "metadata": {},
     "output_type": "display_data"
    }
   ],
   "source": [
    "message=\"virat kohli  ?\"\n",
    "with trace(\"responspible content\"):\n",
    "    result=await Runner.run(ResponsisbleContentManger,message)"
   ]
  },
  {
   "cell_type": "markdown",
   "id": "f7c79154",
   "metadata": {},
   "source": [
    "#Just see another way"
   ]
  },
  {
   "cell_type": "code",
   "execution_count": 54,
   "id": "97a76bab",
   "metadata": {},
   "outputs": [
    {
     "name": "stdout",
     "output_type": "stream",
     "text": [
      "✅ ALLOWED: What's the latest Bollywood movie?\n",
      "❌ BLOCKED: Tell me about hate speech\n",
      "✅ ALLOWED: Who is the best cricket player?\n",
      "❌ BLOCKED: How to scam people?\n"
     ]
    },
    {
     "name": "stderr",
     "output_type": "stream",
     "text": [
      "/var/folders/nc/2bjvclms3k13mrldbxsjxx780000gn/T/ipykernel_1640/4286803232.py:7: PydanticDeprecatedSince20: Pydantic V1 style `@validator` validators are deprecated. You should migrate to Pydantic V2 style `@field_validator` validators, see the migration guide for more details. Deprecated in Pydantic V2.0 to be removed in V3.0. See Pydantic V2 Migration Guide at https://errors.pydantic.dev/2.11/migration/\n",
      "  @validator('user_query')\n"
     ]
    }
   ],
   "source": [
    "from pydantic import BaseModel, Field, validator\n",
    "\n",
    "class SimpleInputGuard(BaseModel):\n",
    "    \"\"\"Simple Pydantic model to block inappropriate words\"\"\"\n",
    "    user_query: str = Field(..., description=\"User's question\")\n",
    "    \n",
    "    @validator('user_query')\n",
    "    def block_inappropriate_words(cls, v):\n",
    "        \"\"\"Block queries with inappropriate words\"\"\"\n",
    "        \n",
    "        # List of inappropriate words to block\n",
    "        inappropriate_words = [\n",
    "            \"hate\", \"violence\", \"spam\", \"scam\", \"fraud\", \"illegal\",\n",
    "            \"harmful\", \"dangerous\", \"toxic\", \"abuse\", \"harassment\"\n",
    "        ]\n",
    "        \n",
    "        # Check if any inappropriate word is in the query\n",
    "        query_lower = v.lower()\n",
    "        found_bad_words = [word for word in inappropriate_words if word in query_lower]\n",
    "        \n",
    "        if found_bad_words:\n",
    "            raise ValueError(f\"Blocked: Contains inappropriate words: {found_bad_words}\")\n",
    "        \n",
    "        return v\n",
    "\n",
    "# Simple guardrail function\n",
    "def simple_input_guardrail(user_query: str) -> str:\n",
    "    \"\"\"Simple input guardrail using Pydantic\"\"\"\n",
    "    try:\n",
    "        # Validate using Pydantic\n",
    "        validated = SimpleInputGuard(user_query=user_query)\n",
    "        return validated.user_query\n",
    "    except Exception as e:\n",
    "        return str(e)\n",
    "\n",
    "# Test it\n",
    "test_queries = [\n",
    "    \"What's the latest Bollywood movie?\",  # ✅ Good\n",
    "    \"Tell me about hate speech\",           # ❌ Bad\n",
    "    \"Who is the best cricket player?\",     # ✅ Good\n",
    "    \"How to scam people?\",                 # ❌ Bad\n",
    "]\n",
    "\n",
    "for query in test_queries:\n",
    "    result = simple_input_guardrail(query)\n",
    "    if \"Blocked:\" in result:\n",
    "        print(f\"❌ BLOCKED: {query}\")\n",
    "    else:\n",
    "        print(f\"✅ ALLOWED: {query}\")"
   ]
  },
  {
   "cell_type": "code",
   "execution_count": null,
   "id": "4935452b",
   "metadata": {},
   "outputs": [],
   "source": [
    "# Add this after your agent definitions (around cell 9)\n",
    "\n",
    "@input_guardrail\n",
    "def validate_user_input(user_query: str) -> str:\n",
    "    \"\"\"Validate and filter user input\"\"\"\n",
    "    \n",
    "    # Block inappropriate content\n",
    "    inappropriate_words = [\"hate\", \"violence\", \"spam\", \"scam\",\"nude\",\"porn\",\"ass\"]\n",
    "    if any(word in user_query.lower() for word in inappropriate_words):\n",
    "        return \"I cannot process this type of request. Please ask about Bollywood, Cricket, or Space/Science topics.\"\n",
    "    \n",
    "    # Ensure query is not too long\n",
    "    if len(user_query) > 500:\n",
    "        return \"Your question is too long. Please keep it under 500 characters.\"\n",
    "    \n",
    "    # Ensure query is not empty\n",
    "    if not user_query.strip():\n",
    "        return \"Please provide a valid question.\"\n",
    "    \n",
    "    return user_query\n",
    "\n",
    "# Apply to your agents\n",
    "BollyAgent.add_input_guardrail(validate_user_input)\n",
    "CricAgent.add_input_guardrail(validate_user_input)\n",
    "SpaceAgent.add_input_guardrail(validate_user_input)"
   ]
  }
 ],
 "metadata": {
  "kernelspec": {
   "display_name": ".venv",
   "language": "python",
   "name": "python3"
  },
  "language_info": {
   "codemirror_mode": {
    "name": "ipython",
    "version": 3
   },
   "file_extension": ".py",
   "mimetype": "text/x-python",
   "name": "python",
   "nbconvert_exporter": "python",
   "pygments_lexer": "ipython3",
   "version": "3.12.4"
  }
 },
 "nbformat": 4,
 "nbformat_minor": 5
}
