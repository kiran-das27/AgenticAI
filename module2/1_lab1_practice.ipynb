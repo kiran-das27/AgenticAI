{
 "cells": [
  {
   "cell_type": "code",
   "execution_count": 1,
   "id": "3a66a130",
   "metadata": {},
   "outputs": [],
   "source": [
    "from dotenv import load_dotenv\n",
    "from agents import Agent,Runner,trace"
   ]
  },
  {
   "cell_type": "code",
   "execution_count": 2,
   "metadata": {},
   "outputs": [
    {
     "data": {
      "text/plain": [
       "True"
      ]
     },
     "execution_count": 2,
     "metadata": {},
     "output_type": "execute_result"
    }
   ],
   "source": [
    "load_dotenv(override=True)"
   ]
  },
  {
   "cell_type": "code",
   "execution_count": 9,
   "id": "0ffea1c1",
   "metadata": {},
   "outputs": [],
   "source": [
    "agent=Agent(name=\"BollywoodNewsJunction\",model=\"gpt-4o-mini\",instructions=\"You are Bollywood film fanatic and specialised.You have only Info of bOllywood Nothing else.dont rely on your pretrained data . if require use latest from internet and reliable sources . dont just assume and ny info outside bollywood you shoul response as i dont know \")"
   ]
  },
  {
   "cell_type": "markdown",
   "id": "6e9d5752",
   "metadata": {},
   "source": [
    "what is a coroutine?\n",
    "A coroutine is an async function (created with async def) that can pause and resume.\n",
    "Calling an async function returns a coroutine object (not the result). It must be awaited or scheduled.\n",
    "What does await do?\n",
    "await pauses the current coroutine until the awaited awaitable (another coroutine, Task, or Future) completes.\n",
    "While paused, the event loop can run other coroutines → concurrency without threads.\n",
    "Why it matters\n",
    "Avoids blocking the event loop on I/O (HTTP calls, DB, sleep).\n",
    "Improves throughput for many small I/O-bound tasks.\n",
    "Rules\n",
    "Use await only inside async def.\n",
    "If you don’t await a coroutine, it won’t run (or you’ll get a warning).\n",
    "Minimal examples\n",
    "Run two I/O tasks concurrently:"
   ]
  },
  {
   "cell_type": "markdown",
   "id": "f9cf0467",
   "metadata": {},
   "source": [
    "### Think of a normal function like a vending machine: you press the button and wait right there until it gives you the snack. That’s a regular call.\n",
    "A coroutine is like taking a token, stepping aside, and the clerk will call you when it’s ready. You don’t block the line. await just means “I’ll wait here until my token is called.”\n",
    "Plain Python analogy (no asyncio code):"
   ]
  },
  {
   "cell_type": "code",
   "execution_count": 14,
   "id": "a4e0ca39",
   "metadata": {},
   "outputs": [],
   "source": [
    "# example of coroutine \n",
    "\n",
    "async def do_some_work() -> str: # its no longer a function instead its a coroutine\n",
    "    #do some work\n",
    "    return \"hi\""
   ]
  },
  {
   "cell_type": "code",
   "execution_count": 15,
   "id": "6c0d5096",
   "metadata": {},
   "outputs": [
    {
     "data": {
      "text/plain": [
       "<coroutine object do_some_work at 0x10f05e980>"
      ]
     },
     "execution_count": 15,
     "metadata": {},
     "output_type": "execute_result"
    }
   ],
   "source": [
    "result1=do_some_work()\n",
    "result1 # returns a coroutine object "
   ]
  },
  {
   "cell_type": "code",
   "execution_count": null,
   "id": "112b4350",
   "metadata": {},
   "outputs": [
    {
     "data": {
      "text/plain": [
       "'hi'"
      ]
     },
     "execution_count": 16,
     "metadata": {},
     "output_type": "execute_result"
    }
   ],
   "source": [
    "result= await do_some_work() #actual calling \n",
    "result"
   ]
  },
  {
   "cell_type": "code",
   "execution_count": null,
   "id": "411a5ef1",
   "metadata": {},
   "outputs": [
    {
     "name": "stdout",
     "output_type": "stream",
     "text": [
      "I don't have information beyond October 2021, so I can't provide details about Akshay Kumar's latest movie in 2025. You might want to check recent news or film databases for the latest updates on his projects. If you have questions about his earlier films or other Bollywood topics, feel free to ask!\n"
     ]
    }
   ],
   "source": [
    "with trace(\"Bollywood Insight\"):\n",
    "    result= await Runner.run(agent,\"Tell me  about Akshay kumar latest movie in 2025.\") #Runner.run is coroutine \n",
    "    #result1=Runner.run(\"wher is vivek oberio now a days\") # it will not run its just a courroutine \n",
    "    print(result.final_output)\n"
   ]
  },
  {
   "cell_type": "markdown",
   "id": "2068ca54",
   "metadata": {},
   "source": [
    "## Now go and look at the trace\n",
    "\n",
    "https://platform.openai.com/traces"
   ]
  },
  {
   "cell_type": "markdown",
   "metadata": {},
   "source": []
  }
 ],
 "metadata": {
  "kernelspec": {
   "display_name": ".venv",
   "language": "python",
   "name": "python3"
  },
  "language_info": {
   "codemirror_mode": {
    "name": "ipython",
    "version": 3
   },
   "file_extension": ".py",
   "mimetype": "text/x-python",
   "name": "python",
   "nbconvert_exporter": "python",
   "pygments_lexer": "ipython3",
   "version": "3.12.4"
  }
 },
 "nbformat": 4,
 "nbformat_minor": 5
}
