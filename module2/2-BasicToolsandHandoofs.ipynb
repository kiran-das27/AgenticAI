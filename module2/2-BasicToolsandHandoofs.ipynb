{
 "cells": [
  {
   "cell_type": "markdown",
   "id": "ae7bc27c",
   "metadata": {},
   "source": [
    "# Simple agent "
   ]
  },
  {
   "cell_type": "code",
   "execution_count": 2,
   "id": "fd49b650",
   "metadata": {},
   "outputs": [],
   "source": [
    "from dotenv import load_dotenv\n",
    "from openai import OpenAI\n",
    "from agents import Agent , Runner , trace ,function_tool\n",
    "from openai.types.responses import ResponseTextDeltaEvent\n",
    "import os\n",
    "import asyncio"
   ]
  },
  {
   "cell_type": "code",
   "execution_count": 3,
   "id": "9b7fbcb9",
   "metadata": {},
   "outputs": [
    {
     "data": {
      "text/plain": [
       "True"
      ]
     },
     "execution_count": 3,
     "metadata": {},
     "output_type": "execute_result"
    }
   ],
   "source": [
    "load_dotenv(override=True)"
   ]
  },
  {
   "cell_type": "code",
   "execution_count": 4,
   "id": "9e373449",
   "metadata": {},
   "outputs": [],
   "source": [
    "instruction1 = \"You are Cricket Fanatic. You have extreme knowledge in cricket and includes records, statistics, player info and many other. Answer only to this context and nothing else .Kepp it concise\"\n",
    "instruction2 = \"You are Bollywood Fanatic. You know all info about bollywood , celibrites, box office, release, actor and actress ifo etc etc. Answer only to this context and nothing else . Keep it Concise\"\n"
   ]
  },
  {
   "cell_type": "code",
   "execution_count": 5,
   "id": "bbfd8c25",
   "metadata": {},
   "outputs": [],
   "source": [
    "bollywood_agent=Agent(name=\"Bollywood crazy\",model=\"gpt-4o-mini\",instructions=instruction2)\n",
    "cricket_agent=Agent(name=\"Cricket Agent\",model=\"gpt-4o-mini\",instructions=instruction1)"
   ]
  },
  {
   "cell_type": "code",
   "execution_count": 6,
   "id": "f4804981",
   "metadata": {},
   "outputs": [
    {
     "data": {
      "text/plain": [
       "<coroutine object Runner.run at 0x114b25470>"
      ]
     },
     "execution_count": 6,
     "metadata": {},
     "output_type": "execute_result"
    }
   ],
   "source": [
    "response=Runner.run(bollywood_agent,\"Tell me no of films done by akshay kumar.Is he the highest paid?\")\n",
    "response\n",
    "#its a co-routine\n"
   ]
  },
  {
   "cell_type": "code",
   "execution_count": 7,
   "id": "af1199ae",
   "metadata": {},
   "outputs": [
    {
     "name": "stdout",
     "output_type": "stream",
     "text": [
      "RunResult:\n",
      "- Last agent: Agent(name=\"Bollywood crazy\", ...)\n",
      "- Final output (str):\n",
      "    As of now, Akshay Kumar has acted in over 150 films. He is one of the highest-paid actors in Bollywood, often ranking at the top of the list for his earnings per film and overall income.\n",
      "- 1 new item(s)\n",
      "- 1 raw response(s)\n",
      "- 0 input guardrail result(s)\n",
      "- 0 output guardrail result(s)\n",
      "(See `RunResult` for more details)\n"
     ]
    }
   ],
   "source": [
    "result=await response # it executes coroutine\n",
    "print(result)"
   ]
  },
  {
   "cell_type": "code",
   "execution_count": 8,
   "id": "5ca4aca8",
   "metadata": {},
   "outputs": [
    {
     "data": {
      "text/markdown": [
       " ### --BollywoodCrazy Channel -- \n",
       "\n",
       " #### As of now, Akshay Kumar has acted in over 150 films. He is one of the highest-paid actors in Bollywood, often ranking at the top of the list for his earnings per film and overall income. "
      ],
      "text/plain": [
       "<IPython.core.display.Markdown object>"
      ]
     },
     "metadata": {},
     "output_type": "display_data"
    }
   ],
   "source": [
    "from IPython.display import display,Markdown\n",
    "\n",
    "display(Markdown(f\" ### --BollywoodCrazy Channel -- \\n\\n #### {result.final_output} \"))"
   ]
  },
  {
   "cell_type": "code",
   "execution_count": 9,
   "id": "7bf24944",
   "metadata": {},
   "outputs": [
    {
     "data": {
      "text/markdown": [
       "### Cricket Mania \n",
       "\n",
       " Here's a summary of Virat Kohli's statistics across T20Is, ODIs, and Tests:\n",
       "\n",
       "| Format  | Matches | Innings | Runs  | Average | Centuries | Fifties | Strike Rate |\n",
       "|---------|---------|---------|-------|---------|-----------|---------|-------------|\n",
       "| T20I    | 109     | 99      | 4008  | 52.73   | 1         | 37      | 138.22      |\n",
       "| ODI     | 274     | 253     | 13348 | 57.75   | 47        | 96      | 87.50       |\n",
       "| Test    | 111     | 194     | 8819  | 49.18   | 28        | 28      | 57.77       |\n",
       "\n",
       "*Note: Statistics are subject to change as Kohli is an active player.* "
      ],
      "text/plain": [
       "<IPython.core.display.Markdown object>"
      ]
     },
     "metadata": {},
     "output_type": "display_data"
    }
   ],
   "source": [
    "response2= await Runner.run(cricket_agent,\"virat kohli statistics in tabular format in T20I's, ODI AND TEST\")\n",
    "display(Markdown(f'''### Cricket Mania \\n\\n {response2.final_output} '''))"
   ]
  },
  {
   "cell_type": "markdown",
   "id": "e877f4fa",
   "metadata": {},
   "source": [
    "# Lets stream the output and add trace "
   ]
  },
  {
   "cell_type": "code",
   "execution_count": 10,
   "id": "c3d37f0c",
   "metadata": {},
   "outputs": [
    {
     "name": "stdout",
     "output_type": "stream",
     "text": [
      "AgentUpdatedStreamEvent(new_agent=Agent(name='Cricket Agent', instructions='You are Cricket Fanatic. You have extreme knowledge in cricket and includes records, statistics, player info and many other. Answer only to this context and nothing else .Kepp it concise', prompt=None, handoff_description=None, handoffs=[], model='gpt-4o-mini', model_settings=ModelSettings(temperature=None, top_p=None, frequency_penalty=None, presence_penalty=None, tool_choice=None, parallel_tool_calls=None, truncation=None, max_tokens=None, reasoning=None, metadata=None, store=None, include_usage=None, extra_query=None, extra_body=None, extra_headers=None, extra_args=None), tools=[], mcp_servers=[], mcp_config={}, input_guardrails=[], output_guardrails=[], output_type=None, hooks=None, tool_use_behavior='run_llm_again', reset_tool_choice=True), type='agent_updated_stream_event')\n",
      "RawResponsesStreamEvent(data=ResponseCreatedEvent(response=Response(id='resp_0e0d34631008d0eb0068e10d796fd481969e6e44f6fc347afe', created_at=1759579513.0, error=None, incomplete_details=None, instructions='You are Cricket Fanatic. You have extreme knowledge in cricket and includes records, statistics, player info and many other. Answer only to this context and nothing else .Kepp it concise', metadata={}, model='gpt-4o-mini-2024-07-18', object='response', output=[], parallel_tool_calls=True, temperature=1.0, tool_choice='auto', tools=[], top_p=1.0, background=False, max_output_tokens=None, previous_response_id=None, prompt=None, reasoning=Reasoning(effort=None, generate_summary=None, summary=None), service_tier='auto', status='in_progress', text=ResponseTextConfig(format=ResponseFormatText(type='text'), verbosity='medium'), truncation='disabled', usage=None, user=None, max_tool_calls=None, prompt_cache_key=None, safety_identifier=None, store=True, top_logprobs=0), sequence_number=0, type='response.created'), type='raw_response_event')\n",
      "RawResponsesStreamEvent(data=ResponseInProgressEvent(response=Response(id='resp_0e0d34631008d0eb0068e10d796fd481969e6e44f6fc347afe', created_at=1759579513.0, error=None, incomplete_details=None, instructions='You are Cricket Fanatic. You have extreme knowledge in cricket and includes records, statistics, player info and many other. Answer only to this context and nothing else .Kepp it concise', metadata={}, model='gpt-4o-mini-2024-07-18', object='response', output=[], parallel_tool_calls=True, temperature=1.0, tool_choice='auto', tools=[], top_p=1.0, background=False, max_output_tokens=None, previous_response_id=None, prompt=None, reasoning=Reasoning(effort=None, generate_summary=None, summary=None), service_tier='auto', status='in_progress', text=ResponseTextConfig(format=ResponseFormatText(type='text'), verbosity='medium'), truncation='disabled', usage=None, user=None, max_tool_calls=None, prompt_cache_key=None, safety_identifier=None, store=True, top_logprobs=0), sequence_number=1, type='response.in_progress'), type='raw_response_event')\n",
      "RawResponsesStreamEvent(data=ResponseOutputItemAddedEvent(item=ResponseOutputMessage(id='msg_0e0d34631008d0eb0068e10d7a18548196a8427d443fa71e91', content=[], role='assistant', status='in_progress', type='message'), output_index=0, sequence_number=2, type='response.output_item.added'), type='raw_response_event')\n",
      "RawResponsesStreamEvent(data=ResponseContentPartAddedEvent(content_index=0, item_id='msg_0e0d34631008d0eb0068e10d7a18548196a8427d443fa71e91', output_index=0, part=ResponseOutputText(annotations=[], text='', type='output_text', logprobs=[]), sequence_number=3, type='response.content_part.added'), type='raw_response_event')\n",
      "RawResponsesStreamEvent(data=ResponseTextDeltaEvent(content_index=0, delta='Here', item_id='msg_0e0d34631008d0eb0068e10d7a18548196a8427d443fa71e91', output_index=0, sequence_number=4, type='response.output_text.delta', logprobs=[], obfuscation='idYf5d8Y65VM'), type='raw_response_event')\n",
      "RawResponsesStreamEvent(data=ResponseTextDeltaEvent(content_index=0, delta=' are', item_id='msg_0e0d34631008d0eb0068e10d7a18548196a8427d443fa71e91', output_index=0, sequence_number=5, type='response.output_text.delta', logprobs=[], obfuscation='2imFtQ5Bd42U'), type='raw_response_event')\n",
      "RawResponsesStreamEvent(data=ResponseTextDeltaEvent(content_index=0, delta=' Vir', item_id='msg_0e0d34631008d0eb0068e10d7a18548196a8427d443fa71e91', output_index=0, sequence_number=6, type='response.output_text.delta', logprobs=[], obfuscation='sjL8Xaxo31Ya'), type='raw_response_event')\n",
      "RawResponsesStreamEvent(data=ResponseTextDeltaEvent(content_index=0, delta='at', item_id='msg_0e0d34631008d0eb0068e10d7a18548196a8427d443fa71e91', output_index=0, sequence_number=7, type='response.output_text.delta', logprobs=[], obfuscation='imaBai1ELjYDI5'), type='raw_response_event')\n",
      "RawResponsesStreamEvent(data=ResponseTextDeltaEvent(content_index=0, delta=' Koh', item_id='msg_0e0d34631008d0eb0068e10d7a18548196a8427d443fa71e91', output_index=0, sequence_number=8, type='response.output_text.delta', logprobs=[], obfuscation='lAUsvMbF8uJz'), type='raw_response_event')\n",
      "RawResponsesStreamEvent(data=ResponseTextDeltaEvent(content_index=0, delta='li', item_id='msg_0e0d34631008d0eb0068e10d7a18548196a8427d443fa71e91', output_index=0, sequence_number=9, type='response.output_text.delta', logprobs=[], obfuscation='ZxrQPH7KIZL71H'), type='raw_response_event')\n",
      "RawResponsesStreamEvent(data=ResponseTextDeltaEvent(content_index=0, delta=\"'s\", item_id='msg_0e0d34631008d0eb0068e10d7a18548196a8427d443fa71e91', output_index=0, sequence_number=10, type='response.output_text.delta', logprobs=[], obfuscation='26aTVCZb87FLZB'), type='raw_response_event')\n",
      "RawResponsesStreamEvent(data=ResponseTextDeltaEvent(content_index=0, delta=' statistics', item_id='msg_0e0d34631008d0eb0068e10d7a18548196a8427d443fa71e91', output_index=0, sequence_number=11, type='response.output_text.delta', logprobs=[], obfuscation='KXXPN'), type='raw_response_event')\n",
      "RawResponsesStreamEvent(data=ResponseTextDeltaEvent(content_index=0, delta=' in', item_id='msg_0e0d34631008d0eb0068e10d7a18548196a8427d443fa71e91', output_index=0, sequence_number=12, type='response.output_text.delta', logprobs=[], obfuscation='QtWPARNyuFhKH'), type='raw_response_event')\n",
      "RawResponsesStreamEvent(data=ResponseTextDeltaEvent(content_index=0, delta=' T', item_id='msg_0e0d34631008d0eb0068e10d7a18548196a8427d443fa71e91', output_index=0, sequence_number=13, type='response.output_text.delta', logprobs=[], obfuscation='Eaj6nDVuHBRFRc'), type='raw_response_event')\n",
      "RawResponsesStreamEvent(data=ResponseTextDeltaEvent(content_index=0, delta='20', item_id='msg_0e0d34631008d0eb0068e10d7a18548196a8427d443fa71e91', output_index=0, sequence_number=14, type='response.output_text.delta', logprobs=[], obfuscation='h6sGIQjBALnbL2'), type='raw_response_event')\n",
      "RawResponsesStreamEvent(data=ResponseTextDeltaEvent(content_index=0, delta=',', item_id='msg_0e0d34631008d0eb0068e10d7a18548196a8427d443fa71e91', output_index=0, sequence_number=15, type='response.output_text.delta', logprobs=[], obfuscation='ZZuFCbPA4aPSUBJ'), type='raw_response_event')\n",
      "RawResponsesStreamEvent(data=ResponseTextDeltaEvent(content_index=0, delta=' ODI', item_id='msg_0e0d34631008d0eb0068e10d7a18548196a8427d443fa71e91', output_index=0, sequence_number=16, type='response.output_text.delta', logprobs=[], obfuscation='N0GAGW1Pe7dL'), type='raw_response_event')\n",
      "RawResponsesStreamEvent(data=ResponseTextDeltaEvent(content_index=0, delta=',', item_id='msg_0e0d34631008d0eb0068e10d7a18548196a8427d443fa71e91', output_index=0, sequence_number=17, type='response.output_text.delta', logprobs=[], obfuscation='RHdgMlWbXUwa0CG'), type='raw_response_event')\n",
      "RawResponsesStreamEvent(data=ResponseTextDeltaEvent(content_index=0, delta=' and', item_id='msg_0e0d34631008d0eb0068e10d7a18548196a8427d443fa71e91', output_index=0, sequence_number=18, type='response.output_text.delta', logprobs=[], obfuscation='W35ELccLK9Q9'), type='raw_response_event')\n",
      "RawResponsesStreamEvent(data=ResponseTextDeltaEvent(content_index=0, delta=' Test', item_id='msg_0e0d34631008d0eb0068e10d7a18548196a8427d443fa71e91', output_index=0, sequence_number=19, type='response.output_text.delta', logprobs=[], obfuscation='3tEmDrLF3Gr'), type='raw_response_event')\n",
      "RawResponsesStreamEvent(data=ResponseTextDeltaEvent(content_index=0, delta=' formats', item_id='msg_0e0d34631008d0eb0068e10d7a18548196a8427d443fa71e91', output_index=0, sequence_number=20, type='response.output_text.delta', logprobs=[], obfuscation='wxr7dQ3z'), type='raw_response_event')\n",
      "RawResponsesStreamEvent(data=ResponseTextDeltaEvent(content_index=0, delta=':\\n\\n', item_id='msg_0e0d34631008d0eb0068e10d7a18548196a8427d443fa71e91', output_index=0, sequence_number=21, type='response.output_text.delta', logprobs=[], obfuscation='O8y95cPDsEfbb'), type='raw_response_event')\n",
      "RawResponsesStreamEvent(data=ResponseTextDeltaEvent(content_index=0, delta='|', item_id='msg_0e0d34631008d0eb0068e10d7a18548196a8427d443fa71e91', output_index=0, sequence_number=22, type='response.output_text.delta', logprobs=[], obfuscation='kJoDetlkddt3QFF'), type='raw_response_event')\n",
      "RawResponsesStreamEvent(data=ResponseTextDeltaEvent(content_index=0, delta=' Format', item_id='msg_0e0d34631008d0eb0068e10d7a18548196a8427d443fa71e91', output_index=0, sequence_number=23, type='response.output_text.delta', logprobs=[], obfuscation='ScQFoSzZd'), type='raw_response_event')\n",
      "RawResponsesStreamEvent(data=ResponseTextDeltaEvent(content_index=0, delta='   ', item_id='msg_0e0d34631008d0eb0068e10d7a18548196a8427d443fa71e91', output_index=0, sequence_number=24, type='response.output_text.delta', logprobs=[], obfuscation='zPzYayFVvJWAr'), type='raw_response_event')\n",
      "RawResponsesStreamEvent(data=ResponseTextDeltaEvent(content_index=0, delta=' |', item_id='msg_0e0d34631008d0eb0068e10d7a18548196a8427d443fa71e91', output_index=0, sequence_number=25, type='response.output_text.delta', logprobs=[], obfuscation='edhPpswhGTGFv8'), type='raw_response_event')\n",
      "RawResponsesStreamEvent(data=ResponseTextDeltaEvent(content_index=0, delta=' Matches', item_id='msg_0e0d34631008d0eb0068e10d7a18548196a8427d443fa71e91', output_index=0, sequence_number=26, type='response.output_text.delta', logprobs=[], obfuscation='n31pmMhk'), type='raw_response_event')\n",
      "RawResponsesStreamEvent(data=ResponseTextDeltaEvent(content_index=0, delta=' |', item_id='msg_0e0d34631008d0eb0068e10d7a18548196a8427d443fa71e91', output_index=0, sequence_number=27, type='response.output_text.delta', logprobs=[], obfuscation='v0NwElfYoX9HjB'), type='raw_response_event')\n",
      "RawResponsesStreamEvent(data=ResponseTextDeltaEvent(content_index=0, delta=' Inn', item_id='msg_0e0d34631008d0eb0068e10d7a18548196a8427d443fa71e91', output_index=0, sequence_number=28, type='response.output_text.delta', logprobs=[], obfuscation='PPffnn766M52'), type='raw_response_event')\n",
      "RawResponsesStreamEvent(data=ResponseTextDeltaEvent(content_index=0, delta='ings', item_id='msg_0e0d34631008d0eb0068e10d7a18548196a8427d443fa71e91', output_index=0, sequence_number=29, type='response.output_text.delta', logprobs=[], obfuscation='hemnYRwn0k9d'), type='raw_response_event')\n",
      "RawResponsesStreamEvent(data=ResponseTextDeltaEvent(content_index=0, delta=' |', item_id='msg_0e0d34631008d0eb0068e10d7a18548196a8427d443fa71e91', output_index=0, sequence_number=30, type='response.output_text.delta', logprobs=[], obfuscation='755qym6eti5q8a'), type='raw_response_event')\n",
      "RawResponsesStreamEvent(data=ResponseTextDeltaEvent(content_index=0, delta=' Runs', item_id='msg_0e0d34631008d0eb0068e10d7a18548196a8427d443fa71e91', output_index=0, sequence_number=31, type='response.output_text.delta', logprobs=[], obfuscation='aNoLrShnx7Z'), type='raw_response_event')\n",
      "RawResponsesStreamEvent(data=ResponseTextDeltaEvent(content_index=0, delta=' ', item_id='msg_0e0d34631008d0eb0068e10d7a18548196a8427d443fa71e91', output_index=0, sequence_number=32, type='response.output_text.delta', logprobs=[], obfuscation='xeM8xidnBD3a5q2'), type='raw_response_event')\n",
      "RawResponsesStreamEvent(data=ResponseTextDeltaEvent(content_index=0, delta=' |', item_id='msg_0e0d34631008d0eb0068e10d7a18548196a8427d443fa71e91', output_index=0, sequence_number=33, type='response.output_text.delta', logprobs=[], obfuscation='vDVIrkfcmzsL0R'), type='raw_response_event')\n",
      "RawResponsesStreamEvent(data=ResponseTextDeltaEvent(content_index=0, delta=' Average', item_id='msg_0e0d34631008d0eb0068e10d7a18548196a8427d443fa71e91', output_index=0, sequence_number=34, type='response.output_text.delta', logprobs=[], obfuscation='5LspxUOp'), type='raw_response_event')\n",
      "RawResponsesStreamEvent(data=ResponseTextDeltaEvent(content_index=0, delta=' |', item_id='msg_0e0d34631008d0eb0068e10d7a18548196a8427d443fa71e91', output_index=0, sequence_number=35, type='response.output_text.delta', logprobs=[], obfuscation='T7WweakL5PkyQu'), type='raw_response_event')\n",
      "RawResponsesStreamEvent(data=ResponseTextDeltaEvent(content_index=0, delta=' ', item_id='msg_0e0d34631008d0eb0068e10d7a18548196a8427d443fa71e91', output_index=0, sequence_number=36, type='response.output_text.delta', logprobs=[], obfuscation='zqUCWJ5ttPlgK5u'), type='raw_response_event')\n",
      "RawResponsesStreamEvent(data=ResponseTextDeltaEvent(content_index=0, delta='100', item_id='msg_0e0d34631008d0eb0068e10d7a18548196a8427d443fa71e91', output_index=0, sequence_number=37, type='response.output_text.delta', logprobs=[], obfuscation='Ya9oog4ZVxpjS'), type='raw_response_event')\n",
      "RawResponsesStreamEvent(data=ResponseTextDeltaEvent(content_index=0, delta='s', item_id='msg_0e0d34631008d0eb0068e10d7a18548196a8427d443fa71e91', output_index=0, sequence_number=38, type='response.output_text.delta', logprobs=[], obfuscation='Yk4ckaDX1tlgo6H'), type='raw_response_event')\n",
      "RawResponsesStreamEvent(data=ResponseTextDeltaEvent(content_index=0, delta=' |', item_id='msg_0e0d34631008d0eb0068e10d7a18548196a8427d443fa71e91', output_index=0, sequence_number=39, type='response.output_text.delta', logprobs=[], obfuscation='AwKCzQ67Pi36W3'), type='raw_response_event')\n",
      "RawResponsesStreamEvent(data=ResponseTextDeltaEvent(content_index=0, delta=' ', item_id='msg_0e0d34631008d0eb0068e10d7a18548196a8427d443fa71e91', output_index=0, sequence_number=40, type='response.output_text.delta', logprobs=[], obfuscation='ST59Mzgg58AGej9'), type='raw_response_event')\n",
      "RawResponsesStreamEvent(data=ResponseTextDeltaEvent(content_index=0, delta='50', item_id='msg_0e0d34631008d0eb0068e10d7a18548196a8427d443fa71e91', output_index=0, sequence_number=41, type='response.output_text.delta', logprobs=[], obfuscation='oDVDRTzXSIWqsC'), type='raw_response_event')\n",
      "RawResponsesStreamEvent(data=ResponseTextDeltaEvent(content_index=0, delta='s', item_id='msg_0e0d34631008d0eb0068e10d7a18548196a8427d443fa71e91', output_index=0, sequence_number=42, type='response.output_text.delta', logprobs=[], obfuscation='HiBLxcG1BzMISai'), type='raw_response_event')\n",
      "RawResponsesStreamEvent(data=ResponseTextDeltaEvent(content_index=0, delta=' |', item_id='msg_0e0d34631008d0eb0068e10d7a18548196a8427d443fa71e91', output_index=0, sequence_number=43, type='response.output_text.delta', logprobs=[], obfuscation='flxnGulyShfKuP'), type='raw_response_event')\n",
      "RawResponsesStreamEvent(data=ResponseTextDeltaEvent(content_index=0, delta=' Strike', item_id='msg_0e0d34631008d0eb0068e10d7a18548196a8427d443fa71e91', output_index=0, sequence_number=44, type='response.output_text.delta', logprobs=[], obfuscation='GMwaOQRA9'), type='raw_response_event')\n",
      "RawResponsesStreamEvent(data=ResponseTextDeltaEvent(content_index=0, delta=' Rate', item_id='msg_0e0d34631008d0eb0068e10d7a18548196a8427d443fa71e91', output_index=0, sequence_number=45, type='response.output_text.delta', logprobs=[], obfuscation='dIk1qX7DXuC'), type='raw_response_event')\n",
      "RawResponsesStreamEvent(data=ResponseTextDeltaEvent(content_index=0, delta=' |\\n', item_id='msg_0e0d34631008d0eb0068e10d7a18548196a8427d443fa71e91', output_index=0, sequence_number=46, type='response.output_text.delta', logprobs=[], obfuscation='bejwJs6l5knrq'), type='raw_response_event')\n",
      "RawResponsesStreamEvent(data=ResponseTextDeltaEvent(content_index=0, delta='|', item_id='msg_0e0d34631008d0eb0068e10d7a18548196a8427d443fa71e91', output_index=0, sequence_number=47, type='response.output_text.delta', logprobs=[], obfuscation='1iV8nHqA0XdGDQt'), type='raw_response_event')\n",
      "RawResponsesStreamEvent(data=ResponseTextDeltaEvent(content_index=0, delta='-----------', item_id='msg_0e0d34631008d0eb0068e10d7a18548196a8427d443fa71e91', output_index=0, sequence_number=48, type='response.output_text.delta', logprobs=[], obfuscation='r0Czi'), type='raw_response_event')\n",
      "RawResponsesStreamEvent(data=ResponseTextDeltaEvent(content_index=0, delta='|', item_id='msg_0e0d34631008d0eb0068e10d7a18548196a8427d443fa71e91', output_index=0, sequence_number=49, type='response.output_text.delta', logprobs=[], obfuscation='R00NcktSy0096Ge'), type='raw_response_event')\n",
      "RawResponsesStreamEvent(data=ResponseTextDeltaEvent(content_index=0, delta='---------', item_id='msg_0e0d34631008d0eb0068e10d7a18548196a8427d443fa71e91', output_index=0, sequence_number=50, type='response.output_text.delta', logprobs=[], obfuscation='TfhhINF'), type='raw_response_event')\n",
      "RawResponsesStreamEvent(data=ResponseTextDeltaEvent(content_index=0, delta='|', item_id='msg_0e0d34631008d0eb0068e10d7a18548196a8427d443fa71e91', output_index=0, sequence_number=51, type='response.output_text.delta', logprobs=[], obfuscation='6TRaulESFPoMWNa'), type='raw_response_event')\n",
      "RawResponsesStreamEvent(data=ResponseTextDeltaEvent(content_index=0, delta='---------', item_id='msg_0e0d34631008d0eb0068e10d7a18548196a8427d443fa71e91', output_index=0, sequence_number=52, type='response.output_text.delta', logprobs=[], obfuscation='e3rQsgS'), type='raw_response_event')\n",
      "RawResponsesStreamEvent(data=ResponseTextDeltaEvent(content_index=0, delta='|', item_id='msg_0e0d34631008d0eb0068e10d7a18548196a8427d443fa71e91', output_index=0, sequence_number=53, type='response.output_text.delta', logprobs=[], obfuscation='h7jiJOUuZ1xdYGw'), type='raw_response_event')\n",
      "RawResponsesStreamEvent(data=ResponseTextDeltaEvent(content_index=0, delta='-------', item_id='msg_0e0d34631008d0eb0068e10d7a18548196a8427d443fa71e91', output_index=0, sequence_number=54, type='response.output_text.delta', logprobs=[], obfuscation='jQ42i5IiD'), type='raw_response_event')\n",
      "RawResponsesStreamEvent(data=ResponseTextDeltaEvent(content_index=0, delta='|', item_id='msg_0e0d34631008d0eb0068e10d7a18548196a8427d443fa71e91', output_index=0, sequence_number=55, type='response.output_text.delta', logprobs=[], obfuscation='1GczriJKJrMwynB'), type='raw_response_event')\n",
      "RawResponsesStreamEvent(data=ResponseTextDeltaEvent(content_index=0, delta='---------', item_id='msg_0e0d34631008d0eb0068e10d7a18548196a8427d443fa71e91', output_index=0, sequence_number=56, type='response.output_text.delta', logprobs=[], obfuscation='uo1nqI7'), type='raw_response_event')\n",
      "RawResponsesStreamEvent(data=ResponseTextDeltaEvent(content_index=0, delta='|', item_id='msg_0e0d34631008d0eb0068e10d7a18548196a8427d443fa71e91', output_index=0, sequence_number=57, type='response.output_text.delta', logprobs=[], obfuscation='xdi9651odJcnfuB'), type='raw_response_event')\n",
      "RawResponsesStreamEvent(data=ResponseTextDeltaEvent(content_index=0, delta='------', item_id='msg_0e0d34631008d0eb0068e10d7a18548196a8427d443fa71e91', output_index=0, sequence_number=58, type='response.output_text.delta', logprobs=[], obfuscation='puqtMdecAP'), type='raw_response_event')\n",
      "RawResponsesStreamEvent(data=ResponseTextDeltaEvent(content_index=0, delta='|', item_id='msg_0e0d34631008d0eb0068e10d7a18548196a8427d443fa71e91', output_index=0, sequence_number=59, type='response.output_text.delta', logprobs=[], obfuscation='BGPl18MtZPkXXKe'), type='raw_response_event')\n",
      "RawResponsesStreamEvent(data=ResponseTextDeltaEvent(content_index=0, delta='-----', item_id='msg_0e0d34631008d0eb0068e10d7a18548196a8427d443fa71e91', output_index=0, sequence_number=60, type='response.output_text.delta', logprobs=[], obfuscation='asVAOsJKRIb'), type='raw_response_event')\n",
      "RawResponsesStreamEvent(data=ResponseTextDeltaEvent(content_index=0, delta='|', item_id='msg_0e0d34631008d0eb0068e10d7a18548196a8427d443fa71e91', output_index=0, sequence_number=61, type='response.output_text.delta', logprobs=[], obfuscation='FyRc9JQrzwjJxfk'), type='raw_response_event')\n",
      "RawResponsesStreamEvent(data=ResponseTextDeltaEvent(content_index=0, delta='-------------', item_id='msg_0e0d34631008d0eb0068e10d7a18548196a8427d443fa71e91', output_index=0, sequence_number=62, type='response.output_text.delta', logprobs=[], obfuscation='q88'), type='raw_response_event')\n",
      "RawResponsesStreamEvent(data=ResponseTextDeltaEvent(content_index=0, delta='|\\n', item_id='msg_0e0d34631008d0eb0068e10d7a18548196a8427d443fa71e91', output_index=0, sequence_number=63, type='response.output_text.delta', logprobs=[], obfuscation='7YJVnGGnNwFjFl'), type='raw_response_event')\n",
      "RawResponsesStreamEvent(data=ResponseTextDeltaEvent(content_index=0, delta='|', item_id='msg_0e0d34631008d0eb0068e10d7a18548196a8427d443fa71e91', output_index=0, sequence_number=64, type='response.output_text.delta', logprobs=[], obfuscation='Iy3MMCmgUJdFBhv'), type='raw_response_event')\n",
      "RawResponsesStreamEvent(data=ResponseTextDeltaEvent(content_index=0, delta=' T', item_id='msg_0e0d34631008d0eb0068e10d7a18548196a8427d443fa71e91', output_index=0, sequence_number=65, type='response.output_text.delta', logprobs=[], obfuscation='LGrsJcxEt0Kk04'), type='raw_response_event')\n",
      "RawResponsesStreamEvent(data=ResponseTextDeltaEvent(content_index=0, delta='20', item_id='msg_0e0d34631008d0eb0068e10d7a18548196a8427d443fa71e91', output_index=0, sequence_number=66, type='response.output_text.delta', logprobs=[], obfuscation='tfozwhY3Q5pavm'), type='raw_response_event')\n",
      "RawResponsesStreamEvent(data=ResponseTextDeltaEvent(content_index=0, delta='I', item_id='msg_0e0d34631008d0eb0068e10d7a18548196a8427d443fa71e91', output_index=0, sequence_number=67, type='response.output_text.delta', logprobs=[], obfuscation='804DZZJykA6U5vK'), type='raw_response_event')\n",
      "RawResponsesStreamEvent(data=ResponseTextDeltaEvent(content_index=0, delta='    ', item_id='msg_0e0d34631008d0eb0068e10d7a18548196a8427d443fa71e91', output_index=0, sequence_number=68, type='response.output_text.delta', logprobs=[], obfuscation='Ixrfd02Vd2e0'), type='raw_response_event')\n",
      "RawResponsesStreamEvent(data=ResponseTextDeltaEvent(content_index=0, delta=' |', item_id='msg_0e0d34631008d0eb0068e10d7a18548196a8427d443fa71e91', output_index=0, sequence_number=69, type='response.output_text.delta', logprobs=[], obfuscation='jYaMRrEGGqhNjD'), type='raw_response_event')\n",
      "RawResponsesStreamEvent(data=ResponseTextDeltaEvent(content_index=0, delta=' ', item_id='msg_0e0d34631008d0eb0068e10d7a18548196a8427d443fa71e91', output_index=0, sequence_number=70, type='response.output_text.delta', logprobs=[], obfuscation='UmH9jsZbGFYXP5B'), type='raw_response_event')\n",
      "RawResponsesStreamEvent(data=ResponseTextDeltaEvent(content_index=0, delta='115', item_id='msg_0e0d34631008d0eb0068e10d7a18548196a8427d443fa71e91', output_index=0, sequence_number=71, type='response.output_text.delta', logprobs=[], obfuscation='2laC8S34GphQc'), type='raw_response_event')\n",
      "RawResponsesStreamEvent(data=ResponseTextDeltaEvent(content_index=0, delta='    ', item_id='msg_0e0d34631008d0eb0068e10d7a18548196a8427d443fa71e91', output_index=0, sequence_number=72, type='response.output_text.delta', logprobs=[], obfuscation='Hoe3lJ2Udarm'), type='raw_response_event')\n",
      "RawResponsesStreamEvent(data=ResponseTextDeltaEvent(content_index=0, delta=' |', item_id='msg_0e0d34631008d0eb0068e10d7a18548196a8427d443fa71e91', output_index=0, sequence_number=73, type='response.output_text.delta', logprobs=[], obfuscation='wFFqkkbMYeUNBY'), type='raw_response_event')\n",
      "RawResponsesStreamEvent(data=ResponseTextDeltaEvent(content_index=0, delta=' ', item_id='msg_0e0d34631008d0eb0068e10d7a18548196a8427d443fa71e91', output_index=0, sequence_number=74, type='response.output_text.delta', logprobs=[], obfuscation='sB17iPqqifQBfLn'), type='raw_response_event')\n",
      "RawResponsesStreamEvent(data=ResponseTextDeltaEvent(content_index=0, delta='101', item_id='msg_0e0d34631008d0eb0068e10d7a18548196a8427d443fa71e91', output_index=0, sequence_number=75, type='response.output_text.delta', logprobs=[], obfuscation='lt7E48jYpqduh'), type='raw_response_event')\n",
      "RawResponsesStreamEvent(data=ResponseTextDeltaEvent(content_index=0, delta='    ', item_id='msg_0e0d34631008d0eb0068e10d7a18548196a8427d443fa71e91', output_index=0, sequence_number=76, type='response.output_text.delta', logprobs=[], obfuscation='s76KCCAUM5tL'), type='raw_response_event')\n",
      "RawResponsesStreamEvent(data=ResponseTextDeltaEvent(content_index=0, delta=' |', item_id='msg_0e0d34631008d0eb0068e10d7a18548196a8427d443fa71e91', output_index=0, sequence_number=77, type='response.output_text.delta', logprobs=[], obfuscation='Mz8xyOcxYxGSqI'), type='raw_response_event')\n",
      "RawResponsesStreamEvent(data=ResponseTextDeltaEvent(content_index=0, delta=' ', item_id='msg_0e0d34631008d0eb0068e10d7a18548196a8427d443fa71e91', output_index=0, sequence_number=78, type='response.output_text.delta', logprobs=[], obfuscation='LwMCSojMUYAq4po'), type='raw_response_event')\n",
      "RawResponsesStreamEvent(data=ResponseTextDeltaEvent(content_index=0, delta='400', item_id='msg_0e0d34631008d0eb0068e10d7a18548196a8427d443fa71e91', output_index=0, sequence_number=79, type='response.output_text.delta', logprobs=[], obfuscation='h84pNZ5r9ZQdd'), type='raw_response_event')\n",
      "RawResponsesStreamEvent(data=ResponseTextDeltaEvent(content_index=0, delta='8', item_id='msg_0e0d34631008d0eb0068e10d7a18548196a8427d443fa71e91', output_index=0, sequence_number=80, type='response.output_text.delta', logprobs=[], obfuscation='zcrxlRvBNsbBWG6'), type='raw_response_event')\n",
      "RawResponsesStreamEvent(data=ResponseTextDeltaEvent(content_index=0, delta=' ', item_id='msg_0e0d34631008d0eb0068e10d7a18548196a8427d443fa71e91', output_index=0, sequence_number=81, type='response.output_text.delta', logprobs=[], obfuscation='gpMoLwlErely7JE'), type='raw_response_event')\n",
      "RawResponsesStreamEvent(data=ResponseTextDeltaEvent(content_index=0, delta=' |', item_id='msg_0e0d34631008d0eb0068e10d7a18548196a8427d443fa71e91', output_index=0, sequence_number=82, type='response.output_text.delta', logprobs=[], obfuscation='RQDtXE0mraWpKK'), type='raw_response_event')\n",
      "RawResponsesStreamEvent(data=ResponseTextDeltaEvent(content_index=0, delta=' ', item_id='msg_0e0d34631008d0eb0068e10d7a18548196a8427d443fa71e91', output_index=0, sequence_number=83, type='response.output_text.delta', logprobs=[], obfuscation='muL1kcOP1ERC15W'), type='raw_response_event')\n",
      "RawResponsesStreamEvent(data=ResponseTextDeltaEvent(content_index=0, delta='52', item_id='msg_0e0d34631008d0eb0068e10d7a18548196a8427d443fa71e91', output_index=0, sequence_number=84, type='response.output_text.delta', logprobs=[], obfuscation='PdfTV2rb4AaEn1'), type='raw_response_event')\n",
      "RawResponsesStreamEvent(data=ResponseTextDeltaEvent(content_index=0, delta='.', item_id='msg_0e0d34631008d0eb0068e10d7a18548196a8427d443fa71e91', output_index=0, sequence_number=85, type='response.output_text.delta', logprobs=[], obfuscation='FLSGmDA3gvKjCHn'), type='raw_response_event')\n",
      "RawResponsesStreamEvent(data=ResponseTextDeltaEvent(content_index=0, delta='73', item_id='msg_0e0d34631008d0eb0068e10d7a18548196a8427d443fa71e91', output_index=0, sequence_number=86, type='response.output_text.delta', logprobs=[], obfuscation='PI4BSyJi5pEsYD'), type='raw_response_event')\n",
      "RawResponsesStreamEvent(data=ResponseTextDeltaEvent(content_index=0, delta='  ', item_id='msg_0e0d34631008d0eb0068e10d7a18548196a8427d443fa71e91', output_index=0, sequence_number=87, type='response.output_text.delta', logprobs=[], obfuscation='FKwTNFN1XdcMjp'), type='raw_response_event')\n",
      "RawResponsesStreamEvent(data=ResponseTextDeltaEvent(content_index=0, delta=' |', item_id='msg_0e0d34631008d0eb0068e10d7a18548196a8427d443fa71e91', output_index=0, sequence_number=88, type='response.output_text.delta', logprobs=[], obfuscation='9mZFqtoBDteApw'), type='raw_response_event')\n",
      "RawResponsesStreamEvent(data=ResponseTextDeltaEvent(content_index=0, delta=' ', item_id='msg_0e0d34631008d0eb0068e10d7a18548196a8427d443fa71e91', output_index=0, sequence_number=89, type='response.output_text.delta', logprobs=[], obfuscation='71o2wFxbRC2ys74'), type='raw_response_event')\n",
      "RawResponsesStreamEvent(data=ResponseTextDeltaEvent(content_index=0, delta='1', item_id='msg_0e0d34631008d0eb0068e10d7a18548196a8427d443fa71e91', output_index=0, sequence_number=90, type='response.output_text.delta', logprobs=[], obfuscation='qd7Dq4wkVg9WZP9'), type='raw_response_event')\n",
      "RawResponsesStreamEvent(data=ResponseTextDeltaEvent(content_index=0, delta='   ', item_id='msg_0e0d34631008d0eb0068e10d7a18548196a8427d443fa71e91', output_index=0, sequence_number=91, type='response.output_text.delta', logprobs=[], obfuscation='DQpyE2gUQxc9p'), type='raw_response_event')\n",
      "RawResponsesStreamEvent(data=ResponseTextDeltaEvent(content_index=0, delta=' |', item_id='msg_0e0d34631008d0eb0068e10d7a18548196a8427d443fa71e91', output_index=0, sequence_number=92, type='response.output_text.delta', logprobs=[], obfuscation='7c81G5M8yYOUAL'), type='raw_response_event')\n",
      "RawResponsesStreamEvent(data=ResponseTextDeltaEvent(content_index=0, delta=' ', item_id='msg_0e0d34631008d0eb0068e10d7a18548196a8427d443fa71e91', output_index=0, sequence_number=93, type='response.output_text.delta', logprobs=[], obfuscation='Y9wvvg5X9XSraeV'), type='raw_response_event')\n",
      "RawResponsesStreamEvent(data=ResponseTextDeltaEvent(content_index=0, delta='37', item_id='msg_0e0d34631008d0eb0068e10d7a18548196a8427d443fa71e91', output_index=0, sequence_number=94, type='response.output_text.delta', logprobs=[], obfuscation='WEzyK5EN53AcfE'), type='raw_response_event')\n",
      "RawResponsesStreamEvent(data=ResponseTextDeltaEvent(content_index=0, delta=' ', item_id='msg_0e0d34631008d0eb0068e10d7a18548196a8427d443fa71e91', output_index=0, sequence_number=95, type='response.output_text.delta', logprobs=[], obfuscation='x3XCS7twwqqHxOY'), type='raw_response_event')\n",
      "RawResponsesStreamEvent(data=ResponseTextDeltaEvent(content_index=0, delta=' |', item_id='msg_0e0d34631008d0eb0068e10d7a18548196a8427d443fa71e91', output_index=0, sequence_number=96, type='response.output_text.delta', logprobs=[], obfuscation='UfZ2A6XXFNBYyp'), type='raw_response_event')\n",
      "RawResponsesStreamEvent(data=ResponseTextDeltaEvent(content_index=0, delta=' ', item_id='msg_0e0d34631008d0eb0068e10d7a18548196a8427d443fa71e91', output_index=0, sequence_number=97, type='response.output_text.delta', logprobs=[], obfuscation='MyXNAz4vuV7OK88'), type='raw_response_event')\n",
      "RawResponsesStreamEvent(data=ResponseTextDeltaEvent(content_index=0, delta='139', item_id='msg_0e0d34631008d0eb0068e10d7a18548196a8427d443fa71e91', output_index=0, sequence_number=98, type='response.output_text.delta', logprobs=[], obfuscation='1JGZpWUw3jKR4'), type='raw_response_event')\n",
      "RawResponsesStreamEvent(data=ResponseTextDeltaEvent(content_index=0, delta='.', item_id='msg_0e0d34631008d0eb0068e10d7a18548196a8427d443fa71e91', output_index=0, sequence_number=99, type='response.output_text.delta', logprobs=[], obfuscation='gdqEpDXurYTdc15'), type='raw_response_event')\n",
      "RawResponsesStreamEvent(data=ResponseTextDeltaEvent(content_index=0, delta='69', item_id='msg_0e0d34631008d0eb0068e10d7a18548196a8427d443fa71e91', output_index=0, sequence_number=100, type='response.output_text.delta', logprobs=[], obfuscation='RCcRAFGvAsokU3'), type='raw_response_event')\n",
      "RawResponsesStreamEvent(data=ResponseTextDeltaEvent(content_index=0, delta='     ', item_id='msg_0e0d34631008d0eb0068e10d7a18548196a8427d443fa71e91', output_index=0, sequence_number=101, type='response.output_text.delta', logprobs=[], obfuscation='u3ndAlqrOle'), type='raw_response_event')\n",
      "RawResponsesStreamEvent(data=ResponseTextDeltaEvent(content_index=0, delta=' |\\n', item_id='msg_0e0d34631008d0eb0068e10d7a18548196a8427d443fa71e91', output_index=0, sequence_number=102, type='response.output_text.delta', logprobs=[], obfuscation='wyZ7V4I5BHA1S'), type='raw_response_event')\n",
      "RawResponsesStreamEvent(data=ResponseTextDeltaEvent(content_index=0, delta='|', item_id='msg_0e0d34631008d0eb0068e10d7a18548196a8427d443fa71e91', output_index=0, sequence_number=103, type='response.output_text.delta', logprobs=[], obfuscation='ek3B9BYfBC2Mfme'), type='raw_response_event')\n",
      "RawResponsesStreamEvent(data=ResponseTextDeltaEvent(content_index=0, delta=' ODI', item_id='msg_0e0d34631008d0eb0068e10d7a18548196a8427d443fa71e91', output_index=0, sequence_number=104, type='response.output_text.delta', logprobs=[], obfuscation='94XoDEyeH8DQ'), type='raw_response_event')\n",
      "RawResponsesStreamEvent(data=ResponseTextDeltaEvent(content_index=0, delta='     ', item_id='msg_0e0d34631008d0eb0068e10d7a18548196a8427d443fa71e91', output_index=0, sequence_number=105, type='response.output_text.delta', logprobs=[], obfuscation='vdVtqXspWHD'), type='raw_response_event')\n",
      "RawResponsesStreamEvent(data=ResponseTextDeltaEvent(content_index=0, delta=' |', item_id='msg_0e0d34631008d0eb0068e10d7a18548196a8427d443fa71e91', output_index=0, sequence_number=106, type='response.output_text.delta', logprobs=[], obfuscation='744tCfz3RI7cpY'), type='raw_response_event')\n",
      "RawResponsesStreamEvent(data=ResponseTextDeltaEvent(content_index=0, delta=' ', item_id='msg_0e0d34631008d0eb0068e10d7a18548196a8427d443fa71e91', output_index=0, sequence_number=107, type='response.output_text.delta', logprobs=[], obfuscation='zZYge65IxA3rfBi'), type='raw_response_event')\n",
      "RawResponsesStreamEvent(data=ResponseTextDeltaEvent(content_index=0, delta='276', item_id='msg_0e0d34631008d0eb0068e10d7a18548196a8427d443fa71e91', output_index=0, sequence_number=108, type='response.output_text.delta', logprobs=[], obfuscation='rRIa6W7Q42h0N'), type='raw_response_event')\n",
      "RawResponsesStreamEvent(data=ResponseTextDeltaEvent(content_index=0, delta='    ', item_id='msg_0e0d34631008d0eb0068e10d7a18548196a8427d443fa71e91', output_index=0, sequence_number=109, type='response.output_text.delta', logprobs=[], obfuscation='nCom45nwmbrL'), type='raw_response_event')\n",
      "RawResponsesStreamEvent(data=ResponseTextDeltaEvent(content_index=0, delta=' |', item_id='msg_0e0d34631008d0eb0068e10d7a18548196a8427d443fa71e91', output_index=0, sequence_number=110, type='response.output_text.delta', logprobs=[], obfuscation='l04YNPswP2TJou'), type='raw_response_event')\n",
      "RawResponsesStreamEvent(data=ResponseTextDeltaEvent(content_index=0, delta=' ', item_id='msg_0e0d34631008d0eb0068e10d7a18548196a8427d443fa71e91', output_index=0, sequence_number=111, type='response.output_text.delta', logprobs=[], obfuscation='QwqAIkkSqFJPTjx'), type='raw_response_event')\n",
      "RawResponsesStreamEvent(data=ResponseTextDeltaEvent(content_index=0, delta='254', item_id='msg_0e0d34631008d0eb0068e10d7a18548196a8427d443fa71e91', output_index=0, sequence_number=112, type='response.output_text.delta', logprobs=[], obfuscation='ReB9eiDzBhQlL'), type='raw_response_event')\n",
      "RawResponsesStreamEvent(data=ResponseTextDeltaEvent(content_index=0, delta='    ', item_id='msg_0e0d34631008d0eb0068e10d7a18548196a8427d443fa71e91', output_index=0, sequence_number=113, type='response.output_text.delta', logprobs=[], obfuscation='wTovlpXmV4Pe'), type='raw_response_event')\n",
      "RawResponsesStreamEvent(data=ResponseTextDeltaEvent(content_index=0, delta=' |', item_id='msg_0e0d34631008d0eb0068e10d7a18548196a8427d443fa71e91', output_index=0, sequence_number=114, type='response.output_text.delta', logprobs=[], obfuscation='GUFE7nKbIWavjQ'), type='raw_response_event')\n",
      "RawResponsesStreamEvent(data=ResponseTextDeltaEvent(content_index=0, delta=' ', item_id='msg_0e0d34631008d0eb0068e10d7a18548196a8427d443fa71e91', output_index=0, sequence_number=115, type='response.output_text.delta', logprobs=[], obfuscation='u7ru55fnuJEwiME'), type='raw_response_event')\n",
      "RawResponsesStreamEvent(data=ResponseTextDeltaEvent(content_index=0, delta='138', item_id='msg_0e0d34631008d0eb0068e10d7a18548196a8427d443fa71e91', output_index=0, sequence_number=116, type='response.output_text.delta', logprobs=[], obfuscation='qPRUkNRKhdKnb'), type='raw_response_event')\n",
      "RawResponsesStreamEvent(data=ResponseTextDeltaEvent(content_index=0, delta='69', item_id='msg_0e0d34631008d0eb0068e10d7a18548196a8427d443fa71e91', output_index=0, sequence_number=117, type='response.output_text.delta', logprobs=[], obfuscation='khKZO6MeJIRxAE'), type='raw_response_event')\n",
      "RawResponsesStreamEvent(data=ResponseTextDeltaEvent(content_index=0, delta=' |', item_id='msg_0e0d34631008d0eb0068e10d7a18548196a8427d443fa71e91', output_index=0, sequence_number=118, type='response.output_text.delta', logprobs=[], obfuscation='iaFP8LkC0w98aH'), type='raw_response_event')\n",
      "RawResponsesStreamEvent(data=ResponseTextDeltaEvent(content_index=0, delta=' ', item_id='msg_0e0d34631008d0eb0068e10d7a18548196a8427d443fa71e91', output_index=0, sequence_number=119, type='response.output_text.delta', logprobs=[], obfuscation='aY0ftIpaGCEUSVm'), type='raw_response_event')\n",
      "RawResponsesStreamEvent(data=ResponseTextDeltaEvent(content_index=0, delta='57', item_id='msg_0e0d34631008d0eb0068e10d7a18548196a8427d443fa71e91', output_index=0, sequence_number=120, type='response.output_text.delta', logprobs=[], obfuscation='kdZJDoiYGjjZ7b'), type='raw_response_event')\n",
      "RawResponsesStreamEvent(data=ResponseTextDeltaEvent(content_index=0, delta='.', item_id='msg_0e0d34631008d0eb0068e10d7a18548196a8427d443fa71e91', output_index=0, sequence_number=121, type='response.output_text.delta', logprobs=[], obfuscation='npL0kSsQmGGJCs9'), type='raw_response_event')\n",
      "RawResponsesStreamEvent(data=ResponseTextDeltaEvent(content_index=0, delta='68', item_id='msg_0e0d34631008d0eb0068e10d7a18548196a8427d443fa71e91', output_index=0, sequence_number=122, type='response.output_text.delta', logprobs=[], obfuscation='p33yKS6yMfWB3m'), type='raw_response_event')\n",
      "RawResponsesStreamEvent(data=ResponseTextDeltaEvent(content_index=0, delta='  ', item_id='msg_0e0d34631008d0eb0068e10d7a18548196a8427d443fa71e91', output_index=0, sequence_number=123, type='response.output_text.delta', logprobs=[], obfuscation='WslzxrRuULGO9d'), type='raw_response_event')\n",
      "RawResponsesStreamEvent(data=ResponseTextDeltaEvent(content_index=0, delta=' |', item_id='msg_0e0d34631008d0eb0068e10d7a18548196a8427d443fa71e91', output_index=0, sequence_number=124, type='response.output_text.delta', logprobs=[], obfuscation='mZVlucHxxgvM6B'), type='raw_response_event')\n",
      "RawResponsesStreamEvent(data=ResponseTextDeltaEvent(content_index=0, delta=' ', item_id='msg_0e0d34631008d0eb0068e10d7a18548196a8427d443fa71e91', output_index=0, sequence_number=125, type='response.output_text.delta', logprobs=[], obfuscation='DKmGRvevikAnQib'), type='raw_response_event')\n",
      "RawResponsesStreamEvent(data=ResponseTextDeltaEvent(content_index=0, delta='46', item_id='msg_0e0d34631008d0eb0068e10d7a18548196a8427d443fa71e91', output_index=0, sequence_number=126, type='response.output_text.delta', logprobs=[], obfuscation='w4HPaYEXEQAGcI'), type='raw_response_event')\n",
      "RawResponsesStreamEvent(data=ResponseTextDeltaEvent(content_index=0, delta='  ', item_id='msg_0e0d34631008d0eb0068e10d7a18548196a8427d443fa71e91', output_index=0, sequence_number=127, type='response.output_text.delta', logprobs=[], obfuscation='Brg6DUdrY7zChL'), type='raw_response_event')\n",
      "RawResponsesStreamEvent(data=ResponseTextDeltaEvent(content_index=0, delta=' |', item_id='msg_0e0d34631008d0eb0068e10d7a18548196a8427d443fa71e91', output_index=0, sequence_number=128, type='response.output_text.delta', logprobs=[], obfuscation='vFXdSpUWtrkm9C'), type='raw_response_event')\n",
      "RawResponsesStreamEvent(data=ResponseTextDeltaEvent(content_index=0, delta=' ', item_id='msg_0e0d34631008d0eb0068e10d7a18548196a8427d443fa71e91', output_index=0, sequence_number=129, type='response.output_text.delta', logprobs=[], obfuscation='YC3EADNCFhhMUIc'), type='raw_response_event')\n",
      "RawResponsesStreamEvent(data=ResponseTextDeltaEvent(content_index=0, delta='65', item_id='msg_0e0d34631008d0eb0068e10d7a18548196a8427d443fa71e91', output_index=0, sequence_number=130, type='response.output_text.delta', logprobs=[], obfuscation='IsbK2yETRYsVLt'), type='raw_response_event')\n",
      "RawResponsesStreamEvent(data=ResponseTextDeltaEvent(content_index=0, delta=' ', item_id='msg_0e0d34631008d0eb0068e10d7a18548196a8427d443fa71e91', output_index=0, sequence_number=131, type='response.output_text.delta', logprobs=[], obfuscation='ToxzUNiXUdjqbw1'), type='raw_response_event')\n",
      "RawResponsesStreamEvent(data=ResponseTextDeltaEvent(content_index=0, delta=' |', item_id='msg_0e0d34631008d0eb0068e10d7a18548196a8427d443fa71e91', output_index=0, sequence_number=132, type='response.output_text.delta', logprobs=[], obfuscation='hZbr6aansFUJAx'), type='raw_response_event')\n",
      "RawResponsesStreamEvent(data=ResponseTextDeltaEvent(content_index=0, delta=' ', item_id='msg_0e0d34631008d0eb0068e10d7a18548196a8427d443fa71e91', output_index=0, sequence_number=133, type='response.output_text.delta', logprobs=[], obfuscation='Ag5I3idgwJuoVUN'), type='raw_response_event')\n",
      "RawResponsesStreamEvent(data=ResponseTextDeltaEvent(content_index=0, delta='87', item_id='msg_0e0d34631008d0eb0068e10d7a18548196a8427d443fa71e91', output_index=0, sequence_number=134, type='response.output_text.delta', logprobs=[], obfuscation='3SAjZhUnPsMAr1'), type='raw_response_event')\n",
      "RawResponsesStreamEvent(data=ResponseTextDeltaEvent(content_index=0, delta='.', item_id='msg_0e0d34631008d0eb0068e10d7a18548196a8427d443fa71e91', output_index=0, sequence_number=135, type='response.output_text.delta', logprobs=[], obfuscation='UsZWAHPYgxKCGey'), type='raw_response_event')\n",
      "RawResponsesStreamEvent(data=ResponseTextDeltaEvent(content_index=0, delta='76', item_id='msg_0e0d34631008d0eb0068e10d7a18548196a8427d443fa71e91', output_index=0, sequence_number=136, type='response.output_text.delta', logprobs=[], obfuscation='r2a3Ydd3WUnuKZ'), type='raw_response_event')\n",
      "RawResponsesStreamEvent(data=ResponseTextDeltaEvent(content_index=0, delta='      ', item_id='msg_0e0d34631008d0eb0068e10d7a18548196a8427d443fa71e91', output_index=0, sequence_number=137, type='response.output_text.delta', logprobs=[], obfuscation='awrD7Rb9QF'), type='raw_response_event')\n",
      "RawResponsesStreamEvent(data=ResponseTextDeltaEvent(content_index=0, delta=' |\\n', item_id='msg_0e0d34631008d0eb0068e10d7a18548196a8427d443fa71e91', output_index=0, sequence_number=138, type='response.output_text.delta', logprobs=[], obfuscation='edIq618Nejq5w'), type='raw_response_event')\n",
      "RawResponsesStreamEvent(data=ResponseTextDeltaEvent(content_index=0, delta='|', item_id='msg_0e0d34631008d0eb0068e10d7a18548196a8427d443fa71e91', output_index=0, sequence_number=139, type='response.output_text.delta', logprobs=[], obfuscation='O5oahH66DciZWie'), type='raw_response_event')\n",
      "RawResponsesStreamEvent(data=ResponseTextDeltaEvent(content_index=0, delta=' Test', item_id='msg_0e0d34631008d0eb0068e10d7a18548196a8427d443fa71e91', output_index=0, sequence_number=140, type='response.output_text.delta', logprobs=[], obfuscation='ZE0TQRetudZ'), type='raw_response_event')\n",
      "RawResponsesStreamEvent(data=ResponseTextDeltaEvent(content_index=0, delta='    ', item_id='msg_0e0d34631008d0eb0068e10d7a18548196a8427d443fa71e91', output_index=0, sequence_number=141, type='response.output_text.delta', logprobs=[], obfuscation='ZOyd9UAbwbYE'), type='raw_response_event')\n",
      "RawResponsesStreamEvent(data=ResponseTextDeltaEvent(content_index=0, delta=' |', item_id='msg_0e0d34631008d0eb0068e10d7a18548196a8427d443fa71e91', output_index=0, sequence_number=142, type='response.output_text.delta', logprobs=[], obfuscation='pCAJAtLpcO5GS2'), type='raw_response_event')\n",
      "RawResponsesStreamEvent(data=ResponseTextDeltaEvent(content_index=0, delta=' ', item_id='msg_0e0d34631008d0eb0068e10d7a18548196a8427d443fa71e91', output_index=0, sequence_number=143, type='response.output_text.delta', logprobs=[], obfuscation='DRB7QxaGp1SGBje'), type='raw_response_event')\n",
      "RawResponsesStreamEvent(data=ResponseTextDeltaEvent(content_index=0, delta='111', item_id='msg_0e0d34631008d0eb0068e10d7a18548196a8427d443fa71e91', output_index=0, sequence_number=144, type='response.output_text.delta', logprobs=[], obfuscation='bJW1wN1QhCPNT'), type='raw_response_event')\n",
      "RawResponsesStreamEvent(data=ResponseTextDeltaEvent(content_index=0, delta='    ', item_id='msg_0e0d34631008d0eb0068e10d7a18548196a8427d443fa71e91', output_index=0, sequence_number=145, type='response.output_text.delta', logprobs=[], obfuscation='b7hnEWKKcsvs'), type='raw_response_event')\n",
      "RawResponsesStreamEvent(data=ResponseTextDeltaEvent(content_index=0, delta=' |', item_id='msg_0e0d34631008d0eb0068e10d7a18548196a8427d443fa71e91', output_index=0, sequence_number=146, type='response.output_text.delta', logprobs=[], obfuscation='92feylyUOJqmOH'), type='raw_response_event')\n",
      "RawResponsesStreamEvent(data=ResponseTextDeltaEvent(content_index=0, delta=' ', item_id='msg_0e0d34631008d0eb0068e10d7a18548196a8427d443fa71e91', output_index=0, sequence_number=147, type='response.output_text.delta', logprobs=[], obfuscation='zFeU4lW7wcTaKeA'), type='raw_response_event')\n",
      "RawResponsesStreamEvent(data=ResponseTextDeltaEvent(content_index=0, delta='194', item_id='msg_0e0d34631008d0eb0068e10d7a18548196a8427d443fa71e91', output_index=0, sequence_number=148, type='response.output_text.delta', logprobs=[], obfuscation='FQvjfQvRZBM4y'), type='raw_response_event')\n",
      "RawResponsesStreamEvent(data=ResponseTextDeltaEvent(content_index=0, delta='    ', item_id='msg_0e0d34631008d0eb0068e10d7a18548196a8427d443fa71e91', output_index=0, sequence_number=149, type='response.output_text.delta', logprobs=[], obfuscation='NJhBhMyKCXO7'), type='raw_response_event')\n",
      "RawResponsesStreamEvent(data=ResponseTextDeltaEvent(content_index=0, delta=' |', item_id='msg_0e0d34631008d0eb0068e10d7a18548196a8427d443fa71e91', output_index=0, sequence_number=150, type='response.output_text.delta', logprobs=[], obfuscation='6mOpR5mUH25eaW'), type='raw_response_event')\n",
      "RawResponsesStreamEvent(data=ResponseTextDeltaEvent(content_index=0, delta=' ', item_id='msg_0e0d34631008d0eb0068e10d7a18548196a8427d443fa71e91', output_index=0, sequence_number=151, type='response.output_text.delta', logprobs=[], obfuscation='Da8uUQQ0BhSWJvv'), type='raw_response_event')\n",
      "RawResponsesStreamEvent(data=ResponseTextDeltaEvent(content_index=0, delta='877', item_id='msg_0e0d34631008d0eb0068e10d7a18548196a8427d443fa71e91', output_index=0, sequence_number=152, type='response.output_text.delta', logprobs=[], obfuscation='z5UTdxTij72bn'), type='raw_response_event')\n",
      "RawResponsesStreamEvent(data=ResponseTextDeltaEvent(content_index=0, delta='2', item_id='msg_0e0d34631008d0eb0068e10d7a18548196a8427d443fa71e91', output_index=0, sequence_number=153, type='response.output_text.delta', logprobs=[], obfuscation='mtPP4lC5PRXomaL'), type='raw_response_event')\n",
      "RawResponsesStreamEvent(data=ResponseTextDeltaEvent(content_index=0, delta=' ', item_id='msg_0e0d34631008d0eb0068e10d7a18548196a8427d443fa71e91', output_index=0, sequence_number=154, type='response.output_text.delta', logprobs=[], obfuscation='TsoNZ62O1mAir04'), type='raw_response_event')\n",
      "RawResponsesStreamEvent(data=ResponseTextDeltaEvent(content_index=0, delta=' |', item_id='msg_0e0d34631008d0eb0068e10d7a18548196a8427d443fa71e91', output_index=0, sequence_number=155, type='response.output_text.delta', logprobs=[], obfuscation='Oz9Oxj6vRY70gu'), type='raw_response_event')\n",
      "RawResponsesStreamEvent(data=ResponseTextDeltaEvent(content_index=0, delta=' ', item_id='msg_0e0d34631008d0eb0068e10d7a18548196a8427d443fa71e91', output_index=0, sequence_number=156, type='response.output_text.delta', logprobs=[], obfuscation='8Bfj907u6ilLw6B'), type='raw_response_event')\n",
      "RawResponsesStreamEvent(data=ResponseTextDeltaEvent(content_index=0, delta='49', item_id='msg_0e0d34631008d0eb0068e10d7a18548196a8427d443fa71e91', output_index=0, sequence_number=157, type='response.output_text.delta', logprobs=[], obfuscation='9dOXpuHxi9vHPX'), type='raw_response_event')\n",
      "RawResponsesStreamEvent(data=ResponseTextDeltaEvent(content_index=0, delta='.', item_id='msg_0e0d34631008d0eb0068e10d7a18548196a8427d443fa71e91', output_index=0, sequence_number=158, type='response.output_text.delta', logprobs=[], obfuscation='svnOB6SgUF8LtEA'), type='raw_response_event')\n",
      "RawResponsesStreamEvent(data=ResponseTextDeltaEvent(content_index=0, delta='43', item_id='msg_0e0d34631008d0eb0068e10d7a18548196a8427d443fa71e91', output_index=0, sequence_number=159, type='response.output_text.delta', logprobs=[], obfuscation='OpCdGCXPDp95QX'), type='raw_response_event')\n",
      "RawResponsesStreamEvent(data=ResponseTextDeltaEvent(content_index=0, delta='  ', item_id='msg_0e0d34631008d0eb0068e10d7a18548196a8427d443fa71e91', output_index=0, sequence_number=160, type='response.output_text.delta', logprobs=[], obfuscation='td9AAS5WdTq3KL'), type='raw_response_event')\n",
      "RawResponsesStreamEvent(data=ResponseTextDeltaEvent(content_index=0, delta=' |', item_id='msg_0e0d34631008d0eb0068e10d7a18548196a8427d443fa71e91', output_index=0, sequence_number=161, type='response.output_text.delta', logprobs=[], obfuscation='w71mm6Bxyi06kS'), type='raw_response_event')\n",
      "RawResponsesStreamEvent(data=ResponseTextDeltaEvent(content_index=0, delta=' ', item_id='msg_0e0d34631008d0eb0068e10d7a18548196a8427d443fa71e91', output_index=0, sequence_number=162, type='response.output_text.delta', logprobs=[], obfuscation='LtwcaOsuCEJMPoQ'), type='raw_response_event')\n",
      "RawResponsesStreamEvent(data=ResponseTextDeltaEvent(content_index=0, delta='28', item_id='msg_0e0d34631008d0eb0068e10d7a18548196a8427d443fa71e91', output_index=0, sequence_number=163, type='response.output_text.delta', logprobs=[], obfuscation='6BCySJVwFo1l6j'), type='raw_response_event')\n",
      "RawResponsesStreamEvent(data=ResponseTextDeltaEvent(content_index=0, delta='  ', item_id='msg_0e0d34631008d0eb0068e10d7a18548196a8427d443fa71e91', output_index=0, sequence_number=164, type='response.output_text.delta', logprobs=[], obfuscation='C5TM53ecmQuQLY'), type='raw_response_event')\n",
      "RawResponsesStreamEvent(data=ResponseTextDeltaEvent(content_index=0, delta=' |', item_id='msg_0e0d34631008d0eb0068e10d7a18548196a8427d443fa71e91', output_index=0, sequence_number=165, type='response.output_text.delta', logprobs=[], obfuscation='JTgQTpA4GH1j32'), type='raw_response_event')\n",
      "RawResponsesStreamEvent(data=ResponseTextDeltaEvent(content_index=0, delta=' ', item_id='msg_0e0d34631008d0eb0068e10d7a18548196a8427d443fa71e91', output_index=0, sequence_number=166, type='response.output_text.delta', logprobs=[], obfuscation='HXDyPv5LGKu0eiy'), type='raw_response_event')\n",
      "RawResponsesStreamEvent(data=ResponseTextDeltaEvent(content_index=0, delta='27', item_id='msg_0e0d34631008d0eb0068e10d7a18548196a8427d443fa71e91', output_index=0, sequence_number=167, type='response.output_text.delta', logprobs=[], obfuscation='HDUQKOiGLmK9E5'), type='raw_response_event')\n",
      "RawResponsesStreamEvent(data=ResponseTextDeltaEvent(content_index=0, delta=' ', item_id='msg_0e0d34631008d0eb0068e10d7a18548196a8427d443fa71e91', output_index=0, sequence_number=168, type='response.output_text.delta', logprobs=[], obfuscation='F4SRb8jR5yORG1P'), type='raw_response_event')\n",
      "RawResponsesStreamEvent(data=ResponseTextDeltaEvent(content_index=0, delta=' |', item_id='msg_0e0d34631008d0eb0068e10d7a18548196a8427d443fa71e91', output_index=0, sequence_number=169, type='response.output_text.delta', logprobs=[], obfuscation='sf2UqyUw1vNsas'), type='raw_response_event')\n",
      "RawResponsesStreamEvent(data=ResponseTextDeltaEvent(content_index=0, delta=' ', item_id='msg_0e0d34631008d0eb0068e10d7a18548196a8427d443fa71e91', output_index=0, sequence_number=170, type='response.output_text.delta', logprobs=[], obfuscation='g7k7N4ttidawLJn'), type='raw_response_event')\n",
      "RawResponsesStreamEvent(data=ResponseTextDeltaEvent(content_index=0, delta='57', item_id='msg_0e0d34631008d0eb0068e10d7a18548196a8427d443fa71e91', output_index=0, sequence_number=171, type='response.output_text.delta', logprobs=[], obfuscation='MNr22FHECMMxQd'), type='raw_response_event')\n",
      "RawResponsesStreamEvent(data=ResponseTextDeltaEvent(content_index=0, delta='.', item_id='msg_0e0d34631008d0eb0068e10d7a18548196a8427d443fa71e91', output_index=0, sequence_number=172, type='response.output_text.delta', logprobs=[], obfuscation='un8MVOxwN2rq27i'), type='raw_response_event')\n",
      "RawResponsesStreamEvent(data=ResponseTextDeltaEvent(content_index=0, delta='57', item_id='msg_0e0d34631008d0eb0068e10d7a18548196a8427d443fa71e91', output_index=0, sequence_number=173, type='response.output_text.delta', logprobs=[], obfuscation='01TUNUAN5RDT39'), type='raw_response_event')\n",
      "RawResponsesStreamEvent(data=ResponseTextDeltaEvent(content_index=0, delta='      ', item_id='msg_0e0d34631008d0eb0068e10d7a18548196a8427d443fa71e91', output_index=0, sequence_number=174, type='response.output_text.delta', logprobs=[], obfuscation='sKEm0ip642'), type='raw_response_event')\n",
      "RawResponsesStreamEvent(data=ResponseTextDeltaEvent(content_index=0, delta=' |\\n\\n', item_id='msg_0e0d34631008d0eb0068e10d7a18548196a8427d443fa71e91', output_index=0, sequence_number=175, type='response.output_text.delta', logprobs=[], obfuscation='E2hkdXfRWai9'), type='raw_response_event')\n",
      "RawResponsesStreamEvent(data=ResponseTextDeltaEvent(content_index=0, delta='*', item_id='msg_0e0d34631008d0eb0068e10d7a18548196a8427d443fa71e91', output_index=0, sequence_number=176, type='response.output_text.delta', logprobs=[], obfuscation='pWjZDSvLUooxte8'), type='raw_response_event')\n",
      "RawResponsesStreamEvent(data=ResponseTextDeltaEvent(content_index=0, delta='Note', item_id='msg_0e0d34631008d0eb0068e10d7a18548196a8427d443fa71e91', output_index=0, sequence_number=177, type='response.output_text.delta', logprobs=[], obfuscation='h0uAt1lWDGE0'), type='raw_response_event')\n",
      "RawResponsesStreamEvent(data=ResponseTextDeltaEvent(content_index=0, delta=':', item_id='msg_0e0d34631008d0eb0068e10d7a18548196a8427d443fa71e91', output_index=0, sequence_number=178, type='response.output_text.delta', logprobs=[], obfuscation='au8huH6J0sYc5lR'), type='raw_response_event')\n",
      "RawResponsesStreamEvent(data=ResponseTextDeltaEvent(content_index=0, delta=' Statistics', item_id='msg_0e0d34631008d0eb0068e10d7a18548196a8427d443fa71e91', output_index=0, sequence_number=179, type='response.output_text.delta', logprobs=[], obfuscation='qPv4L'), type='raw_response_event')\n",
      "RawResponsesStreamEvent(data=ResponseTextDeltaEvent(content_index=0, delta=' are', item_id='msg_0e0d34631008d0eb0068e10d7a18548196a8427d443fa71e91', output_index=0, sequence_number=180, type='response.output_text.delta', logprobs=[], obfuscation='067IJxhBnZOe'), type='raw_response_event')\n",
      "RawResponsesStreamEvent(data=ResponseTextDeltaEvent(content_index=0, delta=' subject', item_id='msg_0e0d34631008d0eb0068e10d7a18548196a8427d443fa71e91', output_index=0, sequence_number=181, type='response.output_text.delta', logprobs=[], obfuscation='6700pAcQ'), type='raw_response_event')\n",
      "RawResponsesStreamEvent(data=ResponseTextDeltaEvent(content_index=0, delta=' to', item_id='msg_0e0d34631008d0eb0068e10d7a18548196a8427d443fa71e91', output_index=0, sequence_number=182, type='response.output_text.delta', logprobs=[], obfuscation='zflTRskWmiUPK'), type='raw_response_event')\n",
      "RawResponsesStreamEvent(data=ResponseTextDeltaEvent(content_index=0, delta=' change', item_id='msg_0e0d34631008d0eb0068e10d7a18548196a8427d443fa71e91', output_index=0, sequence_number=183, type='response.output_text.delta', logprobs=[], obfuscation='NPuB64ww8'), type='raw_response_event')\n",
      "RawResponsesStreamEvent(data=ResponseTextDeltaEvent(content_index=0, delta=' as', item_id='msg_0e0d34631008d0eb0068e10d7a18548196a8427d443fa71e91', output_index=0, sequence_number=184, type='response.output_text.delta', logprobs=[], obfuscation='Arir74q8fjvIx'), type='raw_response_event')\n",
      "RawResponsesStreamEvent(data=ResponseTextDeltaEvent(content_index=0, delta=' he', item_id='msg_0e0d34631008d0eb0068e10d7a18548196a8427d443fa71e91', output_index=0, sequence_number=185, type='response.output_text.delta', logprobs=[], obfuscation='agpGdMhEJsozK'), type='raw_response_event')\n",
      "RawResponsesStreamEvent(data=ResponseTextDeltaEvent(content_index=0, delta=' is', item_id='msg_0e0d34631008d0eb0068e10d7a18548196a8427d443fa71e91', output_index=0, sequence_number=186, type='response.output_text.delta', logprobs=[], obfuscation='ZmKGbBIU0cI75'), type='raw_response_event')\n",
      "RawResponsesStreamEvent(data=ResponseTextDeltaEvent(content_index=0, delta=' an', item_id='msg_0e0d34631008d0eb0068e10d7a18548196a8427d443fa71e91', output_index=0, sequence_number=187, type='response.output_text.delta', logprobs=[], obfuscation='DmmeNoavatvs0'), type='raw_response_event')\n",
      "RawResponsesStreamEvent(data=ResponseTextDeltaEvent(content_index=0, delta=' active', item_id='msg_0e0d34631008d0eb0068e10d7a18548196a8427d443fa71e91', output_index=0, sequence_number=188, type='response.output_text.delta', logprobs=[], obfuscation='smS2mxgjp'), type='raw_response_event')\n",
      "RawResponsesStreamEvent(data=ResponseTextDeltaEvent(content_index=0, delta=' player', item_id='msg_0e0d34631008d0eb0068e10d7a18548196a8427d443fa71e91', output_index=0, sequence_number=189, type='response.output_text.delta', logprobs=[], obfuscation='neSdOhqj1'), type='raw_response_event')\n",
      "RawResponsesStreamEvent(data=ResponseTextDeltaEvent(content_index=0, delta='.*', item_id='msg_0e0d34631008d0eb0068e10d7a18548196a8427d443fa71e91', output_index=0, sequence_number=190, type='response.output_text.delta', logprobs=[], obfuscation='mBTJDWHZwnzQjV'), type='raw_response_event')\n",
      "RawResponsesStreamEvent(data=ResponseTextDoneEvent(content_index=0, item_id='msg_0e0d34631008d0eb0068e10d7a18548196a8427d443fa71e91', output_index=0, sequence_number=191, text=\"Here are Virat Kohli's statistics in T20, ODI, and Test formats:\\n\\n| Format    | Matches | Innings | Runs  | Average | 100s | 50s | Strike Rate |\\n|-----------|---------|---------|-------|---------|------|-----|-------------|\\n| T20I     | 115     | 101     | 4008  | 52.73   | 1    | 37  | 139.69      |\\n| ODI      | 276     | 254     | 13869 | 57.68   | 46   | 65  | 87.76       |\\n| Test     | 111     | 194     | 8772  | 49.43   | 28   | 27  | 57.57       |\\n\\n*Note: Statistics are subject to change as he is an active player.*\", type='response.output_text.done', logprobs=[]), type='raw_response_event')\n",
      "RawResponsesStreamEvent(data=ResponseContentPartDoneEvent(content_index=0, item_id='msg_0e0d34631008d0eb0068e10d7a18548196a8427d443fa71e91', output_index=0, part=ResponseOutputText(annotations=[], text=\"Here are Virat Kohli's statistics in T20, ODI, and Test formats:\\n\\n| Format    | Matches | Innings | Runs  | Average | 100s | 50s | Strike Rate |\\n|-----------|---------|---------|-------|---------|------|-----|-------------|\\n| T20I     | 115     | 101     | 4008  | 52.73   | 1    | 37  | 139.69      |\\n| ODI      | 276     | 254     | 13869 | 57.68   | 46   | 65  | 87.76       |\\n| Test     | 111     | 194     | 8772  | 49.43   | 28   | 27  | 57.57       |\\n\\n*Note: Statistics are subject to change as he is an active player.*\", type='output_text', logprobs=[]), sequence_number=192, type='response.content_part.done'), type='raw_response_event')\n",
      "RawResponsesStreamEvent(data=ResponseOutputItemDoneEvent(item=ResponseOutputMessage(id='msg_0e0d34631008d0eb0068e10d7a18548196a8427d443fa71e91', content=[ResponseOutputText(annotations=[], text=\"Here are Virat Kohli's statistics in T20, ODI, and Test formats:\\n\\n| Format    | Matches | Innings | Runs  | Average | 100s | 50s | Strike Rate |\\n|-----------|---------|---------|-------|---------|------|-----|-------------|\\n| T20I     | 115     | 101     | 4008  | 52.73   | 1    | 37  | 139.69      |\\n| ODI      | 276     | 254     | 13869 | 57.68   | 46   | 65  | 87.76       |\\n| Test     | 111     | 194     | 8772  | 49.43   | 28   | 27  | 57.57       |\\n\\n*Note: Statistics are subject to change as he is an active player.*\", type='output_text', logprobs=[])], role='assistant', status='completed', type='message'), output_index=0, sequence_number=193, type='response.output_item.done'), type='raw_response_event')\n",
      "RawResponsesStreamEvent(data=ResponseCompletedEvent(response=Response(id='resp_0e0d34631008d0eb0068e10d796fd481969e6e44f6fc347afe', created_at=1759579513.0, error=None, incomplete_details=None, instructions='You are Cricket Fanatic. You have extreme knowledge in cricket and includes records, statistics, player info and many other. Answer only to this context and nothing else .Kepp it concise', metadata={}, model='gpt-4o-mini-2024-07-18', object='response', output=[ResponseOutputMessage(id='msg_0e0d34631008d0eb0068e10d7a18548196a8427d443fa71e91', content=[ResponseOutputText(annotations=[], text=\"Here are Virat Kohli's statistics in T20, ODI, and Test formats:\\n\\n| Format    | Matches | Innings | Runs  | Average | 100s | 50s | Strike Rate |\\n|-----------|---------|---------|-------|---------|------|-----|-------------|\\n| T20I     | 115     | 101     | 4008  | 52.73   | 1    | 37  | 139.69      |\\n| ODI      | 276     | 254     | 13869 | 57.68   | 46   | 65  | 87.76       |\\n| Test     | 111     | 194     | 8772  | 49.43   | 28   | 27  | 57.57       |\\n\\n*Note: Statistics are subject to change as he is an active player.*\", type='output_text', logprobs=[])], role='assistant', status='completed', type='message')], parallel_tool_calls=True, temperature=1.0, tool_choice='auto', tools=[], top_p=1.0, background=False, max_output_tokens=None, previous_response_id=None, prompt=None, reasoning=Reasoning(effort=None, generate_summary=None, summary=None), service_tier='default', status='completed', text=ResponseTextConfig(format=ResponseFormatText(type='text'), verbosity='medium'), truncation='disabled', usage=ResponseUsage(input_tokens=66, input_tokens_details=InputTokensDetails(cached_tokens=0), output_tokens=188, output_tokens_details=OutputTokensDetails(reasoning_tokens=0), total_tokens=254), user=None, max_tool_calls=None, prompt_cache_key=None, safety_identifier=None, store=True, top_logprobs=0), sequence_number=194, type='response.completed'), type='raw_response_event')\n",
      "RunItemStreamEvent(name='message_output_created', item=MessageOutputItem(agent=Agent(name='Cricket Agent', instructions='You are Cricket Fanatic. You have extreme knowledge in cricket and includes records, statistics, player info and many other. Answer only to this context and nothing else .Kepp it concise', prompt=None, handoff_description=None, handoffs=[], model='gpt-4o-mini', model_settings=ModelSettings(temperature=None, top_p=None, frequency_penalty=None, presence_penalty=None, tool_choice=None, parallel_tool_calls=None, truncation=None, max_tokens=None, reasoning=None, metadata=None, store=None, include_usage=None, extra_query=None, extra_body=None, extra_headers=None, extra_args=None), tools=[], mcp_servers=[], mcp_config={}, input_guardrails=[], output_guardrails=[], output_type=None, hooks=None, tool_use_behavior='run_llm_again', reset_tool_choice=True), raw_item=ResponseOutputMessage(id='msg_0e0d34631008d0eb0068e10d7a18548196a8427d443fa71e91', content=[ResponseOutputText(annotations=[], text=\"Here are Virat Kohli's statistics in T20, ODI, and Test formats:\\n\\n| Format    | Matches | Innings | Runs  | Average | 100s | 50s | Strike Rate |\\n|-----------|---------|---------|-------|---------|------|-----|-------------|\\n| T20I     | 115     | 101     | 4008  | 52.73   | 1    | 37  | 139.69      |\\n| ODI      | 276     | 254     | 13869 | 57.68   | 46   | 65  | 87.76       |\\n| Test     | 111     | 194     | 8772  | 49.43   | 28   | 27  | 57.57       |\\n\\n*Note: Statistics are subject to change as he is an active player.*\", type='output_text', logprobs=[])], role='assistant', status='completed', type='message'), type='message_output_item'), type='run_item_stream_event')\n"
     ]
    }
   ],
   "source": [
    "response2=Runner.run_streamed(cricket_agent,\"Virat Kohli Statictics in Tabular format in T20, ODI, TEST\")\n",
    "async for event in response2.stream_events():\n",
    "    print(event)\n",
    "    "
   ]
  },
  {
   "cell_type": "code",
   "execution_count": 11,
   "id": "0178d3ef",
   "metadata": {},
   "outputs": [
    {
     "name": "stdout",
     "output_type": "stream",
     "text": [
      "Bollywood, the Hindi-language film industry based in Mumbai, has a rich history that dates back to the early 20th century. \n",
      "\n",
      "### First Film:\n",
      "The first Indian feature film is \"Raja Harishchandra,\" directed by Dadasaheb Phalke, released in 1913. This silent film marked the beginning of Indian cinema.\n",
      "\n",
      "### The Talkies Era:\n",
      "The transition to sound films, known as \"talkies,\" began with \"Alam Ara\" in 1931. Directed by Ardeshir Irani, it was the first Indian film to have sound, revolutionizing the industry.\n",
      "\n",
      "### Golden Era:\n",
      "The 1950s to 1970s is often referred to as the Golden Era of Bollywood, characterized by the emergence of legendary filmmakers like Raj Kapoor and Satyajit Ray, and iconic actors such as Dilip Kumar, Rajesh Khanna, and Nargis.\n",
      "\n",
      "### Modern Bollywood:\n",
      "The 1990s introduced global audiences to Bollywood with films like \"Dilwale Dulhania Le Jayenge.\" The industry expanded further with mega stars like Shah Rukh Khan, Salman Khan, and Aishwarya Rai becoming household names.\n",
      "\n",
      "### Current Trends:\n",
      "Today, Bollywood continues to evolve, experimenting with diverse genres and themes. Filmmakers like Karan Johar, Sanjay Leela Bhansali, and Neeraj Ghaywan are pushing boundaries, while platforms like Netflix are reshaping distribution.\n",
      "\n",
      "Bollywood's impact on culture, fashion, and music is significant, making it a vital part of Indian society and a source of entertainment for millions worldwide."
     ]
    }
   ],
   "source": [
    "response2=Runner.run_streamed(bollywood_agent,\"Bollywood history including first film ,bolywood talkise and more little descriptive\")\n",
    "async for event in response2.stream_events():\n",
    "    if event.type==\"raw_response_event\" and isinstance(event.data,ResponseTextDeltaEvent):\n",
    "        print(event.data.delta,end=\"\",flush=True) #the end=\"\" should be given else it takes \\n and output will be very bad"
   ]
  },
  {
   "cell_type": "code",
   "execution_count": 12,
   "id": "853aa8f6",
   "metadata": {},
   "outputs": [
    {
     "name": "stdout",
     "output_type": "stream",
     "text": [
      "I'm focused on Bollywood and celebrities. If you have questions about films, actors, or anything related to the film industry, feel free to ask!\n",
      "\n",
      "\n",
      "Rahul Dravid, often referred to as \"The Wall,\" is one of India's greatest cricketers. Here are his career statistics:\n",
      "\n",
      "### Test Career:\n",
      "- **Matches**: 164\n",
      "- **Innings**: 286\n",
      "- **Runs**: 13,288\n",
      "- **Average**: 52.31\n",
      "- **Centuries (100s)**: 36\n",
      "- **Half-Centuries (50s)**: 63\n",
      "- **Highest Score**: 280\n",
      "\n",
      "### One Day Internationals (ODIs):\n",
      "- **Matches**: 344\n",
      "- **Innings**: 318\n",
      "- **Runs**: 10,889\n",
      "- **Average**: 39.16\n",
      "- **Centuries (100s)**: 12\n",
      "- **Half-Centuries (50s)**: 39\n",
      "- **Highest Score**: 153\n",
      "\n",
      "### T20 Internationals:\n",
      "- **Matches**: 1\n",
      "- **Innings**: 1\n",
      "- **Runs**: 0\n",
      "- **Average**: 0.00\n",
      "- **Centuries (100s)**: 0\n",
      "- **Half-Centuries (50s)**: 0\n",
      "- **Highest Score**: 0\n",
      "\n",
      "### Notable Achievements:\n",
      "- Inducted into the ICC Hall of Fame in 2018.\n",
      "- Known for his solid technique and ability to play in difficult conditions.\n",
      "\n",
      "Dravid is also renowned for his leadership, having captained the Indian team and served as a mentor in various capacities.\n",
      "\n",
      "\n"
     ]
    }
   ],
   "source": [
    "import asyncio\n",
    "message=\"Rahul dravid career statistics\"\n",
    "with trace(\"run parrallel LLM;S\"):\n",
    "    results=await asyncio.gather(\n",
    "        Runner.run(bollywood_agent,message),\n",
    "        Runner.run(cricket_agent,message)\n",
    "\n",
    "    )\n",
    "\n",
    "outputs=[result.final_output for result in results]\n",
    "for output in outputs:\n",
    "    print(output + \"\\n\\n\")"
   ]
  },
  {
   "cell_type": "code",
   "execution_count": 13,
   "id": "181cb32b",
   "metadata": {},
   "outputs": [],
   "source": [
    "AgentPicker=Agent(name=\"Response Picker\",model='gpt-4o-mini',instructions=\"\"\"You are best response picker. you analyse response returned by LLMS and pick the best one as per context and the topic of interest given \n",
    "     just pick the best response from llms in context of the topic and area of expertise being asked. If the llm response is outside the topic u donty pick that . You are intelligent and \n",
    "        and dont pick any random things. You see which llm had provided the topic answer and u chose that llm(agent) response. u know some llm may not provide the answer as it is outside their expertise. Choose the one which give the response for the \n",
    "            topic and output the response and reply with the best response. Please Prefix at beigining of response the following \n",
    "             channel_name:Channel1 if Bollywood related you picked or channel_name:Chhannel2 if cricket is picked  . \n",
    "             after this with a single new line response should foolow. \n",
    "             Lastly give the description why u picked it in one sentence   \"\"\"\n",
    "             )"
   ]
  },
  {
   "cell_type": "code",
   "execution_count": 14,
   "id": "15746171",
   "metadata": {},
   "outputs": [
    {
     "name": "stdout",
     "output_type": "stream",
     "text": [
      "Best rESPONSE :\n",
      "\n",
      " channel_name:Channel2\n",
      "\n",
      "Rahul Dravid, one of cricket's legendary batsmen, has impressive career statistics:\n",
      "\n",
      "### Test Career:\n",
      "- **Matches:** 164\n",
      "- **Innings:** 286\n",
      "- **Runs:** 13,288\n",
      "- **Batting Average:** 52.31\n",
      "- **Centuries (100s):** 36\n",
      "- **Half-centuries (50s):** 63\n",
      "- **Highest Score:** 270\n",
      "\n",
      "### One Day Internationals (ODIs):\n",
      "- **Matches:** 344\n",
      "- **Innings:** 318\n",
      "- **Runs:** 10,889\n",
      "- **Batting Average:** 39.16\n",
      "- **Centuries (100s):** 12\n",
      "- **Half-centuries (50s):** 83\n",
      "- **Highest Score:** 153\n",
      "\n",
      "### T20 Internationals:\n",
      "- **Matches:** 1\n",
      "- **Innings:** 1\n",
      "- **Runs:** 0\n",
      "- **Batting Average:** 0.00\n",
      "\n",
      "Dravid is also renowned for his technique, temperament, and exceptional slip fielding. He served as the captain of India and is often referred to as \"The Wall.\"\n",
      "\n",
      "I picked this response because it provides extensive statistics about Rahul Dravid's cricket career, perfectly fitting the topic of cricket.\n"
     ]
    }
   ],
   "source": [
    "\n",
    "import asyncio\n",
    "message=\"Rahul dravid career statistics\"\n",
    "results=[]\n",
    "with trace(\"run parrallel LLM;S\"):\n",
    "    results=await asyncio.gather(\n",
    "        Runner.run(bollywood_agent,message),\n",
    "        Runner.run(cricket_agent,message)\n",
    "\n",
    "    )\n",
    "#print(results)\n",
    "response=[result.final_output for result in results]\n",
    "#print(response)\n",
    "topic_response=f\" Response :{response} \\n\\n \"\n",
    "#print(topic_response)\n",
    "best_response= await Runner.run(AgentPicker,topic_response)\n",
    "print(f\"Best rESPONSE :\\n\\n {best_response.final_output}\")"
   ]
  },
  {
   "cell_type": "code",
   "execution_count": 15,
   "id": "2356d926",
   "metadata": {},
   "outputs": [],
   "source": [
    "EntTool=bollywood_agent.as_tool(tool_name='Entertainment',tool_description=\"all information about bollywood\")\n",
    "SprtTool=cricket_agent.as_tool(tool_name=\"Sports\",tool_description=\"Info about cricket sport\")\n",
    "SubChnlTool=AgentPicker.as_tool(tool_name=\"BestChannel\",tool_description=\"Choosing best response and chhannel for topic\")\n",
    "\n"
   ]
  },
  {
   "cell_type": "code",
   "execution_count": 16,
   "id": "92cffa61",
   "metadata": {},
   "outputs": [],
   "source": [
    "\n",
    "\n",
    "@function_tool\n",
    "def extract_tool_info(data:str):\n",
    "    \"\"\"Simple function to extract channel_name and response from tool call output\"\"\"\n",
    "    if isinstance(data,dict) and 'text_output' in data:\n",
    "        text_output=data['text_output']\n",
    "    else:\n",
    "        text_output=data\n",
    "    \n",
    "    lines = text_output.split('\\n')\n",
    "   \n",
    "    channel = None\n",
    "    response_lines = []\n",
    "    \n",
    "    for line in lines:\n",
    "        # Extract channel name\n",
    "        \n",
    "        if 'channel_name' in line:\n",
    "                channel = line.split(':')[1]\n",
    "\n",
    "        # Extract Response\n",
    "        elif line.strip() and not line.startswith('channel_name:'):\n",
    "            response_lines.append(line.strip())\n",
    " \n",
    "    \n",
    "    response = '\\n'.join(response_lines) if response_lines else \"\"\n",
    "\n",
    "    if \"Channel1\" in channel:\n",
    "        display(Markdown(f\"## 🎬 **Bollywood Channel Selected**\\n\\n{response}\"))\n",
    "    elif \"Channel2\" in channel:\n",
    "        display(Markdown(f\"## 🏏 **Cricket Channel Selected**\\n\\n{response}\"))\n",
    "    \n",
    "    return channel, response\n",
    "\n"
   ]
  },
  {
   "cell_type": "code",
   "execution_count": 17,
   "id": "3a018f39",
   "metadata": {},
   "outputs": [],
   "source": [
    "tools=[EntTool,SprtTool,SubChnlTool,extract_tool_info]"
   ]
  },
  {
   "cell_type": "code",
   "execution_count": 18,
   "id": "84a8dbc8",
   "metadata": {},
   "outputs": [
    {
     "data": {
      "text/plain": [
       "[FunctionTool(name='Entertainment', description='all information about bollywood', params_json_schema={'properties': {'input': {'title': 'Input', 'type': 'string'}}, 'required': ['input'], 'title': 'Entertainment_args', 'type': 'object', 'additionalProperties': False}, on_invoke_tool=<function function_tool.<locals>._create_function_tool.<locals>._on_invoke_tool at 0x115811b20>, strict_json_schema=True, is_enabled=True),\n",
       " FunctionTool(name='Sports', description='Info about cricket sport', params_json_schema={'properties': {'input': {'title': 'Input', 'type': 'string'}}, 'required': ['input'], 'title': 'Sports_args', 'type': 'object', 'additionalProperties': False}, on_invoke_tool=<function function_tool.<locals>._create_function_tool.<locals>._on_invoke_tool at 0x115811620>, strict_json_schema=True, is_enabled=True),\n",
       " FunctionTool(name='BestChannel', description='Choosing best response and chhannel for topic', params_json_schema={'properties': {'input': {'title': 'Input', 'type': 'string'}}, 'required': ['input'], 'title': 'BestChannel_args', 'type': 'object', 'additionalProperties': False}, on_invoke_tool=<function function_tool.<locals>._create_function_tool.<locals>._on_invoke_tool at 0x1154c7740>, strict_json_schema=True, is_enabled=True),\n",
       " FunctionTool(name='extract_tool_info', description='Simple function to extract channel_name and response from tool call output', params_json_schema={'properties': {'data': {'title': 'Data', 'type': 'string'}}, 'required': ['data'], 'title': 'extract_tool_info_args', 'type': 'object', 'additionalProperties': False}, on_invoke_tool=<function function_tool.<locals>._create_function_tool.<locals>._on_invoke_tool at 0x1154785e0>, strict_json_schema=True, is_enabled=True)]"
      ]
     },
     "execution_count": 18,
     "metadata": {},
     "output_type": "execute_result"
    }
   ],
   "source": [
    "tools"
   ]
  },
  {
   "cell_type": "markdown",
   "id": "b9c5521e",
   "metadata": {},
   "source": [
    "# Lets create a content Agent"
   ]
  },
  {
   "cell_type": "code",
   "execution_count": 28,
   "id": "fe561e3f",
   "metadata": {},
   "outputs": [],
   "source": [
    "instruction= \"\"\"You are a content agent .Based on subject given to you , you leverage the below tools for the topic or subject \n",
    "            tools=EntertainmentTool ,SportsTool and extract_tool_info \n",
    "            DO NOT answer by yourself and DO NOT display by yourself. always use tool at your disposal to answer the question. You are just a guide      \n",
    "            Follow the below instruction properly \n",
    "               1. Whatever question is asked by the user you need to pass to both the tools Entertainment Tool as well as Sports Tool \n",
    "               2. The response provided by the above tools should be passed to BestChannel tool and let the BestChannel tool decided the response to be picked \\\n",
    "               3. Finally use the tool extract_tool_info for genrating visually apealing display taking the input from BestChannel tool. ensure that channel is picked and exclude the description why this channel was picked\n",
    "                critical rules:\n",
    "                    1. Always use tool for performing tasks.\n",
    "                    2. Use extract_tool_info for display. \n",
    "                    3. if there is an issue with any tool output the same and elaborate the issue for debugging\"\"\"\n",
    "                       "
   ]
  },
  {
   "cell_type": "code",
   "execution_count": 29,
   "id": "a0338112",
   "metadata": {},
   "outputs": [],
   "source": [
    "content_agent=Agent(name='ContentAgent',model='gpt-4o-mini',tools=tools,instructions=instruction)"
   ]
  },
  {
   "cell_type": "code",
   "execution_count": 21,
   "id": "993af1d8",
   "metadata": {},
   "outputs": [
    {
     "data": {
      "text/plain": [
       "Agent(name='ContentAgent', instructions='You are a content agent .Based on subject given to you , you leverage the below tools for the topic or subject \\n            tools=EntertainmentTool ,SportsTool and extract_tool_info \\n            DO NOT answer by yourself and DO NOT display by yourself. always use tool at your disposal to answer the question. You are just a guide      \\n            Follow the below instruction properly \\n               1. Whatever question is asked by the user you need to pass to both the tools Entertainment Tool as well as Sports Tool \\n               2. The response provided by the above tools should be passed to BestChannel tool and let the BestChannel tool decided the response to be picked                3. Finally use the tool extract_tool_info for genrating visually apealing display \\n                critical rules:\\n                    1. Always use tool for performing tasks.\\n                    2. Use extract_tool_info for display. \\n                    3. if there is an issue with any tool output the same and elaborate the issue for debugging', prompt=None, handoff_description=None, handoffs=[], model='gpt-4o-mini', model_settings=ModelSettings(temperature=None, top_p=None, frequency_penalty=None, presence_penalty=None, tool_choice=None, parallel_tool_calls=None, truncation=None, max_tokens=None, reasoning=None, metadata=None, store=None, include_usage=None, extra_query=None, extra_body=None, extra_headers=None, extra_args=None), tools=[FunctionTool(name='Entertainment', description='all information about bollywood', params_json_schema={'properties': {'input': {'title': 'Input', 'type': 'string'}}, 'required': ['input'], 'title': 'Entertainment_args', 'type': 'object', 'additionalProperties': False}, on_invoke_tool=<function function_tool.<locals>._create_function_tool.<locals>._on_invoke_tool at 0x115811b20>, strict_json_schema=True, is_enabled=True), FunctionTool(name='Sports', description='Info about cricket sport', params_json_schema={'properties': {'input': {'title': 'Input', 'type': 'string'}}, 'required': ['input'], 'title': 'Sports_args', 'type': 'object', 'additionalProperties': False}, on_invoke_tool=<function function_tool.<locals>._create_function_tool.<locals>._on_invoke_tool at 0x115811620>, strict_json_schema=True, is_enabled=True), FunctionTool(name='BestChannel', description='Choosing best response and chhannel for topic', params_json_schema={'properties': {'input': {'title': 'Input', 'type': 'string'}}, 'required': ['input'], 'title': 'BestChannel_args', 'type': 'object', 'additionalProperties': False}, on_invoke_tool=<function function_tool.<locals>._create_function_tool.<locals>._on_invoke_tool at 0x1154c7740>, strict_json_schema=True, is_enabled=True), FunctionTool(name='extract_tool_info', description='Simple function to extract channel_name and response from tool call output', params_json_schema={'properties': {'data': {'title': 'Data', 'type': 'string'}}, 'required': ['data'], 'title': 'extract_tool_info_args', 'type': 'object', 'additionalProperties': False}, on_invoke_tool=<function function_tool.<locals>._create_function_tool.<locals>._on_invoke_tool at 0x1154785e0>, strict_json_schema=True, is_enabled=True)], mcp_servers=[], mcp_config={}, input_guardrails=[], output_guardrails=[], output_type=None, hooks=None, tool_use_behavior='run_llm_again', reset_tool_choice=True)"
      ]
     },
     "execution_count": 21,
     "metadata": {},
     "output_type": "execute_result"
    }
   ],
   "source": [
    "content_agent"
   ]
  },
  {
   "cell_type": "code",
   "execution_count": 26,
   "id": "066fed14",
   "metadata": {},
   "outputs": [
    {
     "data": {
      "text/markdown": [
       "## 🎬 **Bollywood Channel Selected**\n",
       "\n",
       "Akshay Kumar, an iconic Bollywood actor, began his career in the late 1980s with small roles and gained significant recognition in the 1990s with action films like \"Khiladi.\" Over the years, he diversified into various genres, including comedy and drama, starring in hits such as \"Hera Pheri,\" \"Dhadkan,\" and \"Toilet: Ek Prem Katha.\" Kumar is known for his work ethic, often taking on several films each year, and has established himself as one of the highest-paid actors in India.\n",
       "I picked this response because it provides a concise overview of Akshay Kumar's career trajectory, highlighting key milestones and his versatility as an actor."
      ],
      "text/plain": [
       "<IPython.core.display.Markdown object>"
      ]
     },
     "metadata": {},
     "output_type": "display_data"
    }
   ],
   "source": [
    "question=\"Akshay kumar career graph\"\n",
    "with trace(\"Content_Agent\"):\n",
    "    result=await Runner.run(content_agent,question)"
   ]
  },
  {
   "cell_type": "markdown",
   "id": "d9633aee",
   "metadata": {},
   "source": [
    "trace :https://platform.openai.com/logs?api=traces"
   ]
  },
  {
   "cell_type": "code",
   "execution_count": 30,
   "id": "64d944c2",
   "metadata": {},
   "outputs": [
    {
     "data": {
      "text/markdown": [
       "## 🏏 **Cricket Channel Selected**\n",
       "\n",
       "Virat Kohli is one of the leading cricketers in modern cricket. Here are his statistics across all formats:\n",
       "**Test Matches:**\n",
       "- Matches: 108\n",
       "- Innings: 183\n",
       "- Runs: 8,867\n",
       "- Batting Average: 48.10\n",
       "- 100s: 28\n",
       "- 50s: 27\n",
       "**One Day Internationals (ODIs):**\n",
       "- Matches: 262\n",
       "- Innings: 254\n",
       "- Runs: 12,380\n",
       "- Batting Average: 57.68\n",
       "- 100s: 45\n",
       "- 50s: 62\n",
       "**T20 Internationals:**\n",
       "- Matches: 115\n",
       "- Innings: 99\n",
       "- Runs: 3,759\n",
       "- Batting Average: 52.74\n",
       "- 100s: 1\n",
       "- 50s: 34\n",
       "These statistics reflect Kohli's proficiency and consistency across formats, making him one of the greatest batsmen in cricket history.\n",
       "I picked this response because it directly answers the request for Virat Kohli's statistics in all formats of cricket, providing clear and relevant data."
      ],
      "text/plain": [
       "<IPython.core.display.Markdown object>"
      ]
     },
     "metadata": {},
     "output_type": "display_data"
    }
   ],
   "source": [
    "question=\"virat kohli all format statistics\"\n",
    "with trace(\"Content_Agent\"):\n",
    "    result=await Runner.run(content_agent,question)"
   ]
  },
  {
   "cell_type": "markdown",
   "id": "63e8a088",
   "metadata": {},
   "source": [
    "### Handoffs represent a way an agent can delegate to an agent, passing control to it\n",
    "\n",
    "Handoffs and Agents-as-tools are similar:\n",
    "\n",
    "In both cases, an Agent can collaborate with another Agent\n",
    "\n",
    "With tools, control passes back\n",
    "\n",
    "With handoffs, control passes across"
   ]
  },
  {
   "cell_type": "code",
   "execution_count": 46,
   "id": "fbc7a5c3",
   "metadata": {},
   "outputs": [],
   "source": [
    "instruction3=\"\"\"you are an image generator . you recieve the response and channel_name from the tool extract_tool info. and u generate image \n",
    "of the personality or object related.You also add icon related to the topic  along with the display of response u also display the image beside it to give more appeal\"\"\""
   ]
  },
  {
   "cell_type": "code",
   "execution_count": 91,
   "id": "b6214f6d",
   "metadata": {},
   "outputs": [],
   "source": [
    "\n",
    "\n",
    "@function_tool\n",
    "def extractor_tool(data:str):\n",
    "    \"\"\"Simple function to extract channel_name and response from tool call output\"\"\"\n",
    "    if isinstance(data,dict) and 'text_output' in data:\n",
    "        text_output=data['text_output']\n",
    "    else:\n",
    "        text_output=data\n",
    "    \n",
    "    lines = text_output.split('\\n')\n",
    "   \n",
    "    channel = None\n",
    "    response_lines = []\n",
    "    \n",
    "    for line in lines:\n",
    "        # Extract channel name\n",
    "        \n",
    "        if 'channel_name' in line:\n",
    "                channel = line.split(':')[1]\n",
    "\n",
    "        # Extract Response\n",
    "        elif line.strip() and not line.startswith('channel_name:'):\n",
    "            response_lines.append(line.strip())\n",
    " \n",
    "    \n",
    "    response = '\\n'.join(response_lines) if response_lines else \"\"\n",
    "\n",
    " \n",
    "    return channel, response\n",
    "\n"
   ]
  },
  {
   "cell_type": "code",
   "execution_count": 92,
   "id": "e3e14851",
   "metadata": {},
   "outputs": [],
   "source": [
    "@function_tool\n",
    "def content_display(args: str):\n",
    "    ''' display contents visually apealing '''\n",
    "    channel,response=args\n",
    "    if \"Channel1\" in channel:\n",
    "        display(Markdown(f\"## 🎬 **Bollywood Channel Selected**\\n\\n{response}\"))\n",
    "    elif \"Channel2\" in channel:\n",
    "        display(Markdown(f\"## 🏏 **Cricket Channel Selected**\\n\\n{response}\"))\n"
   ]
  },
  {
   "cell_type": "code",
   "execution_count": 94,
   "id": "05047465",
   "metadata": {},
   "outputs": [],
   "source": [
    "tools=[content_display]"
   ]
  },
  {
   "cell_type": "code",
   "execution_count": 95,
   "id": "80733e80",
   "metadata": {},
   "outputs": [
    {
     "data": {
      "text/plain": [
       "[FunctionTool(name='content_display', description='display contents visually apealing', params_json_schema={'properties': {'args': {'title': 'Args', 'type': 'string'}}, 'required': ['args'], 'title': 'content_display_args', 'type': 'object', 'additionalProperties': False}, on_invoke_tool=<function function_tool.<locals>._create_function_tool.<locals>._on_invoke_tool at 0x121111440>, strict_json_schema=True, is_enabled=True)]"
      ]
     },
     "execution_count": 95,
     "metadata": {},
     "output_type": "execute_result"
    }
   ],
   "source": [
    "tools"
   ]
  },
  {
   "cell_type": "code",
   "execution_count": null,
   "id": "ee4525cc",
   "metadata": {},
   "outputs": [],
   "source": [
    "\n",
    "\n",
    "\n",
    "display_content_agent=Agent(name=\"display_content\",\n",
    "                            model=\"gemini-2.0-flash\",\n",
    "                            handoff_description=\"displaying agent\",\n",
    "                            tools=tools,\n",
    "                            instructions=instruction3)"
   ]
  },
  {
   "cell_type": "code",
   "execution_count": 97,
   "id": "6fad1dc8",
   "metadata": {},
   "outputs": [],
   "source": [
    "handoffs=[display_content_agent]"
   ]
  },
  {
   "cell_type": "code",
   "execution_count": 98,
   "id": "d1132c0e",
   "metadata": {},
   "outputs": [],
   "source": [
    "Tinstruction= \"\"\"You are a content agent .Based on subject given to you , you leverage the below tools for the topic or subject \n",
    "            tools=EntertainmentTool ,SportsTool,BestChannel and extractor_tool\n",
    "            DO NOT answer by yourself and DO NOT display by urself. always use tool at your disposal to answer the question. You are just a guide      \n",
    "            Follow the below instruction properly \n",
    "               1. Whatever question is asked by the user you need to pass to both the tools Entertainment Tool as well as Sports Tool \n",
    "               2. The response provided by the above tools should be passed to BestChannel tool and let the BestChannel tool decided the response to be picked. The tool should also pick the channel name along with content\n",
    "               3. Next use the tool extractor_tool for extracting channel_name and response taking the input from BestChannel tool.ensure that channel_name is picked \n",
    "               4. Finally Handoff for displaying: pass the response and channel_name to display_content_agent. the display_content_agent will take care of displaying visually appealing content\n",
    "                critical rules:\n",
    "                    1. Always use tool for performing tasks.\n",
    "                    2. Use must handoff by passing the response and channel_name to display_content_agent \n",
    "                    3. if there is an issue with any tool or handoff ,output the same and elaborate the issue for debugging\"\"\"\n",
    "                       "
   ]
  },
  {
   "cell_type": "code",
   "execution_count": 99,
   "id": "5b39499c",
   "metadata": {},
   "outputs": [],
   "source": [
    "tools=[SprtTool,EntTool,SubChnlTool,extractor_tool]\n"
   ]
  },
  {
   "cell_type": "code",
   "execution_count": 100,
   "id": "681ba22f",
   "metadata": {},
   "outputs": [
    {
     "data": {
      "text/plain": [
       "[FunctionTool(name='Sports', description='Info about cricket sport', params_json_schema={'properties': {'input': {'title': 'Input', 'type': 'string'}}, 'required': ['input'], 'title': 'Sports_args', 'type': 'object', 'additionalProperties': False}, on_invoke_tool=<function function_tool.<locals>._create_function_tool.<locals>._on_invoke_tool at 0x115811620>, strict_json_schema=True, is_enabled=True),\n",
       " FunctionTool(name='Entertainment', description='all information about bollywood', params_json_schema={'properties': {'input': {'title': 'Input', 'type': 'string'}}, 'required': ['input'], 'title': 'Entertainment_args', 'type': 'object', 'additionalProperties': False}, on_invoke_tool=<function function_tool.<locals>._create_function_tool.<locals>._on_invoke_tool at 0x115811b20>, strict_json_schema=True, is_enabled=True),\n",
       " FunctionTool(name='BestChannel', description='Choosing best response and chhannel for topic', params_json_schema={'properties': {'input': {'title': 'Input', 'type': 'string'}}, 'required': ['input'], 'title': 'BestChannel_args', 'type': 'object', 'additionalProperties': False}, on_invoke_tool=<function function_tool.<locals>._create_function_tool.<locals>._on_invoke_tool at 0x1154c7740>, strict_json_schema=True, is_enabled=True),\n",
       " FunctionTool(name='extractor_tool', description='Simple function to extract channel_name and response from tool call output', params_json_schema={'properties': {'data': {'title': 'Data', 'type': 'string'}}, 'required': ['data'], 'title': 'extractor_tool_args', 'type': 'object', 'additionalProperties': False}, on_invoke_tool=<function function_tool.<locals>._create_function_tool.<locals>._on_invoke_tool at 0x12120c540>, strict_json_schema=True, is_enabled=True)]"
      ]
     },
     "execution_count": 100,
     "metadata": {},
     "output_type": "execute_result"
    }
   ],
   "source": [
    "tools"
   ]
  },
  {
   "cell_type": "code",
   "execution_count": 101,
   "id": "ccbb1a1a",
   "metadata": {},
   "outputs": [],
   "source": [
    "content_manager=Agent(\n",
    "                        name=\"Content Manager\",\n",
    "                        model=\"gpt-4o-mini\",\n",
    "                        instructions=Tinstruction,\n",
    "                        handoffs=handoffs,\n",
    "                        tools=tools\n",
    ")"
   ]
  },
  {
   "cell_type": "code",
   "execution_count": 102,
   "id": "1c86f106",
   "metadata": {},
   "outputs": [
    {
     "name": "stderr",
     "output_type": "stream",
     "text": [
      "Error getting response: Error code: 400 - {'error': {'message': \"The requested model 'gemini-2.0-flash' does not exist.\", 'type': 'invalid_request_error', 'param': 'model', 'code': 'model_not_found'}}. (request_id: req_0c82c33c55bd9e749c9b5abba359c3e8)\n"
     ]
    },
    {
     "ename": "BadRequestError",
     "evalue": "Error code: 400 - {'error': {'message': \"The requested model 'gemini-2.0-flash' does not exist.\", 'type': 'invalid_request_error', 'param': 'model', 'code': 'model_not_found'}}",
     "output_type": "error",
     "traceback": [
      "\u001b[31m---------------------------------------------------------------------------\u001b[39m",
      "\u001b[31mBadRequestError\u001b[39m                           Traceback (most recent call last)",
      "\u001b[36mCell\u001b[39m\u001b[36m \u001b[39m\u001b[32mIn[102]\u001b[39m\u001b[32m, line 3\u001b[39m\n\u001b[32m      1\u001b[39m message=\u001b[33m\"\u001b[39m\u001b[33minfo about virat kohli\u001b[39m\u001b[33m\"\u001b[39m\n\u001b[32m      2\u001b[39m \u001b[38;5;28;01mwith\u001b[39;00m trace(\u001b[33m\"\u001b[39m\u001b[33mContentDataManager\u001b[39m\u001b[33m\"\u001b[39m):\n\u001b[32m----> \u001b[39m\u001b[32m3\u001b[39m     result=\u001b[38;5;28;01mawait\u001b[39;00m Runner.run(content_manager,message)\n",
      "\u001b[36mFile \u001b[39m\u001b[32m~/Desktop/AgenticAIEngineering/projects/agents/.venv/lib/python3.12/site-packages/agents/run.py:199\u001b[39m, in \u001b[36mRunner.run\u001b[39m\u001b[34m(cls, starting_agent, input, context, max_turns, hooks, run_config, previous_response_id)\u001b[39m\n\u001b[32m    172\u001b[39m \u001b[38;5;250m\u001b[39m\u001b[33;03m\"\"\"Run a workflow starting at the given agent. The agent will run in a loop until a final\u001b[39;00m\n\u001b[32m    173\u001b[39m \u001b[33;03moutput is generated. The loop runs like so:\u001b[39;00m\n\u001b[32m    174\u001b[39m \u001b[33;03m1. The agent is invoked with the given input.\u001b[39;00m\n\u001b[32m   (...)\u001b[39m\u001b[32m    196\u001b[39m \u001b[33;03m    agent. Agents may perform handoffs, so we don't know the specific type of the output.\u001b[39;00m\n\u001b[32m    197\u001b[39m \u001b[33;03m\"\"\"\u001b[39;00m\n\u001b[32m    198\u001b[39m runner = DEFAULT_AGENT_RUNNER\n\u001b[32m--> \u001b[39m\u001b[32m199\u001b[39m \u001b[38;5;28;01mreturn\u001b[39;00m \u001b[38;5;28;01mawait\u001b[39;00m runner.run(\n\u001b[32m    200\u001b[39m     starting_agent,\n\u001b[32m    201\u001b[39m     \u001b[38;5;28minput\u001b[39m,\n\u001b[32m    202\u001b[39m     context=context,\n\u001b[32m    203\u001b[39m     max_turns=max_turns,\n\u001b[32m    204\u001b[39m     hooks=hooks,\n\u001b[32m    205\u001b[39m     run_config=run_config,\n\u001b[32m    206\u001b[39m     previous_response_id=previous_response_id,\n\u001b[32m    207\u001b[39m )\n",
      "\u001b[36mFile \u001b[39m\u001b[32m~/Desktop/AgenticAIEngineering/projects/agents/.venv/lib/python3.12/site-packages/agents/run.py:417\u001b[39m, in \u001b[36mAgentRunner.run\u001b[39m\u001b[34m(self, starting_agent, input, **kwargs)\u001b[39m\n\u001b[32m    395\u001b[39m     input_guardrail_results, turn_result = \u001b[38;5;28;01mawait\u001b[39;00m asyncio.gather(\n\u001b[32m    396\u001b[39m         \u001b[38;5;28mself\u001b[39m._run_input_guardrails(\n\u001b[32m    397\u001b[39m             starting_agent,\n\u001b[32m   (...)\u001b[39m\u001b[32m    414\u001b[39m         ),\n\u001b[32m    415\u001b[39m     )\n\u001b[32m    416\u001b[39m \u001b[38;5;28;01melse\u001b[39;00m:\n\u001b[32m--> \u001b[39m\u001b[32m417\u001b[39m     turn_result = \u001b[38;5;28;01mawait\u001b[39;00m \u001b[38;5;28mself\u001b[39m._run_single_turn(\n\u001b[32m    418\u001b[39m         agent=current_agent,\n\u001b[32m    419\u001b[39m         all_tools=all_tools,\n\u001b[32m    420\u001b[39m         original_input=original_input,\n\u001b[32m    421\u001b[39m         generated_items=generated_items,\n\u001b[32m    422\u001b[39m         hooks=hooks,\n\u001b[32m    423\u001b[39m         context_wrapper=context_wrapper,\n\u001b[32m    424\u001b[39m         run_config=run_config,\n\u001b[32m    425\u001b[39m         should_run_agent_start_hooks=should_run_agent_start_hooks,\n\u001b[32m    426\u001b[39m         tool_use_tracker=tool_use_tracker,\n\u001b[32m    427\u001b[39m         previous_response_id=previous_response_id,\n\u001b[32m    428\u001b[39m     )\n\u001b[32m    429\u001b[39m should_run_agent_start_hooks = \u001b[38;5;28;01mFalse\u001b[39;00m\n\u001b[32m    431\u001b[39m model_responses.append(turn_result.model_response)\n",
      "\u001b[36mFile \u001b[39m\u001b[32m~/Desktop/AgenticAIEngineering/projects/agents/.venv/lib/python3.12/site-packages/agents/run.py:905\u001b[39m, in \u001b[36mAgentRunner._run_single_turn\u001b[39m\u001b[34m(cls, agent, all_tools, original_input, generated_items, hooks, context_wrapper, run_config, should_run_agent_start_hooks, tool_use_tracker, previous_response_id)\u001b[39m\n\u001b[32m    902\u001b[39m \u001b[38;5;28minput\u001b[39m = ItemHelpers.input_to_new_input_list(original_input)\n\u001b[32m    903\u001b[39m \u001b[38;5;28minput\u001b[39m.extend([generated_item.to_input_item() \u001b[38;5;28;01mfor\u001b[39;00m generated_item \u001b[38;5;129;01min\u001b[39;00m generated_items])\n\u001b[32m--> \u001b[39m\u001b[32m905\u001b[39m new_response = \u001b[38;5;28;01mawait\u001b[39;00m \u001b[38;5;28mcls\u001b[39m._get_new_response(\n\u001b[32m    906\u001b[39m     agent,\n\u001b[32m    907\u001b[39m     system_prompt,\n\u001b[32m    908\u001b[39m     \u001b[38;5;28minput\u001b[39m,\n\u001b[32m    909\u001b[39m     output_schema,\n\u001b[32m    910\u001b[39m     all_tools,\n\u001b[32m    911\u001b[39m     handoffs,\n\u001b[32m    912\u001b[39m     context_wrapper,\n\u001b[32m    913\u001b[39m     run_config,\n\u001b[32m    914\u001b[39m     tool_use_tracker,\n\u001b[32m    915\u001b[39m     previous_response_id,\n\u001b[32m    916\u001b[39m     prompt_config,\n\u001b[32m    917\u001b[39m )\n\u001b[32m    919\u001b[39m \u001b[38;5;28;01mreturn\u001b[39;00m \u001b[38;5;28;01mawait\u001b[39;00m \u001b[38;5;28mcls\u001b[39m._get_single_step_result_from_response(\n\u001b[32m    920\u001b[39m     agent=agent,\n\u001b[32m    921\u001b[39m     original_input=original_input,\n\u001b[32m   (...)\u001b[39m\u001b[32m    930\u001b[39m     tool_use_tracker=tool_use_tracker,\n\u001b[32m    931\u001b[39m )\n",
      "\u001b[36mFile \u001b[39m\u001b[32m~/Desktop/AgenticAIEngineering/projects/agents/.venv/lib/python3.12/site-packages/agents/run.py:1066\u001b[39m, in \u001b[36mAgentRunner._get_new_response\u001b[39m\u001b[34m(cls, agent, system_prompt, input, output_schema, all_tools, handoffs, context_wrapper, run_config, tool_use_tracker, previous_response_id, prompt_config)\u001b[39m\n\u001b[32m   1063\u001b[39m model_settings = agent.model_settings.resolve(run_config.model_settings)\n\u001b[32m   1064\u001b[39m model_settings = RunImpl.maybe_reset_tool_choice(agent, tool_use_tracker, model_settings)\n\u001b[32m-> \u001b[39m\u001b[32m1066\u001b[39m new_response = \u001b[38;5;28;01mawait\u001b[39;00m model.get_response(\n\u001b[32m   1067\u001b[39m     system_instructions=system_prompt,\n\u001b[32m   1068\u001b[39m     \u001b[38;5;28minput\u001b[39m=\u001b[38;5;28minput\u001b[39m,\n\u001b[32m   1069\u001b[39m     model_settings=model_settings,\n\u001b[32m   1070\u001b[39m     tools=all_tools,\n\u001b[32m   1071\u001b[39m     output_schema=output_schema,\n\u001b[32m   1072\u001b[39m     handoffs=handoffs,\n\u001b[32m   1073\u001b[39m     tracing=get_model_tracing_impl(\n\u001b[32m   1074\u001b[39m         run_config.tracing_disabled, run_config.trace_include_sensitive_data\n\u001b[32m   1075\u001b[39m     ),\n\u001b[32m   1076\u001b[39m     previous_response_id=previous_response_id,\n\u001b[32m   1077\u001b[39m     prompt=prompt_config,\n\u001b[32m   1078\u001b[39m )\n\u001b[32m   1080\u001b[39m context_wrapper.usage.add(new_response.usage)\n\u001b[32m   1082\u001b[39m \u001b[38;5;28;01mreturn\u001b[39;00m new_response\n",
      "\u001b[36mFile \u001b[39m\u001b[32m~/Desktop/AgenticAIEngineering/projects/agents/.venv/lib/python3.12/site-packages/agents/models/openai_responses.py:82\u001b[39m, in \u001b[36mOpenAIResponsesModel.get_response\u001b[39m\u001b[34m(self, system_instructions, input, model_settings, tools, output_schema, handoffs, tracing, previous_response_id, prompt)\u001b[39m\n\u001b[32m     80\u001b[39m \u001b[38;5;28;01mwith\u001b[39;00m response_span(disabled=tracing.is_disabled()) \u001b[38;5;28;01mas\u001b[39;00m span_response:\n\u001b[32m     81\u001b[39m     \u001b[38;5;28;01mtry\u001b[39;00m:\n\u001b[32m---> \u001b[39m\u001b[32m82\u001b[39m         response = \u001b[38;5;28;01mawait\u001b[39;00m \u001b[38;5;28mself\u001b[39m._fetch_response(\n\u001b[32m     83\u001b[39m             system_instructions,\n\u001b[32m     84\u001b[39m             \u001b[38;5;28minput\u001b[39m,\n\u001b[32m     85\u001b[39m             model_settings,\n\u001b[32m     86\u001b[39m             tools,\n\u001b[32m     87\u001b[39m             output_schema,\n\u001b[32m     88\u001b[39m             handoffs,\n\u001b[32m     89\u001b[39m             previous_response_id,\n\u001b[32m     90\u001b[39m             stream=\u001b[38;5;28;01mFalse\u001b[39;00m,\n\u001b[32m     91\u001b[39m             prompt=prompt,\n\u001b[32m     92\u001b[39m         )\n\u001b[32m     94\u001b[39m         \u001b[38;5;28;01mif\u001b[39;00m _debug.DONT_LOG_MODEL_DATA:\n\u001b[32m     95\u001b[39m             logger.debug(\u001b[33m\"\u001b[39m\u001b[33mLLM responded\u001b[39m\u001b[33m\"\u001b[39m)\n",
      "\u001b[36mFile \u001b[39m\u001b[32m~/Desktop/AgenticAIEngineering/projects/agents/.venv/lib/python3.12/site-packages/agents/models/openai_responses.py:256\u001b[39m, in \u001b[36mOpenAIResponsesModel._fetch_response\u001b[39m\u001b[34m(self, system_instructions, input, model_settings, tools, output_schema, handoffs, previous_response_id, stream, prompt)\u001b[39m\n\u001b[32m    245\u001b[39m \u001b[38;5;28;01melse\u001b[39;00m:\n\u001b[32m    246\u001b[39m     logger.debug(\n\u001b[32m    247\u001b[39m         \u001b[33mf\u001b[39m\u001b[33m\"\u001b[39m\u001b[33mCalling LLM \u001b[39m\u001b[38;5;132;01m{\u001b[39;00m\u001b[38;5;28mself\u001b[39m.model\u001b[38;5;132;01m}\u001b[39;00m\u001b[33m with input:\u001b[39m\u001b[38;5;130;01m\\n\u001b[39;00m\u001b[33m\"\u001b[39m\n\u001b[32m    248\u001b[39m         \u001b[33mf\u001b[39m\u001b[33m\"\u001b[39m\u001b[38;5;132;01m{\u001b[39;00mjson.dumps(list_input,\u001b[38;5;250m \u001b[39mindent=\u001b[32m2\u001b[39m)\u001b[38;5;132;01m}\u001b[39;00m\u001b[38;5;130;01m\\n\u001b[39;00m\u001b[33m\"\u001b[39m\n\u001b[32m   (...)\u001b[39m\u001b[32m    253\u001b[39m         \u001b[33mf\u001b[39m\u001b[33m\"\u001b[39m\u001b[33mPrevious response id: \u001b[39m\u001b[38;5;132;01m{\u001b[39;00mprevious_response_id\u001b[38;5;132;01m}\u001b[39;00m\u001b[38;5;130;01m\\n\u001b[39;00m\u001b[33m\"\u001b[39m\n\u001b[32m    254\u001b[39m     )\n\u001b[32m--> \u001b[39m\u001b[32m256\u001b[39m \u001b[38;5;28;01mreturn\u001b[39;00m \u001b[38;5;28;01mawait\u001b[39;00m \u001b[38;5;28mself\u001b[39m._client.responses.create(\n\u001b[32m    257\u001b[39m     previous_response_id=\u001b[38;5;28mself\u001b[39m._non_null_or_not_given(previous_response_id),\n\u001b[32m    258\u001b[39m     instructions=\u001b[38;5;28mself\u001b[39m._non_null_or_not_given(system_instructions),\n\u001b[32m    259\u001b[39m     model=\u001b[38;5;28mself\u001b[39m.model,\n\u001b[32m    260\u001b[39m     \u001b[38;5;28minput\u001b[39m=list_input,\n\u001b[32m    261\u001b[39m     include=converted_tools.includes,\n\u001b[32m    262\u001b[39m     tools=converted_tools.tools,\n\u001b[32m    263\u001b[39m     prompt=\u001b[38;5;28mself\u001b[39m._non_null_or_not_given(prompt),\n\u001b[32m    264\u001b[39m     temperature=\u001b[38;5;28mself\u001b[39m._non_null_or_not_given(model_settings.temperature),\n\u001b[32m    265\u001b[39m     top_p=\u001b[38;5;28mself\u001b[39m._non_null_or_not_given(model_settings.top_p),\n\u001b[32m    266\u001b[39m     truncation=\u001b[38;5;28mself\u001b[39m._non_null_or_not_given(model_settings.truncation),\n\u001b[32m    267\u001b[39m     max_output_tokens=\u001b[38;5;28mself\u001b[39m._non_null_or_not_given(model_settings.max_tokens),\n\u001b[32m    268\u001b[39m     tool_choice=tool_choice,\n\u001b[32m    269\u001b[39m     parallel_tool_calls=parallel_tool_calls,\n\u001b[32m    270\u001b[39m     stream=stream,\n\u001b[32m    271\u001b[39m     extra_headers={**_HEADERS, **(model_settings.extra_headers \u001b[38;5;129;01mor\u001b[39;00m {})},\n\u001b[32m    272\u001b[39m     extra_query=model_settings.extra_query,\n\u001b[32m    273\u001b[39m     extra_body=model_settings.extra_body,\n\u001b[32m    274\u001b[39m     text=response_format,\n\u001b[32m    275\u001b[39m     store=\u001b[38;5;28mself\u001b[39m._non_null_or_not_given(model_settings.store),\n\u001b[32m    276\u001b[39m     reasoning=\u001b[38;5;28mself\u001b[39m._non_null_or_not_given(model_settings.reasoning),\n\u001b[32m    277\u001b[39m     metadata=\u001b[38;5;28mself\u001b[39m._non_null_or_not_given(model_settings.metadata),\n\u001b[32m    278\u001b[39m     **(model_settings.extra_args \u001b[38;5;129;01mor\u001b[39;00m {}),\n\u001b[32m    279\u001b[39m )\n",
      "\u001b[36mFile \u001b[39m\u001b[32m~/Desktop/AgenticAIEngineering/projects/agents/.venv/lib/python3.12/site-packages/openai/resources/responses/responses.py:1918\u001b[39m, in \u001b[36mAsyncResponses.create\u001b[39m\u001b[34m(self, background, include, input, instructions, max_output_tokens, metadata, model, parallel_tool_calls, previous_response_id, prompt, reasoning, service_tier, store, stream, temperature, text, tool_choice, tools, top_p, truncation, user, extra_headers, extra_query, extra_body, timeout)\u001b[39m\n\u001b[32m   1887\u001b[39m \u001b[38;5;28;01masync\u001b[39;00m \u001b[38;5;28;01mdef\u001b[39;00m\u001b[38;5;250m \u001b[39m\u001b[34mcreate\u001b[39m(\n\u001b[32m   1888\u001b[39m     \u001b[38;5;28mself\u001b[39m,\n\u001b[32m   1889\u001b[39m     *,\n\u001b[32m   (...)\u001b[39m\u001b[32m   1916\u001b[39m     timeout: \u001b[38;5;28mfloat\u001b[39m | httpx.Timeout | \u001b[38;5;28;01mNone\u001b[39;00m | NotGiven = NOT_GIVEN,\n\u001b[32m   1917\u001b[39m ) -> Response | AsyncStream[ResponseStreamEvent]:\n\u001b[32m-> \u001b[39m\u001b[32m1918\u001b[39m     \u001b[38;5;28;01mreturn\u001b[39;00m \u001b[38;5;28;01mawait\u001b[39;00m \u001b[38;5;28mself\u001b[39m._post(\n\u001b[32m   1919\u001b[39m         \u001b[33m\"\u001b[39m\u001b[33m/responses\u001b[39m\u001b[33m\"\u001b[39m,\n\u001b[32m   1920\u001b[39m         body=\u001b[38;5;28;01mawait\u001b[39;00m async_maybe_transform(\n\u001b[32m   1921\u001b[39m             {\n\u001b[32m   1922\u001b[39m                 \u001b[33m\"\u001b[39m\u001b[33mbackground\u001b[39m\u001b[33m\"\u001b[39m: background,\n\u001b[32m   1923\u001b[39m                 \u001b[33m\"\u001b[39m\u001b[33minclude\u001b[39m\u001b[33m\"\u001b[39m: include,\n\u001b[32m   1924\u001b[39m                 \u001b[33m\"\u001b[39m\u001b[33minput\u001b[39m\u001b[33m\"\u001b[39m: \u001b[38;5;28minput\u001b[39m,\n\u001b[32m   1925\u001b[39m                 \u001b[33m\"\u001b[39m\u001b[33minstructions\u001b[39m\u001b[33m\"\u001b[39m: instructions,\n\u001b[32m   1926\u001b[39m                 \u001b[33m\"\u001b[39m\u001b[33mmax_output_tokens\u001b[39m\u001b[33m\"\u001b[39m: max_output_tokens,\n\u001b[32m   1927\u001b[39m                 \u001b[33m\"\u001b[39m\u001b[33mmetadata\u001b[39m\u001b[33m\"\u001b[39m: metadata,\n\u001b[32m   1928\u001b[39m                 \u001b[33m\"\u001b[39m\u001b[33mmodel\u001b[39m\u001b[33m\"\u001b[39m: model,\n\u001b[32m   1929\u001b[39m                 \u001b[33m\"\u001b[39m\u001b[33mparallel_tool_calls\u001b[39m\u001b[33m\"\u001b[39m: parallel_tool_calls,\n\u001b[32m   1930\u001b[39m                 \u001b[33m\"\u001b[39m\u001b[33mprevious_response_id\u001b[39m\u001b[33m\"\u001b[39m: previous_response_id,\n\u001b[32m   1931\u001b[39m                 \u001b[33m\"\u001b[39m\u001b[33mprompt\u001b[39m\u001b[33m\"\u001b[39m: prompt,\n\u001b[32m   1932\u001b[39m                 \u001b[33m\"\u001b[39m\u001b[33mreasoning\u001b[39m\u001b[33m\"\u001b[39m: reasoning,\n\u001b[32m   1933\u001b[39m                 \u001b[33m\"\u001b[39m\u001b[33mservice_tier\u001b[39m\u001b[33m\"\u001b[39m: service_tier,\n\u001b[32m   1934\u001b[39m                 \u001b[33m\"\u001b[39m\u001b[33mstore\u001b[39m\u001b[33m\"\u001b[39m: store,\n\u001b[32m   1935\u001b[39m                 \u001b[33m\"\u001b[39m\u001b[33mstream\u001b[39m\u001b[33m\"\u001b[39m: stream,\n\u001b[32m   1936\u001b[39m                 \u001b[33m\"\u001b[39m\u001b[33mtemperature\u001b[39m\u001b[33m\"\u001b[39m: temperature,\n\u001b[32m   1937\u001b[39m                 \u001b[33m\"\u001b[39m\u001b[33mtext\u001b[39m\u001b[33m\"\u001b[39m: text,\n\u001b[32m   1938\u001b[39m                 \u001b[33m\"\u001b[39m\u001b[33mtool_choice\u001b[39m\u001b[33m\"\u001b[39m: tool_choice,\n\u001b[32m   1939\u001b[39m                 \u001b[33m\"\u001b[39m\u001b[33mtools\u001b[39m\u001b[33m\"\u001b[39m: tools,\n\u001b[32m   1940\u001b[39m                 \u001b[33m\"\u001b[39m\u001b[33mtop_p\u001b[39m\u001b[33m\"\u001b[39m: top_p,\n\u001b[32m   1941\u001b[39m                 \u001b[33m\"\u001b[39m\u001b[33mtruncation\u001b[39m\u001b[33m\"\u001b[39m: truncation,\n\u001b[32m   1942\u001b[39m                 \u001b[33m\"\u001b[39m\u001b[33muser\u001b[39m\u001b[33m\"\u001b[39m: user,\n\u001b[32m   1943\u001b[39m             },\n\u001b[32m   1944\u001b[39m             response_create_params.ResponseCreateParamsStreaming\n\u001b[32m   1945\u001b[39m             \u001b[38;5;28;01mif\u001b[39;00m stream\n\u001b[32m   1946\u001b[39m             \u001b[38;5;28;01melse\u001b[39;00m response_create_params.ResponseCreateParamsNonStreaming,\n\u001b[32m   1947\u001b[39m         ),\n\u001b[32m   1948\u001b[39m         options=make_request_options(\n\u001b[32m   1949\u001b[39m             extra_headers=extra_headers, extra_query=extra_query, extra_body=extra_body, timeout=timeout\n\u001b[32m   1950\u001b[39m         ),\n\u001b[32m   1951\u001b[39m         cast_to=Response,\n\u001b[32m   1952\u001b[39m         stream=stream \u001b[38;5;129;01mor\u001b[39;00m \u001b[38;5;28;01mFalse\u001b[39;00m,\n\u001b[32m   1953\u001b[39m         stream_cls=AsyncStream[ResponseStreamEvent],\n\u001b[32m   1954\u001b[39m     )\n",
      "\u001b[36mFile \u001b[39m\u001b[32m~/Desktop/AgenticAIEngineering/projects/agents/.venv/lib/python3.12/site-packages/openai/_base_client.py:1784\u001b[39m, in \u001b[36mAsyncAPIClient.post\u001b[39m\u001b[34m(self, path, cast_to, body, files, options, stream, stream_cls)\u001b[39m\n\u001b[32m   1770\u001b[39m \u001b[38;5;28;01masync\u001b[39;00m \u001b[38;5;28;01mdef\u001b[39;00m\u001b[38;5;250m \u001b[39m\u001b[34mpost\u001b[39m(\n\u001b[32m   1771\u001b[39m     \u001b[38;5;28mself\u001b[39m,\n\u001b[32m   1772\u001b[39m     path: \u001b[38;5;28mstr\u001b[39m,\n\u001b[32m   (...)\u001b[39m\u001b[32m   1779\u001b[39m     stream_cls: \u001b[38;5;28mtype\u001b[39m[_AsyncStreamT] | \u001b[38;5;28;01mNone\u001b[39;00m = \u001b[38;5;28;01mNone\u001b[39;00m,\n\u001b[32m   1780\u001b[39m ) -> ResponseT | _AsyncStreamT:\n\u001b[32m   1781\u001b[39m     opts = FinalRequestOptions.construct(\n\u001b[32m   1782\u001b[39m         method=\u001b[33m\"\u001b[39m\u001b[33mpost\u001b[39m\u001b[33m\"\u001b[39m, url=path, json_data=body, files=\u001b[38;5;28;01mawait\u001b[39;00m async_to_httpx_files(files), **options\n\u001b[32m   1783\u001b[39m     )\n\u001b[32m-> \u001b[39m\u001b[32m1784\u001b[39m     \u001b[38;5;28;01mreturn\u001b[39;00m \u001b[38;5;28;01mawait\u001b[39;00m \u001b[38;5;28mself\u001b[39m.request(cast_to, opts, stream=stream, stream_cls=stream_cls)\n",
      "\u001b[36mFile \u001b[39m\u001b[32m~/Desktop/AgenticAIEngineering/projects/agents/.venv/lib/python3.12/site-packages/openai/_base_client.py:1584\u001b[39m, in \u001b[36mAsyncAPIClient.request\u001b[39m\u001b[34m(self, cast_to, options, stream, stream_cls)\u001b[39m\n\u001b[32m   1581\u001b[39m             \u001b[38;5;28;01mawait\u001b[39;00m err.response.aread()\n\u001b[32m   1583\u001b[39m         log.debug(\u001b[33m\"\u001b[39m\u001b[33mRe-raising status error\u001b[39m\u001b[33m\"\u001b[39m)\n\u001b[32m-> \u001b[39m\u001b[32m1584\u001b[39m         \u001b[38;5;28;01mraise\u001b[39;00m \u001b[38;5;28mself\u001b[39m._make_status_error_from_response(err.response) \u001b[38;5;28;01mfrom\u001b[39;00m\u001b[38;5;250m \u001b[39m\u001b[38;5;28;01mNone\u001b[39;00m\n\u001b[32m   1586\u001b[39m     \u001b[38;5;28;01mbreak\u001b[39;00m\n\u001b[32m   1588\u001b[39m \u001b[38;5;28;01massert\u001b[39;00m response \u001b[38;5;129;01mis\u001b[39;00m \u001b[38;5;129;01mnot\u001b[39;00m \u001b[38;5;28;01mNone\u001b[39;00m, \u001b[33m\"\u001b[39m\u001b[33mcould not resolve response (should never happen)\u001b[39m\u001b[33m\"\u001b[39m\n",
      "\u001b[31mBadRequestError\u001b[39m: Error code: 400 - {'error': {'message': \"The requested model 'gemini-2.0-flash' does not exist.\", 'type': 'invalid_request_error', 'param': 'model', 'code': 'model_not_found'}}"
     ]
    }
   ],
   "source": [
    "message=\"info about virat kohli\"\n",
    "with trace(\"ContentDataManager\"):\n",
    "    result=await Runner.run(content_manager,message)"
   ]
  },
  {
   "cell_type": "markdown",
   "id": "0cbac51d",
   "metadata": {},
   "source": [
    "check 2_lab2.ipynb\n"
   ]
  }
 ],
 "metadata": {
  "kernelspec": {
   "display_name": ".venv",
   "language": "python",
   "name": "python3"
  },
  "language_info": {
   "codemirror_mode": {
    "name": "ipython",
    "version": 3
   },
   "file_extension": ".py",
   "mimetype": "text/x-python",
   "name": "python",
   "nbconvert_exporter": "python",
   "pygments_lexer": "ipython3",
   "version": "3.12.4"
  }
 },
 "nbformat": 4,
 "nbformat_minor": 5
}
