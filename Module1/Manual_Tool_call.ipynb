{
 "cells": [
  {
   "cell_type": "markdown",
   "id": "d8240849",
   "metadata": {},
   "source": [
    "# This is a separte tool call module i created for understanding Tool calls manually"
   ]
  },
  {
   "cell_type": "code",
   "execution_count": 40,
   "id": "3bc22bce",
   "metadata": {},
   "outputs": [],
   "source": [
    "import gradio as gr\n",
    "from dotenv import load_dotenv\n"
   ]
  },
  {
   "cell_type": "code",
   "execution_count": 41,
   "id": "d23dbbf1",
   "metadata": {},
   "outputs": [
    {
     "data": {
      "text/plain": [
       "True"
      ]
     },
     "execution_count": 41,
     "metadata": {},
     "output_type": "execute_result"
    }
   ],
   "source": [
    "load_dotenv(override=True)"
   ]
  },
  {
   "cell_type": "code",
   "execution_count": 51,
   "id": "a004cc0a",
   "metadata": {},
   "outputs": [],
   "source": [
    "Bviews=0\n",
    "Cviews=0\n"
   ]
  },
  {
   "cell_type": "code",
   "execution_count": null,
   "id": "65300eba",
   "metadata": {},
   "outputs": [],
   "source": []
  },
  {
   "cell_type": "code",
   "execution_count": 59,
   "id": "3460c90b",
   "metadata": {},
   "outputs": [],
   "source": [
    "def Channel1():\n",
    "    global Bviews\n",
    "    Bviews +=1\n",
    "    print(\"Welcome to Bollywood Crazy -- Your ultimate source of Bollywod related news , box office and many more. Please do like and subsribe the content\")\n",
    "    print(f\"Currently viewer {Bviews}\")    \n",
    "    return f\" views - {Bviews}\""
   ]
  },
  {
   "cell_type": "code",
   "execution_count": 60,
   "id": "7d15ec00",
   "metadata": {},
   "outputs": [],
   "source": [
    "def Channel2():\n",
    "    global Cviews\n",
    "    print(\"Cricket Mania -Your ultimate Cricket chhannel. Get latest cricketing news around the world \")\n",
    "    Cviews +=1\n",
    "    print(f\"Currently views {Cviews}\")\n",
    "    return f\" views - {Cviews}\""
   ]
  },
  {
   "cell_type": "code",
   "execution_count": 26,
   "id": "183283a1",
   "metadata": {},
   "outputs": [],
   "source": [
    "def unknownQuestion():\n",
    "    sPrompt=\"You are not familiar with subject . Reply stating you are Not aware of the question. Direct user to ask question related to cricket and bollywood only\"\n",
    "    return \"I am Not familair with the subject . I cannot answer\"\n"
   ]
  },
  {
   "cell_type": "code",
   "execution_count": 27,
   "id": "79819f31",
   "metadata": {},
   "outputs": [],
   "source": [
    "Channel1_json={\n",
    "    \"name\":\"Channel1\",\n",
    "    \"description\":\"Yotube Channel related to Bollywood matters\"\n",
    "\n",
    "}"
   ]
  },
  {
   "cell_type": "code",
   "execution_count": 28,
   "id": "153383bb",
   "metadata": {},
   "outputs": [],
   "source": [
    "Channel2_json={\n",
    "    \"name\":\"Channel2\",\n",
    "    \"description\":\"Yotube Channel related to Cricketing matters\"\n",
    "\n",
    "}"
   ]
  },
  {
   "cell_type": "code",
   "execution_count": 29,
   "id": "e1094480",
   "metadata": {},
   "outputs": [],
   "source": [
    "unknownQuestion_json={\n",
    "    \"name\":\"unknownQuestion\",\n",
    "    \"description\":\"This is UNKNOWN TOPIC , NOT COVERED BY ANY CHHANEL\"\n",
    "}"
   ]
  },
  {
   "cell_type": "code",
   "execution_count": 13,
   "id": "cdf5f320",
   "metadata": {},
   "outputs": [],
   "source": [
    "name=\"kiran_das\""
   ]
  },
  {
   "cell_type": "code",
   "execution_count": 31,
   "id": "ed16a876",
   "metadata": {},
   "outputs": [],
   "source": [
    "tools=[{\"type\":\"function\",\"function\":Channel1_json},\n",
    "        {\"type\":\"function\",\"function\":Channel2_json},\n",
    "        {\"type\":\"function\",\"function\":unknownQuestion_json}]"
   ]
  },
  {
   "cell_type": "code",
   "execution_count": 32,
   "id": "e867c9b1",
   "metadata": {},
   "outputs": [
    {
     "data": {
      "text/plain": [
       "[{'type': 'function',\n",
       "  'function': {'name': 'Channel1',\n",
       "   'description': 'Yotube Channel related to Bollywood matters'}},\n",
       " {'type': 'function',\n",
       "  'function': {'name': 'Channel2',\n",
       "   'description': 'Yotube Channel related to Cricketing matters'}},\n",
       " {'type': 'function',\n",
       "  'function': {'name': 'unknownQuestion',\n",
       "   'description': 'This is UNKNOWN TOPIC , NOT COVERED BY ANY CHHANEL'}}]"
      ]
     },
     "execution_count": 32,
     "metadata": {},
     "output_type": "execute_result"
    }
   ],
   "source": [
    "tools"
   ]
  },
  {
   "cell_type": "code",
   "execution_count": 57,
   "id": "592dd4fa",
   "metadata": {},
   "outputs": [],
   "source": [
    "SystemPrompt=f\"You are {name}. Introduce first with your Chhanel for which the question is asked .You have Two channels ,one Related to Bollywood and other Related to Cricket\"\n",
    "SystemPrompt+=f\"whenever user ask you anything based on subject you contact either of the tools\"\n",
    "SystemPrompt+=\"if User wants to know about Bollywood you use the Channel1 tool to answer the question related to the subject.You are an expert in Bollywood related matter\"\n",
    "SystemPrompt+=\"Any question related to Bollywood , you can answer properly. This chhanel only provides bollywood related info \"\n",
    "SystemPrompt+=\"if User wants to know about Cricket related matter use the Channel2 tool to answer the question related to the subject.You are an expert in Cricketing related matter. Any question related top cricket , you can answer properly. This chhanel only provides cricket related news\"\n",
    "SystemPrompt+=\"if User ask anything aprt from Bollywood or Cricket use the unknownQuestion tool to answer the question related to the subject \"\n",
    "SystemPrompt+=\"Based on the above provide a short concised answer\""
   ]
  },
  {
   "cell_type": "code",
   "execution_count": 35,
   "id": "4f9b1207",
   "metadata": {},
   "outputs": [],
   "source": [
    "import json"
   ]
  },
  {
   "cell_type": "code",
   "execution_count": 44,
   "id": "2ccc8038",
   "metadata": {},
   "outputs": [],
   "source": [
    "# This is a more elegant way that avoids the IF statement.\n",
    "\n",
    "def handle_tool_calls(tool_calls):\n",
    "    results = []\n",
    "    for tool_call in tool_calls:\n",
    "        tool_name = tool_call.function.name\n",
    "        arguments = json.loads(tool_call.function.arguments)\n",
    "        print(f\"Tool called: {tool_name}\", flush=True)\n",
    "        tool = globals().get(tool_name)\n",
    "        result = tool(**arguments) if tool else {}\n",
    "        results.append({\"role\": \"tool\",\"content\": json.dumps(result),\"tool_call_id\": tool_call.id})\n",
    "    return results"
   ]
  },
  {
   "cell_type": "code",
   "execution_count": 37,
   "id": "a9e9ab90",
   "metadata": {},
   "outputs": [],
   "source": [
    "from openai import OpenAI\n",
    "openai=OpenAI()"
   ]
  },
  {
   "cell_type": "code",
   "execution_count": null,
   "id": "4a6c358b",
   "metadata": {},
   "outputs": [],
   "source": []
  },
  {
   "cell_type": "code",
   "execution_count": 38,
   "id": "d538eef8",
   "metadata": {},
   "outputs": [],
   "source": [
    "def chat(message,history):\n",
    "    messages=[{\"role\":\"system\",\"content\":SystemPrompt}] + history +[{\"role\":\"user\",\"content\":message}]\n",
    "    done=False\n",
    "    while not done:\n",
    "        response=openai.chat.completions.create(model=\"gpt-4o-mini\",messages=messages,tools=tools)\n",
    "        finish_reason=response.choices[0].finish_reason\n",
    "        if finish_reason==\"tool_calls\":\n",
    "            message=response.choices[0].message\n",
    "            print(f\"-----message :{message}\")\n",
    "            tool_calls=message.tool_calls\n",
    "            result=handle_tool_calls(tool_calls=tool_calls)\n",
    "            messages.append(message)\n",
    "            messages.extend(result)\n",
    "        else:\n",
    "            done=True\n",
    "\n",
    "    return response.choices[0].message.content"
   ]
  },
  {
   "cell_type": "code",
   "execution_count": 58,
   "id": "add2ffd0",
   "metadata": {},
   "outputs": [
    {
     "name": "stdout",
     "output_type": "stream",
     "text": [
      "* Running on local URL:  http://127.0.0.1:7864\n",
      "* To create a public link, set `share=True` in `launch()`.\n"
     ]
    },
    {
     "data": {
      "text/html": [
       "<div><iframe src=\"http://127.0.0.1:7864/\" width=\"100%\" height=\"500\" allow=\"autoplay; camera; microphone; clipboard-read; clipboard-write;\" frameborder=\"0\" allowfullscreen></iframe></div>"
      ],
      "text/plain": [
       "<IPython.core.display.HTML object>"
      ]
     },
     "metadata": {},
     "output_type": "display_data"
    },
    {
     "data": {
      "text/plain": []
     },
     "execution_count": 58,
     "metadata": {},
     "output_type": "execute_result"
    },
    {
     "name": "stdout",
     "output_type": "stream",
     "text": [
      "-----message :ChatCompletionMessage(content=None, refusal=None, role='assistant', annotations=[], audio=None, function_call=None, tool_calls=[ChatCompletionMessageToolCall(id='call_waaBStqSKYVgs8Z1DjGbzwWA', function=Function(arguments='{}', name='unknownQuestion'), type='function')])\n",
      "Tool called: unknownQuestion\n",
      "-----message :ChatCompletionMessage(content=None, refusal=None, role='assistant', annotations=[], audio=None, function_call=None, tool_calls=[ChatCompletionMessageToolCall(id='call_ZfiMkZ7PCPtIfmTSwVTlQsqM', function=Function(arguments='{}', name='Channel2'), type='function')])\n",
      "Tool called: Channel2\n",
      "Cricket Mania -Your ultimate Cricket chhannel. Get latest cricketing news around the world \n",
      "-----message :ChatCompletionMessage(content=None, refusal=None, role='assistant', annotations=[], audio=None, function_call=None, tool_calls=[ChatCompletionMessageToolCall(id='call_oCDNVhh4VXDFMlDFW3IyacGZ', function=Function(arguments='{}', name='Channel2'), type='function')])\n",
      "Tool called: Channel2\n",
      "Cricket Mania -Your ultimate Cricket chhannel. Get latest cricketing news around the world \n"
     ]
    }
   ],
   "source": [
    "gr.ChatInterface(chat,type=\"messages\").launch()"
   ]
  },
  {
   "cell_type": "markdown",
   "id": "c49dc4eb",
   "metadata": {},
   "source": [
    "# below is genrted by the AI "
   ]
  },
  {
   "cell_type": "code",
   "execution_count": 61,
   "id": "0810d5de",
   "metadata": {},
   "outputs": [
    {
     "name": "stderr",
     "output_type": "stream",
     "text": [
      "/var/folders/nc/2bjvclms3k13mrldbxsjxx780000gn/T/ipykernel_15932/3919105030.py:35: UserWarning: You have not specified a value for the `type` parameter. Defaulting to the 'tuples' format for chatbot messages, but this is deprecated and will be removed in a future version of Gradio. Please set type='messages' instead, which uses openai-style dictionaries with 'role' and 'content' keys.\n",
      "  chatbot = gr.Chatbot(label=\"Chat\", show_label=True)\n"
     ]
    },
    {
     "name": "stdout",
     "output_type": "stream",
     "text": [
      "* Running on local URL:  http://127.0.0.1:7865\n",
      "* To create a public link, set `share=True` in `launch()`.\n"
     ]
    },
    {
     "data": {
      "text/html": [
       "<div><iframe src=\"http://127.0.0.1:7865/\" width=\"100%\" height=\"500\" allow=\"autoplay; camera; microphone; clipboard-read; clipboard-write;\" frameborder=\"0\" allowfullscreen></iframe></div>"
      ],
      "text/plain": [
       "<IPython.core.display.HTML object>"
      ]
     },
     "metadata": {},
     "output_type": "display_data"
    },
    {
     "data": {
      "text/plain": []
     },
     "execution_count": 61,
     "metadata": {},
     "output_type": "execute_result"
    },
    {
     "name": "stdout",
     "output_type": "stream",
     "text": [
      "-----message :ChatCompletionMessage(content=None, refusal=None, role='assistant', annotations=[], audio=None, function_call=None, tool_calls=[ChatCompletionMessageToolCall(id='call_9HsXGPFNe6q7tti8dYlWAnkS', function=Function(arguments='{}', name='Channel1'), type='function')])\n",
      "Tool called: Channel1\n",
      "Welcome to Bollywood Crazy -- Your ultimate source of Bollywod related news , box office and many more. Please do like and subsribe the content\n",
      "Currently viewer 3\n",
      "-----message :ChatCompletionMessage(content=None, refusal=None, role='assistant', annotations=[], audio=None, function_call=None, tool_calls=[ChatCompletionMessageToolCall(id='call_tn8CthABLjLN1mN5aocmCTUv', function=Function(arguments='{}', name='Channel1'), type='function')])\n",
      "Tool called: Channel1\n",
      "Welcome to Bollywood Crazy -- Your ultimate source of Bollywod related news , box office and many more. Please do like and subsribe the content\n",
      "Currently viewer 4\n",
      "-----message :ChatCompletionMessage(content=None, refusal=None, role='assistant', annotations=[], audio=None, function_call=None, tool_calls=[ChatCompletionMessageToolCall(id='call_UZaBu9AK2nb9HTbeyM1kpXle', function=Function(arguments='{}', name='Channel1'), type='function')])\n",
      "Tool called: Channel1\n",
      "Welcome to Bollywood Crazy -- Your ultimate source of Bollywod related news , box office and many more. Please do like and subsribe the content\n",
      "Currently viewer 5\n",
      "-----message :ChatCompletionMessage(content=None, refusal=None, role='assistant', annotations=[], audio=None, function_call=None, tool_calls=[ChatCompletionMessageToolCall(id='call_1oSFGMiWlxy7KwpznNTpViKU', function=Function(arguments='{}', name='unknownQuestion'), type='function')])\n",
      "Tool called: unknownQuestion\n"
     ]
    }
   ],
   "source": [
    "# Custom Gradio UI showing Bviews and Cviews counters\n",
    "import gradio as gr\n",
    "\n",
    "# Wrapper to adapt Chatbot (tuples) history to your chat() function\n",
    "# and to surface the current Bviews/Cviews values in the UI\n",
    "\n",
    "def chat_and_counts(message, history):\n",
    "    # Convert tuple-based chatbot history to message list for chat()\n",
    "    converted_history = []\n",
    "    if history:\n",
    "        for user_msg, bot_msg in history:\n",
    "            if user_msg is not None:\n",
    "                converted_history.append({\"role\": \"user\", \"content\": user_msg})\n",
    "            if bot_msg is not None:\n",
    "                converted_history.append({\"role\": \"assistant\", \"content\": bot_msg})\n",
    "\n",
    "    reply = chat(message, converted_history)\n",
    "\n",
    "    # Read globals to show counters\n",
    "    try:\n",
    "        b = Bviews\n",
    "    except NameError:\n",
    "        b = 0\n",
    "    try:\n",
    "        c = Cviews\n",
    "    except NameError:\n",
    "        c = 0\n",
    "\n",
    "    updated_history = history + [(message, reply)]\n",
    "    return updated_history, f\"B views: {b}\", f\"C views: {c}\"\n",
    "\n",
    "with gr.Blocks() as demo:\n",
    "    gr.Markdown(\"### Manual Tool Call Chat with View Counters\")\n",
    "    with gr.Row():\n",
    "        chatbot = gr.Chatbot(label=\"Chat\", show_label=True)\n",
    "        with gr.Column():\n",
    "            b_count = gr.Markdown(\"B views: 0\")\n",
    "            c_count = gr.Markdown(\"C views: 0\")\n",
    "    with gr.Row():\n",
    "        msg = gr.Textbox(label=\"Message\", placeholder=\"Type your message...\")\n",
    "        send = gr.Button(\"Send\", variant=\"primary\")\n",
    "\n",
    "    send.click(fn=chat_and_counts, inputs=[msg, chatbot], outputs=[chatbot, b_count, c_count])\n",
    "    msg.submit(fn=chat_and_counts, inputs=[msg, chatbot], outputs=[chatbot, b_count, c_count])\n",
    "\n",
    "# Launch this UI instead of the basic ChatInterface if desired\n",
    "# Comment out the following line if you still want to use the original ChatInterface launch above\n",
    "# and run this cell separately when you want counters in the UI.\n",
    "demo.launch()\n"
   ]
  },
  {
   "cell_type": "code",
   "execution_count": null,
   "id": "fb280aca",
   "metadata": {},
   "outputs": [],
   "source": [
    "\n"
   ]
  },
  {
   "cell_type": "markdown",
   "id": "bef15fc7",
   "metadata": {},
   "source": []
  },
  {
   "cell_type": "markdown",
   "id": "60cbbeb5",
   "metadata": {},
   "source": []
  },
  {
   "cell_type": "markdown",
   "id": "12d52005",
   "metadata": {},
   "source": []
  },
  {
   "cell_type": "markdown",
   "id": "02b545cc",
   "metadata": {},
   "source": []
  },
  {
   "cell_type": "markdown",
   "id": "b59326d3",
   "metadata": {},
   "source": []
  }
 ],
 "metadata": {
  "kernelspec": {
   "display_name": ".venv",
   "language": "python",
   "name": "python3"
  },
  "language_info": {
   "codemirror_mode": {
    "name": "ipython",
    "version": 3
   },
   "file_extension": ".py",
   "mimetype": "text/x-python",
   "name": "python",
   "nbconvert_exporter": "python",
   "pygments_lexer": "ipython3",
   "version": "3.12.4"
  }
 },
 "nbformat": 4,
 "nbformat_minor": 5
}
