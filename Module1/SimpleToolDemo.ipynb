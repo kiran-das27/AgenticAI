{
 "cells": [
  {
   "cell_type": "code",
   "execution_count": 1,
   "id": "58b646a3",
   "metadata": {},
   "outputs": [
    {
     "data": {
      "text/plain": [
       "True"
      ]
     },
     "execution_count": 1,
     "metadata": {},
     "output_type": "execute_result"
    }
   ],
   "source": [
    "from dotenv import load_dotenv\n",
    "import gradio as gr\n",
    "from openai import OpenAI\n",
    "import json\n",
    "load_dotenv(override=True)"
   ]
  },
  {
   "cell_type": "code",
   "execution_count": 3,
   "id": "a8c5a268",
   "metadata": {},
   "outputs": [],
   "source": [
    "client=OpenAI()\n",
    "chit=0\n",
    "bhit=0\n"
   ]
  },
  {
   "cell_type": "code",
   "execution_count": 37,
   "id": "47a6f894",
   "metadata": {},
   "outputs": [],
   "source": [
    "def Chhannel1(question):\n",
    "    global bhit\n",
    "    print(\"Bollywood Crazy\")\n",
    "    bhit +=1\n",
    "    resp=client.chat.completions.create(model=\"gpt-4o-mini\",messages=[{\"role\":\"system\",\"content\":\"You are a bollywood expert. You have extreme knowledge of bollywood,celebrities,boxoffice,movies,latest releast etc etc.Please Answer question factualy correct and concise\"}\n",
    "    ,{\"role\":\"user\",\"content\":question}])\n",
    "\n",
    "    return resp.choices[0].message.content\n",
    "\n"
   ]
  },
  {
   "cell_type": "code",
   "execution_count": 38,
   "id": "0d37723a",
   "metadata": {},
   "outputs": [],
   "source": [
    "def Chhannel2(question):\n",
    "    global chit\n",
    "    print(\"Cricket Mania\")\n",
    "    chit +=1\n",
    "    resp=client.chat.completions.create(model=\"gpt-4o-mini\",messages=[{\"role\":\"system\",\"content\":\"You are a Cricket Fanatic.You know about the sports like anything. You have extreme knowledge of cricket matches, players statistics, records,schedule and is not confined to only test but onday and T20 as well including regional tournament. You represnt THE International cricket council voice.Please Answer question factualy correct and concise\"}\n",
    "    ,{\"role\":\"user\",\"content\":question}])\n",
    "    \n",
    "    return resp.choices[0].message.content\n",
    "\n"
   ]
  },
  {
   "cell_type": "code",
   "execution_count": 39,
   "metadata": {},
   "outputs": [],
   "source": [
    "def UnknownQuestion(question):\n",
    "    msg=\"this topic is unknown to me, Please ask question related to bollywood and cricket only  \"\n",
    "    return msg"
   ]
  },
  {
   "cell_type": "code",
   "execution_count": 51,
   "id": "8fe255ae",
   "metadata": {},
   "outputs": [],
   "source": [
    "Chhannel1_json={\"name\":\"Chhannel1\"\n",
    "                ,\"description\":\"Bollywood chhanel covering all news related to bollywood \"\n",
    "                ,\"parameters\":{\n",
    "                    \"type\":\"object\",\n",
    "                    \"properties\" :{\n",
    "                        \"question\":\n",
    "                                {\"type\":\"string\",\n",
    "                                \"description\":\"User question\"\n",
    "                                }\n",
    "                    }\n",
    "                    ,\"required\":[\"question\"]\n",
    "                }\n",
    "                }"
   ]
  },
  {
   "cell_type": "code",
   "execution_count": 52,
   "id": "f3c2ec7a",
   "metadata": {},
   "outputs": [],
   "source": [
    "Chhannel2_json={\"name\":\"Chhannel2\"\n",
    "                ,\"description\":\"Cricket chhanel covering all news related to Cricket sport \"\n",
    "                ,\"parameters\":{\n",
    "                    \"type\":\"object\",\n",
    "                    \"properties\" :{\n",
    "                        \"question\":\n",
    "                                {\"type\":\"string\",\n",
    "                                \"description\":\"User question\"\n",
    "                                }\n",
    "                    }\n",
    "                    ,\"required\":[\"question\"]\n",
    "                }\n",
    "                }"
   ]
  },
  {
   "cell_type": "code",
   "execution_count": 53,
   "id": "73857acb",
   "metadata": {},
   "outputs": [],
   "source": [
    "UnknownQuestion_json={\"name\":\"UnknownQuestion\"\n",
    "                ,\"description\":\"Fallback for bollywood/cricket queries \"\n",
    "                ,\"parameters\":{\n",
    "                    \"type\":\"object\",\n",
    "                    \"properties\" :{\n",
    "                        \"question\":\n",
    "                                {\"type\":\"string\",\n",
    "                                \"description\":\"User question\"\n",
    "                                }\n",
    "                    }\n",
    "                    ,\"required\":[\"question\"]\n",
    "                }\n",
    "                }"
   ]
  },
  {
   "cell_type": "code",
   "execution_count": 54,
   "id": "45f34eb9",
   "metadata": {},
   "outputs": [],
   "source": [
    "tools=[{\"type\":\"function\",\"function\":Chhannel1_json},\n",
    "    {\"type\":\"function\",\"function\":Chhannel2_json},\n",
    "    {\"type\":\"function\",\"function\":UnknownQuestion_json}]"
   ]
  },
  {
   "cell_type": "code",
   "execution_count": 44,
   "metadata": {},
   "outputs": [
    {
     "data": {
      "text/plain": [
       "[{'type': 'function',\n",
       "  'function': {'name': 'Chhannel2',\n",
       "   'description': 'Bollywood chhanel covering all news related to bollywood ',\n",
       "   'parameters': {'type': 'object',\n",
       "    'properties': {'question': {'type': 'string',\n",
       "      'description': 'User question'}},\n",
       "    'required': ['question']}}},\n",
       " {'type': 'function',\n",
       "  'function': {'name': 'Chhannel2',\n",
       "   'description': 'Cricket chhanel covering all news related to Cricket sport ',\n",
       "   'parameters': {'type': 'object',\n",
       "    'properties': {'question': {'type': 'string',\n",
       "      'description': 'User question'}},\n",
       "    'required': ['question']}}},\n",
       " {'type': 'function',\n",
       "  'function': {'name': 'UnknownQuestion',\n",
       "   'description': 'Fallback for bollywood/cricket queries ',\n",
       "   'parameters': {'type': 'object',\n",
       "    'properties': {'question': {'type': 'string',\n",
       "      'description': 'User question'}},\n",
       "    'required': ['question']}}}]"
      ]
     },
     "execution_count": 44,
     "metadata": {},
     "output_type": "execute_result"
    }
   ],
   "source": [
    "tools"
   ]
  },
  {
   "cell_type": "code",
   "execution_count": 55,
   "id": "fbcf432b",
   "metadata": {},
   "outputs": [],
   "source": [
    "def handle_tool_calls(tool_calls):\n",
    "    results=[]\n",
    "    for tool_call in tool_calls:\n",
    "        toolfunc=globals().get(tool_call.function.name)\n",
    "        #print(\"hi\")\n",
    "        #print(toolfunc)\n",
    "        args=json.loads(tool_call.function.arguments or \"{}\")\n",
    "        print(f\"tool called : {toolfunc}\")\n",
    "        out=toolfunc(**args) if toolfunc else \"\"\n",
    "        results.append({\"role\":\"tool\",\"tool_call_id\":tool_call.id,\"content\":json.dumps({\"result\": out})})\n",
    "    return results"
   ]
  },
  {
   "cell_type": "code",
   "execution_count": 56,
   "id": "455dd365",
   "metadata": {},
   "outputs": [],
   "source": [
    "# 4) Nudge routing with a clearer system instruction\n",
    "SYSTEM = (\n",
    "    \"Choose exactly one tool based on the user question: \"\n",
    "    \"Channel1 for Bollywood topics (movies, actors ,BOX OFFICE,latest release, actor profile) \"\n",
    "    \"Channel2 for Cricket topics (players, matches, IPL/ODI/T20/Tests), \"\n",
    "    \"otherwise UnknownQuestion. Pass the user's question string as 'question'. \"\n",
    "    \"After tools, provide the final concise answer.\"\n",
    ")"
   ]
  },
  {
   "cell_type": "code",
   "execution_count": 57,
   "id": "e0536c47",
   "metadata": {},
   "outputs": [],
   "source": [
    "\n",
    "\n",
    "\n",
    "def ask(user_question: str, tool_choice=\"auto\"):\n",
    "    messages = [\n",
    "        {\"role\": \"system\", \"content\": SYSTEM},\n",
    "        {\"role\": \"user\", \"content\": user_question}\n",
    "    ]\n",
    "    choice_arg = tool_choice  # \"auto\" lets the model pick the correct tool\n",
    "\n",
    "    while True:\n",
    "        resp = client.chat.completions.create(\n",
    "            model=\"gpt-4o-mini\",\n",
    "            messages=messages,\n",
    "            tools=tools,\n",
    "            tool_choice=choice_arg\n",
    "        )\n",
    "        ch = resp.choices[0]\n",
    "        if ch.finish_reason == \"tool_calls\":\n",
    "            messages.append(ch.message)\n",
    "            messages.extend(handle_tool_calls(ch.message.tool_calls))\n",
    "            choice_arg = \"auto\"\n",
    "            continue\n",
    "        return ch.message.content\n",
    "\n",
    "# ------- Minimal Gradio UI -------\n"
   ]
  },
  {
   "cell_type": "code",
   "execution_count": 58,
   "id": "9d2055cc",
   "metadata": {},
   "outputs": [
    {
     "name": "stdout",
     "output_type": "stream",
     "text": [
      "tool called : <function Chhannel1 at 0x125032980>\n",
      "Bollywood Crazy\n",
      "As of October 2023, Akshay Kumar's latest release is the film \"Bachchhan Paandey,\" which premiered on March 18, 2022. Please verify for any new releases or announcements that may have occurred after that date.\n",
      "tool called : <function Chhannel2 at 0x125033ce0>\n",
      "Cricket Mania\n",
      "Virat Kohli made his international debut for India on August 18, 2008, in a One Day International (ODI) match against Sri Lanka in Dambulla. He made his Test debut on July 21, 2011, against the West Indies in Kingston. Kohli has since become one of the most successful and celebrated cricketers in history.\n"
     ]
    }
   ],
   "source": [
    "# Demo\n",
    "print(ask(\"What is akshay kumar latest release \"))\n",
    "print(ask(\"Virat kohlis debut\"))"
   ]
  },
  {
   "cell_type": "code",
   "execution_count": 59,
   "id": "c54e459b",
   "metadata": {},
   "outputs": [
    {
     "name": "stdout",
     "output_type": "stream",
     "text": [
      "* Running on local URL:  http://127.0.0.1:7868\n",
      "* To create a public link, set `share=True` in `launch()`.\n"
     ]
    },
    {
     "data": {
      "text/html": [
       "<div><iframe src=\"http://127.0.0.1:7868/\" width=\"100%\" height=\"500\" allow=\"autoplay; camera; microphone; clipboard-read; clipboard-write;\" frameborder=\"0\" allowfullscreen></iframe></div>"
      ],
      "text/plain": [
       "<IPython.core.display.HTML object>"
      ]
     },
     "metadata": {},
     "output_type": "display_data"
    },
    {
     "data": {
      "text/plain": []
     },
     "execution_count": 59,
     "metadata": {},
     "output_type": "execute_result"
    },
    {
     "name": "stdout",
     "output_type": "stream",
     "text": [
      "tool called : <function Chhannel1 at 0x125032980>\n",
      "Bollywood Crazy\n",
      "tool called : <function UnknownQuestion at 0x125033ba0>\n",
      "tool called : <function Chhannel2 at 0x125033ce0>\n",
      "Cricket Mania\n"
     ]
    }
   ],
   "source": [
    "demo = gr.Interface(\n",
    "    fn=lambda q: ask(q, tool_choice=\"auto\"),\n",
    "    inputs=gr.Textbox(label=\"Your question\", lines=2, placeholder=\"Ask about Bollywood or Cricket\"),\n",
    "    outputs=gr.Textbox(label=\"Answer\"),\n",
    "    title=\"Bollywood/Cricket Router (Tools)\",\n",
    "    description=\"Type a question; the model picks the right tool and answers.\"\n",
    ")\n",
    "\n",
    "demo.launch()"
   ]
  },
  {
   "cell_type": "code",
   "execution_count": null,
   "id": "4305e829",
   "metadata": {},
   "outputs": [
    {
     "name": "stdout",
     "output_type": "stream",
     "text": [
      "* Running on local URL:  http://127.0.0.1:7869\n",
      "* To create a public link, set `share=True` in `launch()`.\n"
     ]
    },
    {
     "data": {
      "text/html": [
       "<div><iframe src=\"http://127.0.0.1:7869/\" width=\"100%\" height=\"500\" allow=\"autoplay; camera; microphone; clipboard-read; clipboard-write;\" frameborder=\"0\" allowfullscreen></iframe></div>"
      ],
      "text/plain": [
       "<IPython.core.display.HTML object>"
      ]
     },
     "metadata": {},
     "output_type": "display_data"
    },
    {
     "data": {
      "text/plain": []
     },
     "execution_count": 60,
     "metadata": {},
     "output_type": "execute_result"
    },
    {
     "name": "stdout",
     "output_type": "stream",
     "text": [
      "tool called : <function Chhannel1 at 0x125032980>\n",
      "Bollywood Crazy\n",
      "tool called : <function UnknownQuestion at 0x125033ba0>\n"
     ]
    }
   ],
   "source": [
    "# Minimal Gradio UI that also shows channel hit counts as Markdown\n",
    "import gradio as gr\n",
    "\n",
    "def ask_with_hits(q: str):\n",
    "    ans = ask(q, tool_choice=\"auto\")\n",
    "    try:\n",
    "        b = bhit\n",
    "    except NameError:\n",
    "        b = 0\n",
    "    try:\n",
    "        c = chit\n",
    "    except NameError:\n",
    "        c = 0\n",
    "    hits_md = f\"\"\"\n",
    "### Channel hits\n",
    "- Bollywood (Chhannel1): {b}\n",
    "- Cricket (Chhannel2): {c}\n",
    "\"\"\"\n",
    "    return ans, hits_md\n",
    "\n",
    "hits_demo = gr.Interface(\n",
    "    fn=ask_with_hits,\n",
    "    inputs=gr.Textbox(label=\"Your question\", lines=2, placeholder=\"Ask about Bollywood or Cricket\"),\n",
    "    outputs=[\n",
    "        gr.Textbox(label=\"Answer\"),\n",
    "        gr.Markdown(label=\"Channel Hits\")\n",
    "    ],\n",
    "    title=\"Bollywood/Cricket Router (Tools) + Hits\",\n",
    "    description=\"Model routes to the correct tool; Markdown shows channel hit counts.\"\n",
    ")\n",
    "\n",
    "hits_demo.launch()\n"
   ]
  }
 ],
 "metadata": {
  "kernelspec": {
   "display_name": ".venv",
   "language": "python",
   "name": "python3"
  },
  "language_info": {
   "codemirror_mode": {
    "name": "ipython",
    "version": 3
   },
   "file_extension": ".py",
   "mimetype": "text/x-python",
   "name": "python",
   "nbconvert_exporter": "python",
   "pygments_lexer": "ipython3",
   "version": "3.12.4"
  }
 },
 "nbformat": 4,
 "nbformat_minor": 5
}
