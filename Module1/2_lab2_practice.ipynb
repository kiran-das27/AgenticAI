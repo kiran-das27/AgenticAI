{
 "cells": [
  {
   "cell_type": "code",
   "execution_count": 88,
   "id": "cdaa5f31",
   "metadata": {},
   "outputs": [],
   "source": [
    "from dotenv import load_dotenv\n",
    "from openai import OpenAI\n",
    "from anthropic import Anthropic\n",
    "import json\n",
    "import os\n"
   ]
  },
  {
   "cell_type": "code",
   "execution_count": 89,
   "id": "b10386e8",
   "metadata": {},
   "outputs": [],
   "source": [
    "load_dotenv(override=True) # Please note use shoukd use override true. I gave wrong api key from anthropic ,corrected it later, but override was not there,it kept on loading old key \n",
    "\n",
    "openai_api_key = os.getenv('OPENAI_API_KEY')\n",
    "anthropic_api_key = os.getenv('ANTHROPIC_API_KEY')\n",
    "google_api_key = os.getenv('GOOGLE_API_KEY')\n",
    "deepseek_api_key = os.getenv('DEEPSEEK_API_KEY')\n",
    "groq_api_key = os.getenv('GROQ_API_KEY')"
   ]
  },
  {
   "cell_type": "code",
   "execution_count": 90,
   "id": "86d6898a",
   "metadata": {},
   "outputs": [],
   "source": [
    "request = \"Please come up with a question relateed to bollywood male superstar who is quite fit and has acted in all areas including comedy action and romance.The superstar is also philanthropic and fitness freak and one of the highest paid celeibrity \"\n",
    "request += \"Answer only with the question, no explanation.\"\n",
    "messages = [{\"role\": \"user\", \"content\": request}]"
   ]
  },
  {
   "cell_type": "code",
   "execution_count": 91,
   "id": "f3b74575",
   "metadata": {},
   "outputs": [
    {
     "name": "stdout",
     "output_type": "stream",
     "text": [
      "Which Bollywood male superstar, known for his versatility in comedy, action, and romance, is also a fitness enthusiast, a philanthropist, and one of the highest-paid celebrities in the industry?\n"
     ]
    }
   ],
   "source": [
    "openai = OpenAI()\n",
    "response = openai.chat.completions.create(\n",
    "    model=\"gpt-4o-mini\",\n",
    "    messages=messages,\n",
    ")\n",
    "question = response.choices[0].message.content\n",
    "print(question)"
   ]
  },
  {
   "cell_type": "code",
   "execution_count": 92,
   "id": "b837b009",
   "metadata": {},
   "outputs": [],
   "source": [
    "model_name = \"gpt-4o-mini\""
   ]
  },
  {
   "cell_type": "code",
   "execution_count": 93,
   "id": "3e6db340",
   "metadata": {},
   "outputs": [],
   "source": [
    "competitors = []\n",
    "answers = []\n",
    "#question=question +\" Keep the answer as short as possible .no need of explaination and alternative\"\n",
    "messages = [{\"role\": \"user\", \"content\": question}]"
   ]
  },
  {
   "cell_type": "markdown",
   "id": "d996ecca",
   "metadata": {},
   "source": [
    "Open AI"
   ]
  },
  {
   "cell_type": "code",
   "execution_count": 94,
   "id": "e72b28d3",
   "metadata": {},
   "outputs": [],
   "source": [
    "from IPython.display import Image, display, Markdown"
   ]
  },
  {
   "cell_type": "code",
   "execution_count": 95,
   "id": "1265a23d",
   "metadata": {},
   "outputs": [
    {
     "data": {
      "text/markdown": [
       "The Bollywood male superstar you're referring to is Salman Khan. He is widely known for his versatility in various genres, including comedy, action, and romance. Salman Khan is also recognized for his fitness regime, philanthropic efforts through his charity Being Human, and for being one of the highest-paid celebrities in the Indian film industry."
      ],
      "text/plain": [
       "<IPython.core.display.Markdown object>"
      ]
     },
     "metadata": {},
     "output_type": "display_data"
    }
   ],
   "source": [
    "model_name=\"gpt-4o-mini\"\n",
    "response = openai.chat.completions.create(\n",
    "    model=\"gpt-4o-mini\",\n",
    "    messages=messages,\n",
    ")\n",
    "answer = response.choices[0].message.content\n",
    "display(Markdown(answer))\n",
    "competitors.append(model_name)\n",
    "answers.append(answer)\n"
   ]
  },
  {
   "cell_type": "code",
   "execution_count": 96,
   "id": "8bbec78e",
   "metadata": {},
   "outputs": [
    {
     "data": {
      "text/markdown": [
       "Based on your description, you're likely referring to either Salman Khan or Hrithik Roshan, as both fit these criteria.\n",
       "\n",
       "Salman Khan is known for his action, comedy and romantic roles, maintains a strong fitness image, runs the \"Being Human\" foundation, and consistently ranks among Bollywood's highest-paid actors.\n",
       "\n",
       "Hrithik Roshan is similarly versatile across genres, is famous for his physique and dedication to fitness, engages in charitable work, and commands among the highest salaries in the industry.\n",
       "\n",
       "Without more specific details about which actor you're asking about, either could match your description."
      ],
      "text/plain": [
       "<IPython.core.display.Markdown object>"
      ]
     },
     "metadata": {},
     "output_type": "display_data"
    }
   ],
   "source": [
    "# Anthropic has a slightly different API, and Max Tokens is required\n",
    "model_name = \"claude-3-7-sonnet-latest\"\n",
    "claude = Anthropic()\n",
    "response = claude.messages.create(model=model_name, messages=messages, max_tokens=1000)\n",
    "answer = response.content[0].text\n",
    "\n",
    "display(Markdown(answer))\n",
    "competitors.append(model_name)\n",
    "answers.append(answer)\n"
   ]
  },
  {
   "cell_type": "markdown",
   "id": "68b6f88b",
   "metadata": {},
   "source": [
    "#### OpenAI() is just an light weight library which wraps http call to a endpoint of a particular structure . evryone expect antropic has built this kind of lwl with similar specs like openAI(). Whenver u create a python instance , you are pasing a base url stating that dont connect to Open ai end point instead connect to end point  specified\n"
   ]
  },
  {
   "cell_type": "markdown",
   "id": "0c39baa5",
   "metadata": {},
   "source": [
    "#### the formating is similar in terms of open ai"
   ]
  },
  {
   "cell_type": "markdown",
   "id": "7af27761",
   "metadata": {},
   "source": [
    "You’re not “using OpenAI to use Gemini.” You’re using the OpenAI Python client as a generic wrapper, pointing it to Google’s OpenAI-compatible endpoint.\n",
    "The base_url=\"https://generativelanguage.googleapis.com/v1beta/openai/\" is Google’s shim that speaks the OpenAI API dialect but runs Gemini under the hood.\n",
    "Why this is useful:\n",
    "1.Keep your existing OpenAI-style code (messages, models, params) with almost zero changes.\n",
    "2.Swap providers by changing base_url and api_key, not your whole app.\n",
    "Unify tooling, retries, and telemetry around one client.\n",
    "One-liner: Same OpenAI-shaped code, different engine (Gemini) behind thewheel"
   ]
  },
  {
   "cell_type": "code",
   "execution_count": 97,
   "id": "ca8638da",
   "metadata": {},
   "outputs": [
    {
     "data": {
      "text/markdown": [
       "That description strongly points to **Akshay Kumar**.\n"
      ],
      "text/plain": [
       "<IPython.core.display.Markdown object>"
      ]
     },
     "metadata": {},
     "output_type": "display_data"
    }
   ],
   "source": [
    "model_name = \"gemini-2.0-flash\"\n",
    "gemini = OpenAI(api_key=google_api_key, base_url=\"https://generativelanguage.googleapis.com/v1beta/openai/\")\n",
    "response=gemini.chat.completions.create(\n",
    "    model=model_name,\n",
    "    messages=messages,\n",
    ")\n",
    "answer=response.choices[0].message.content\n",
    "\n",
    "\n",
    "display(Markdown(answer))\n",
    "competitors.append(model_name)\n",
    "answers.append(answer)\n",
    "\n",
    "\n"
   ]
  },
  {
   "cell_type": "code",
   "execution_count": 98,
   "id": "7ab7af41",
   "metadata": {},
   "outputs": [
    {
     "data": {
      "text/markdown": [
       "Of course! The Bollywood superstar you're describing is **Akshay Kumar**.\n",
       "\n",
       "Here's why he perfectly matches all the points mentioned:\n",
       "\n",
       "*   **Versatility in Comedy, Action, and Romance:** Akshay Kumar is famously known as the \"Khiladi\" of Bollywood for his action-hero roles in the '90s (e.g., the *Khiladi* series). He later mastered comedy with huge hits like *Hera Pheri*, *Bhool Bhulaiyaa*, *Housefull*, and *Welcome*. He has also starred in numerous successful romantic films like *Dhadkan*, *Namastey London*, and *Singh Is Kinng*.\n",
       "\n",
       "*   **Fitness Enthusiast:** He is a legendary fitness icon in India. Known for his discipline, he wakes up extremely early and follows a rigorous workout routine. His fitness level is a central part of his public persona, and he often promotes health and wellness.\n",
       "\n",
       "*   **Philanthropist:** Akshay is deeply involved in philanthropy. He has consistently donated large sums to various causes, including relief funds during natural disasters, support for families of Indian soldiers, and initiatives for women's hygiene through his support of menstrual cup awareness.\n",
       "\n",
       "*   **One of the Highest-Paid Celebrities:** For many years, Akshay Kumar has been consistently ranked among the top highest-paid actors in India and the world by magazines like Forbes. He is known for doing multiple films a year and commanding a very high fee per project."
      ],
      "text/plain": [
       "<IPython.core.display.Markdown object>"
      ]
     },
     "metadata": {},
     "output_type": "display_data"
    }
   ],
   "source": [
    "deepseek = OpenAI(api_key=deepseek_api_key, base_url=\"https://api.deepseek.com/v1\")\n",
    "model_name = \"deepseek-chat\"\n",
    "response = deepseek.chat.completions.create(model=model_name, messages=messages)\n",
    "answer = response.choices[0].message.content\n",
    "\n",
    "display(Markdown(answer))\n",
    "competitors.append(model_name)\n",
    "answers.append(answer)"
   ]
  },
  {
   "cell_type": "code",
   "execution_count": 99,
   "id": "31cd5e3f",
   "metadata": {},
   "outputs": [
    {
     "data": {
      "text/markdown": [
       "The Bollywood male superstar that fits this description is Akshay Kumar. He is known for his versatility in comedy, action, and romance, having appeared in a wide range of films such as \"Hera Pheri,\" \"Rowdy Rathore,\" \"Rustom,\" and \"Toilet: Ek Prem Katha.\"\n",
       "\n",
       "Akshay Kumar is also a well-known fitness enthusiast, often sharing his workout routines and fitness tips on social media. He has been a strong advocate for a healthy lifestyle and has even written a book on the subject, \"Khiladi: The Untold Story of Akshay Kumar.\"\n",
       "\n",
       "In addition to his acting career, Akshay Kumar is also a philanthropist, supporting various charitable causes such as women's empowerment, education, and healthcare. He has worked with several non-profit organizations and has even started his own foundation, the Bharat Ke Veer Foundation, which supports the families of Indian armed forces personnel.\n",
       "\n",
       "As one of the highest-paid celebrities in the Indian film industry, Akshay Kumar has consistently ranked among the top earners in the country, according to various publications such as Forbes India. He has been recognized for his contributions to the film industry with numerous awards, including several Filmfare Awards and a National Film Award.\n",
       "\n",
       "Overall, Akshay Kumar's versatility, fitness enthusiasm, philanthropic efforts, and commercial success make him a unique and influential figure in the Bollywood industry."
      ],
      "text/plain": [
       "<IPython.core.display.Markdown object>"
      ]
     },
     "metadata": {},
     "output_type": "display_data"
    }
   ],
   "source": [
    "groq = OpenAI(api_key=groq_api_key, base_url=\"https://api.groq.com/openai/v1\")\n",
    "model_name = \"llama-3.3-70b-versatile\"\n",
    "\n",
    "response = groq.chat.completions.create(model=model_name, messages=messages)\n",
    "answer = response.choices[0].message.content\n",
    "\n",
    "display(Markdown(answer))\n",
    "competitors.append(model_name)\n",
    "answers.append(answer)"
   ]
  },
  {
   "cell_type": "code",
   "execution_count": 100,
   "id": "62a3bbd7",
   "metadata": {},
   "outputs": [
    {
     "data": {
      "text/markdown": [
       "The Bollywood male superstar who fits the description is **Akshay Kumar**. He is a household name in India and has established himself as a successful actor in several prominent fields, including comedy, action, and romance.\n",
       "\n",
       "Akshay is known for his versatility in entertainment, and he has consistently shown his ability to adapt to different roles and genres in his movies. He is also a fitness enthusiast, philanthropist, and one of the highest-paid celebrities in the Indian film industry."
      ],
      "text/plain": [
       "<IPython.core.display.Markdown object>"
      ]
     },
     "metadata": {},
     "output_type": "display_data"
    }
   ],
   "source": [
    "import ollama\n",
    "ollama = OpenAI(base_url='http://localhost:11434/v1', api_key='ollama')\n",
    "model_name = \"gemma:2b\"\n",
    "\n",
    "response = ollama.chat.completions.create(model=model_name, messages=messages)\n",
    "answer = response.choices[0].message.content\n",
    "\n",
    "display(Markdown(answer))\n",
    "competitors.append(model_name)\n",
    "answers.append(answer)\n"
   ]
  },
  {
   "cell_type": "code",
   "execution_count": 101,
   "id": "ab79faa4",
   "metadata": {},
   "outputs": [
    {
     "name": "stdout",
     "output_type": "stream",
     "text": [
      "['gpt-4o-mini', 'claude-3-7-sonnet-latest', 'gemini-2.0-flash', 'deepseek-chat', 'llama-3.3-70b-versatile', 'gemma:2b']\n",
      "[\"The Bollywood male superstar you're referring to is Salman Khan. He is widely known for his versatility in various genres, including comedy, action, and romance. Salman Khan is also recognized for his fitness regime, philanthropic efforts through his charity Being Human, and for being one of the highest-paid celebrities in the Indian film industry.\", 'Based on your description, you\\'re likely referring to either Salman Khan or Hrithik Roshan, as both fit these criteria.\\n\\nSalman Khan is known for his action, comedy and romantic roles, maintains a strong fitness image, runs the \"Being Human\" foundation, and consistently ranks among Bollywood\\'s highest-paid actors.\\n\\nHrithik Roshan is similarly versatile across genres, is famous for his physique and dedication to fitness, engages in charitable work, and commands among the highest salaries in the industry.\\n\\nWithout more specific details about which actor you\\'re asking about, either could match your description.', 'That description strongly points to **Akshay Kumar**.\\n', 'Of course! The Bollywood superstar you\\'re describing is **Akshay Kumar**.\\n\\nHere\\'s why he perfectly matches all the points mentioned:\\n\\n*   **Versatility in Comedy, Action, and Romance:** Akshay Kumar is famously known as the \"Khiladi\" of Bollywood for his action-hero roles in the \\'90s (e.g., the *Khiladi* series). He later mastered comedy with huge hits like *Hera Pheri*, *Bhool Bhulaiyaa*, *Housefull*, and *Welcome*. He has also starred in numerous successful romantic films like *Dhadkan*, *Namastey London*, and *Singh Is Kinng*.\\n\\n*   **Fitness Enthusiast:** He is a legendary fitness icon in India. Known for his discipline, he wakes up extremely early and follows a rigorous workout routine. His fitness level is a central part of his public persona, and he often promotes health and wellness.\\n\\n*   **Philanthropist:** Akshay is deeply involved in philanthropy. He has consistently donated large sums to various causes, including relief funds during natural disasters, support for families of Indian soldiers, and initiatives for women\\'s hygiene through his support of menstrual cup awareness.\\n\\n*   **One of the Highest-Paid Celebrities:** For many years, Akshay Kumar has been consistently ranked among the top highest-paid actors in India and the world by magazines like Forbes. He is known for doing multiple films a year and commanding a very high fee per project.', 'The Bollywood male superstar that fits this description is Akshay Kumar. He is known for his versatility in comedy, action, and romance, having appeared in a wide range of films such as \"Hera Pheri,\" \"Rowdy Rathore,\" \"Rustom,\" and \"Toilet: Ek Prem Katha.\"\\n\\nAkshay Kumar is also a well-known fitness enthusiast, often sharing his workout routines and fitness tips on social media. He has been a strong advocate for a healthy lifestyle and has even written a book on the subject, \"Khiladi: The Untold Story of Akshay Kumar.\"\\n\\nIn addition to his acting career, Akshay Kumar is also a philanthropist, supporting various charitable causes such as women\\'s empowerment, education, and healthcare. He has worked with several non-profit organizations and has even started his own foundation, the Bharat Ke Veer Foundation, which supports the families of Indian armed forces personnel.\\n\\nAs one of the highest-paid celebrities in the Indian film industry, Akshay Kumar has consistently ranked among the top earners in the country, according to various publications such as Forbes India. He has been recognized for his contributions to the film industry with numerous awards, including several Filmfare Awards and a National Film Award.\\n\\nOverall, Akshay Kumar\\'s versatility, fitness enthusiasm, philanthropic efforts, and commercial success make him a unique and influential figure in the Bollywood industry.', 'The Bollywood male superstar who fits the description is **Akshay Kumar**. He is a household name in India and has established himself as a successful actor in several prominent fields, including comedy, action, and romance.\\n\\nAkshay is known for his versatility in entertainment, and he has consistently shown his ability to adapt to different roles and genres in his movies. He is also a fitness enthusiast, philanthropist, and one of the highest-paid celebrities in the Indian film industry.']\n"
     ]
    }
   ],
   "source": [
    "print(competitors)\n",
    "print(answers)"
   ]
  },
  {
   "cell_type": "code",
   "execution_count": 102,
   "id": "ed862440",
   "metadata": {},
   "outputs": [
    {
     "name": "stdout",
     "output_type": "stream",
     "text": [
      "6 ['gpt-4o-mini', 'claude-3-7-sonnet-latest', 'gemini-2.0-flash', 'deepseek-chat', 'llama-3.3-70b-versatile', 'gemma:2b']\n",
      "6 [\"The Bollywood male superstar you're referring to is Salman Khan. He is widely known for his versatility in various genres, including comedy, action, and romance. Salman Khan is also recognized for his fitness regime, philanthropic efforts through his charity Being Human, and for being one of the highest-paid celebrities in the Indian film industry.\"] ...\n"
     ]
    },
    {
     "data": {
      "text/plain": [
       "[('gpt-4o-mini',\n",
       "  \"The Bollywood male superstar you're referring to is Salman Khan. He is widely known for his versatility in various genres, including comedy, action, and romance. Salman Khan is also recognized for his fitness regime, philanthropic efforts through his charity Being Human, and for being one of the highest-paid celebrities in the Indian film industry.\"),\n",
       " ('claude-3-7-sonnet-latest',\n",
       "  'Based on your description, you\\'re likely referring to either Salman Khan or Hrithik Roshan, as both fit these criteria.\\n\\nSalman Khan is known for his action, comedy and romantic roles, maintains a strong fitness image, runs the \"Being Human\" foundation, and consistently ranks among Bollywood\\'s highest-paid actors.\\n\\nHrithik Roshan is similarly versatile across genres, is famous for his physique and dedication to fitness, engages in charitable work, and commands among the highest salaries in the industry.\\n\\nWithout more specific details about which actor you\\'re asking about, either could match your description.'),\n",
       " ('gemini-2.0-flash',\n",
       "  'That description strongly points to **Akshay Kumar**.\\n'),\n",
       " ('deepseek-chat',\n",
       "  'Of course! The Bollywood superstar you\\'re describing is **Akshay Kumar**.\\n\\nHere\\'s why he perfectly matches all the points mentioned:\\n\\n*   **Versatility in Comedy, Action, and Romance:** Akshay Kumar is famously known as the \"Khiladi\" of Bollywood for his action-hero roles in the \\'90s (e.g., the *Khiladi* series). He later mastered comedy with huge hits like *Hera Pheri*, *Bhool Bhulaiyaa*, *Housefull*, and *Welcome*. He has also starred in numerous successful romantic films like *Dhadkan*, *Namastey London*, and *Singh Is Kinng*.\\n\\n*   **Fitness Enthusiast:** He is a legendary fitness icon in India. Known for his discipline, he wakes up extremely early and follows a rigorous workout routine. His fitness level is a central part of his public persona, and he often promotes health and wellness.\\n\\n*   **Philanthropist:** Akshay is deeply involved in philanthropy. He has consistently donated large sums to various causes, including relief funds during natural disasters, support for families of Indian soldiers, and initiatives for women\\'s hygiene through his support of menstrual cup awareness.\\n\\n*   **One of the Highest-Paid Celebrities:** For many years, Akshay Kumar has been consistently ranked among the top highest-paid actors in India and the world by magazines like Forbes. He is known for doing multiple films a year and commanding a very high fee per project.'),\n",
       " ('llama-3.3-70b-versatile',\n",
       "  'The Bollywood male superstar that fits this description is Akshay Kumar. He is known for his versatility in comedy, action, and romance, having appeared in a wide range of films such as \"Hera Pheri,\" \"Rowdy Rathore,\" \"Rustom,\" and \"Toilet: Ek Prem Katha.\"\\n\\nAkshay Kumar is also a well-known fitness enthusiast, often sharing his workout routines and fitness tips on social media. He has been a strong advocate for a healthy lifestyle and has even written a book on the subject, \"Khiladi: The Untold Story of Akshay Kumar.\"\\n\\nIn addition to his acting career, Akshay Kumar is also a philanthropist, supporting various charitable causes such as women\\'s empowerment, education, and healthcare. He has worked with several non-profit organizations and has even started his own foundation, the Bharat Ke Veer Foundation, which supports the families of Indian armed forces personnel.\\n\\nAs one of the highest-paid celebrities in the Indian film industry, Akshay Kumar has consistently ranked among the top earners in the country, according to various publications such as Forbes India. He has been recognized for his contributions to the film industry with numerous awards, including several Filmfare Awards and a National Film Award.\\n\\nOverall, Akshay Kumar\\'s versatility, fitness enthusiasm, philanthropic efforts, and commercial success make him a unique and influential figure in the Bollywood industry.'),\n",
       " ('gemma:2b',\n",
       "  'The Bollywood male superstar who fits the description is **Akshay Kumar**. He is a household name in India and has established himself as a successful actor in several prominent fields, including comedy, action, and romance.\\n\\nAkshay is known for his versatility in entertainment, and he has consistently shown his ability to adapt to different roles and genres in his movies. He is also a fitness enthusiast, philanthropist, and one of the highest-paid celebrities in the Indian film industry.')]"
      ]
     },
     "execution_count": 102,
     "metadata": {},
     "output_type": "execute_result"
    }
   ],
   "source": [
    "print(len(competitors), competitors)\n",
    "print(len(answers), answers[:1], '...')  # peek\n",
    "list(zip(competitors, answers))  # this truncates to min lengths"
   ]
  },
  {
   "cell_type": "code",
   "execution_count": 103,
   "id": "05706764",
   "metadata": {},
   "outputs": [
    {
     "name": "stdout",
     "output_type": "stream",
     "text": [
      "Competitor: gpt-4o-mini\n",
      "\n",
      "The Bollywood male superstar you're referring to is Salman Khan. He is widely known for his versatility in various genres, including comedy, action, and romance. Salman Khan is also recognized for his fitness regime, philanthropic efforts through his charity Being Human, and for being one of the highest-paid celebrities in the Indian film industry.\n",
      "Competitor: claude-3-7-sonnet-latest\n",
      "\n",
      "Based on your description, you're likely referring to either Salman Khan or Hrithik Roshan, as both fit these criteria.\n",
      "\n",
      "Salman Khan is known for his action, comedy and romantic roles, maintains a strong fitness image, runs the \"Being Human\" foundation, and consistently ranks among Bollywood's highest-paid actors.\n",
      "\n",
      "Hrithik Roshan is similarly versatile across genres, is famous for his physique and dedication to fitness, engages in charitable work, and commands among the highest salaries in the industry.\n",
      "\n",
      "Without more specific details about which actor you're asking about, either could match your description.\n",
      "Competitor: gemini-2.0-flash\n",
      "\n",
      "That description strongly points to **Akshay Kumar**.\n",
      "\n",
      "Competitor: deepseek-chat\n",
      "\n",
      "Of course! The Bollywood superstar you're describing is **Akshay Kumar**.\n",
      "\n",
      "Here's why he perfectly matches all the points mentioned:\n",
      "\n",
      "*   **Versatility in Comedy, Action, and Romance:** Akshay Kumar is famously known as the \"Khiladi\" of Bollywood for his action-hero roles in the '90s (e.g., the *Khiladi* series). He later mastered comedy with huge hits like *Hera Pheri*, *Bhool Bhulaiyaa*, *Housefull*, and *Welcome*. He has also starred in numerous successful romantic films like *Dhadkan*, *Namastey London*, and *Singh Is Kinng*.\n",
      "\n",
      "*   **Fitness Enthusiast:** He is a legendary fitness icon in India. Known for his discipline, he wakes up extremely early and follows a rigorous workout routine. His fitness level is a central part of his public persona, and he often promotes health and wellness.\n",
      "\n",
      "*   **Philanthropist:** Akshay is deeply involved in philanthropy. He has consistently donated large sums to various causes, including relief funds during natural disasters, support for families of Indian soldiers, and initiatives for women's hygiene through his support of menstrual cup awareness.\n",
      "\n",
      "*   **One of the Highest-Paid Celebrities:** For many years, Akshay Kumar has been consistently ranked among the top highest-paid actors in India and the world by magazines like Forbes. He is known for doing multiple films a year and commanding a very high fee per project.\n",
      "Competitor: llama-3.3-70b-versatile\n",
      "\n",
      "The Bollywood male superstar that fits this description is Akshay Kumar. He is known for his versatility in comedy, action, and romance, having appeared in a wide range of films such as \"Hera Pheri,\" \"Rowdy Rathore,\" \"Rustom,\" and \"Toilet: Ek Prem Katha.\"\n",
      "\n",
      "Akshay Kumar is also a well-known fitness enthusiast, often sharing his workout routines and fitness tips on social media. He has been a strong advocate for a healthy lifestyle and has even written a book on the subject, \"Khiladi: The Untold Story of Akshay Kumar.\"\n",
      "\n",
      "In addition to his acting career, Akshay Kumar is also a philanthropist, supporting various charitable causes such as women's empowerment, education, and healthcare. He has worked with several non-profit organizations and has even started his own foundation, the Bharat Ke Veer Foundation, which supports the families of Indian armed forces personnel.\n",
      "\n",
      "As one of the highest-paid celebrities in the Indian film industry, Akshay Kumar has consistently ranked among the top earners in the country, according to various publications such as Forbes India. He has been recognized for his contributions to the film industry with numerous awards, including several Filmfare Awards and a National Film Award.\n",
      "\n",
      "Overall, Akshay Kumar's versatility, fitness enthusiasm, philanthropic efforts, and commercial success make him a unique and influential figure in the Bollywood industry.\n",
      "Competitor: gemma:2b\n",
      "\n",
      "The Bollywood male superstar who fits the description is **Akshay Kumar**. He is a household name in India and has established himself as a successful actor in several prominent fields, including comedy, action, and romance.\n",
      "\n",
      "Akshay is known for his versatility in entertainment, and he has consistently shown his ability to adapt to different roles and genres in his movies. He is also a fitness enthusiast, philanthropist, and one of the highest-paid celebrities in the Indian film industry.\n"
     ]
    }
   ],
   "source": [
    "for competitor, answer in zip(competitors, answers):\n",
    "    print(f\"Competitor: {competitor}\\n\\n{answer}\")\n"
   ]
  },
  {
   "cell_type": "code",
   "execution_count": 104,
   "id": "07a7dc59",
   "metadata": {},
   "outputs": [
    {
     "data": {
      "text/markdown": [
       "Response from Competitor: 1 - \n",
       "\n",
       "The Bollywood male superstar you're referring to is Salman Khan. He is widely known for his versatility in various genres, including comedy, action, and romance. Salman Khan is also recognized for his fitness regime, philanthropic efforts through his charity Being Human, and for being one of the highest-paid celebrities in the Indian film industry.\n",
       "\n",
       "Response from Competitor: 2 - \n",
       "\n",
       "Based on your description, you're likely referring to either Salman Khan or Hrithik Roshan, as both fit these criteria.\n",
       "\n",
       "Salman Khan is known for his action, comedy and romantic roles, maintains a strong fitness image, runs the \"Being Human\" foundation, and consistently ranks among Bollywood's highest-paid actors.\n",
       "\n",
       "Hrithik Roshan is similarly versatile across genres, is famous for his physique and dedication to fitness, engages in charitable work, and commands among the highest salaries in the industry.\n",
       "\n",
       "Without more specific details about which actor you're asking about, either could match your description.\n",
       "\n",
       "Response from Competitor: 3 - \n",
       "\n",
       "That description strongly points to **Akshay Kumar**.\n",
       "\n",
       "\n",
       "Response from Competitor: 4 - \n",
       "\n",
       "Of course! The Bollywood superstar you're describing is **Akshay Kumar**.\n",
       "\n",
       "Here's why he perfectly matches all the points mentioned:\n",
       "\n",
       "*   **Versatility in Comedy, Action, and Romance:** Akshay Kumar is famously known as the \"Khiladi\" of Bollywood for his action-hero roles in the '90s (e.g., the *Khiladi* series). He later mastered comedy with huge hits like *Hera Pheri*, *Bhool Bhulaiyaa*, *Housefull*, and *Welcome*. He has also starred in numerous successful romantic films like *Dhadkan*, *Namastey London*, and *Singh Is Kinng*.\n",
       "\n",
       "*   **Fitness Enthusiast:** He is a legendary fitness icon in India. Known for his discipline, he wakes up extremely early and follows a rigorous workout routine. His fitness level is a central part of his public persona, and he often promotes health and wellness.\n",
       "\n",
       "*   **Philanthropist:** Akshay is deeply involved in philanthropy. He has consistently donated large sums to various causes, including relief funds during natural disasters, support for families of Indian soldiers, and initiatives for women's hygiene through his support of menstrual cup awareness.\n",
       "\n",
       "*   **One of the Highest-Paid Celebrities:** For many years, Akshay Kumar has been consistently ranked among the top highest-paid actors in India and the world by magazines like Forbes. He is known for doing multiple films a year and commanding a very high fee per project.\n",
       "\n",
       "Response from Competitor: 5 - \n",
       "\n",
       "The Bollywood male superstar that fits this description is Akshay Kumar. He is known for his versatility in comedy, action, and romance, having appeared in a wide range of films such as \"Hera Pheri,\" \"Rowdy Rathore,\" \"Rustom,\" and \"Toilet: Ek Prem Katha.\"\n",
       "\n",
       "Akshay Kumar is also a well-known fitness enthusiast, often sharing his workout routines and fitness tips on social media. He has been a strong advocate for a healthy lifestyle and has even written a book on the subject, \"Khiladi: The Untold Story of Akshay Kumar.\"\n",
       "\n",
       "In addition to his acting career, Akshay Kumar is also a philanthropist, supporting various charitable causes such as women's empowerment, education, and healthcare. He has worked with several non-profit organizations and has even started his own foundation, the Bharat Ke Veer Foundation, which supports the families of Indian armed forces personnel.\n",
       "\n",
       "As one of the highest-paid celebrities in the Indian film industry, Akshay Kumar has consistently ranked among the top earners in the country, according to various publications such as Forbes India. He has been recognized for his contributions to the film industry with numerous awards, including several Filmfare Awards and a National Film Award.\n",
       "\n",
       "Overall, Akshay Kumar's versatility, fitness enthusiasm, philanthropic efforts, and commercial success make him a unique and influential figure in the Bollywood industry.\n",
       "\n",
       "Response from Competitor: 6 - \n",
       "\n",
       "The Bollywood male superstar who fits the description is **Akshay Kumar**. He is a household name in India and has established himself as a successful actor in several prominent fields, including comedy, action, and romance.\n",
       "\n",
       "Akshay is known for his versatility in entertainment, and he has consistently shown his ability to adapt to different roles and genres in his movies. He is also a fitness enthusiast, philanthropist, and one of the highest-paid celebrities in the Indian film industry.\n",
       "\n"
      ],
      "text/plain": [
       "<IPython.core.display.Markdown object>"
      ]
     },
     "metadata": {},
     "output_type": "display_data"
    }
   ],
   "source": [
    "togather=\"\"\n",
    "for index,answer in enumerate(answers):\n",
    "    togather += f\"Response from Competitor: {index +1} - \\n\\n\"\n",
    "    togather += f\"{answer}\\n\\n\"\n",
    "\n",
    "display(Markdown(togather))\n",
    "\n",
    "\n"
   ]
  },
  {
   "cell_type": "code",
   "execution_count": 105,
   "id": "56e20bad",
   "metadata": {},
   "outputs": [
    {
     "name": "stdout",
     "output_type": "stream",
     "text": [
      "6\n"
     ]
    }
   ],
   "source": [
    "print(len(competitors))"
   ]
  },
  {
   "cell_type": "code",
   "execution_count": 106,
   "id": "3caa7378",
   "metadata": {},
   "outputs": [],
   "source": [
    "#check the double {{ -this is for printing prompt with { in it}}}\n",
    "judge = f\"\"\"You are judging a competition between {len(competitors)} competitors.\n",
    "Each model has been given this question:\n",
    "\n",
    "{question}\n",
    "\n",
    "Your job is to evaluate each response for clarity and strength of argument, and rank them in order of best to worst.\n",
    "Respond with JSON, and only JSON, with the following format:\n",
    "{{\"results\": [\"best competitor number\", \"second best competitor number\", \"third best competitor number\", ...]}} \n",
    "\n",
    "Here are the responses from each competitor:\n",
    "\n",
    "{togather}\n",
    "\n",
    "Now respond with the JSON with the ranked order of the competitors, nothing else. Do not include markdown formatting or code blocks.\"\"\"\n"
   ]
  },
  {
   "cell_type": "code",
   "execution_count": 107,
   "id": "300e3514",
   "metadata": {},
   "outputs": [
    {
     "name": "stdout",
     "output_type": "stream",
     "text": [
      "You are judging a competition between 6 competitors.\n",
      "Each model has been given this question:\n",
      "\n",
      "Which Bollywood male superstar, known for his versatility in comedy, action, and romance, is also a fitness enthusiast, a philanthropist, and one of the highest-paid celebrities in the industry?\n",
      "\n",
      "Your job is to evaluate each response for clarity and strength of argument, and rank them in order of best to worst.\n",
      "Respond with JSON, and only JSON, with the following format:\n",
      "{\"results\": [\"best competitor number\", \"second best competitor number\", \"third best competitor number\", ...]} \n",
      "\n",
      "Here are the responses from each competitor:\n",
      "\n",
      "Response from Competitor: 1 - \n",
      "\n",
      "The Bollywood male superstar you're referring to is Salman Khan. He is widely known for his versatility in various genres, including comedy, action, and romance. Salman Khan is also recognized for his fitness regime, philanthropic efforts through his charity Being Human, and for being one of the highest-paid celebrities in the Indian film industry.\n",
      "\n",
      "Response from Competitor: 2 - \n",
      "\n",
      "Based on your description, you're likely referring to either Salman Khan or Hrithik Roshan, as both fit these criteria.\n",
      "\n",
      "Salman Khan is known for his action, comedy and romantic roles, maintains a strong fitness image, runs the \"Being Human\" foundation, and consistently ranks among Bollywood's highest-paid actors.\n",
      "\n",
      "Hrithik Roshan is similarly versatile across genres, is famous for his physique and dedication to fitness, engages in charitable work, and commands among the highest salaries in the industry.\n",
      "\n",
      "Without more specific details about which actor you're asking about, either could match your description.\n",
      "\n",
      "Response from Competitor: 3 - \n",
      "\n",
      "That description strongly points to **Akshay Kumar**.\n",
      "\n",
      "\n",
      "Response from Competitor: 4 - \n",
      "\n",
      "Of course! The Bollywood superstar you're describing is **Akshay Kumar**.\n",
      "\n",
      "Here's why he perfectly matches all the points mentioned:\n",
      "\n",
      "*   **Versatility in Comedy, Action, and Romance:** Akshay Kumar is famously known as the \"Khiladi\" of Bollywood for his action-hero roles in the '90s (e.g., the *Khiladi* series). He later mastered comedy with huge hits like *Hera Pheri*, *Bhool Bhulaiyaa*, *Housefull*, and *Welcome*. He has also starred in numerous successful romantic films like *Dhadkan*, *Namastey London*, and *Singh Is Kinng*.\n",
      "\n",
      "*   **Fitness Enthusiast:** He is a legendary fitness icon in India. Known for his discipline, he wakes up extremely early and follows a rigorous workout routine. His fitness level is a central part of his public persona, and he often promotes health and wellness.\n",
      "\n",
      "*   **Philanthropist:** Akshay is deeply involved in philanthropy. He has consistently donated large sums to various causes, including relief funds during natural disasters, support for families of Indian soldiers, and initiatives for women's hygiene through his support of menstrual cup awareness.\n",
      "\n",
      "*   **One of the Highest-Paid Celebrities:** For many years, Akshay Kumar has been consistently ranked among the top highest-paid actors in India and the world by magazines like Forbes. He is known for doing multiple films a year and commanding a very high fee per project.\n",
      "\n",
      "Response from Competitor: 5 - \n",
      "\n",
      "The Bollywood male superstar that fits this description is Akshay Kumar. He is known for his versatility in comedy, action, and romance, having appeared in a wide range of films such as \"Hera Pheri,\" \"Rowdy Rathore,\" \"Rustom,\" and \"Toilet: Ek Prem Katha.\"\n",
      "\n",
      "Akshay Kumar is also a well-known fitness enthusiast, often sharing his workout routines and fitness tips on social media. He has been a strong advocate for a healthy lifestyle and has even written a book on the subject, \"Khiladi: The Untold Story of Akshay Kumar.\"\n",
      "\n",
      "In addition to his acting career, Akshay Kumar is also a philanthropist, supporting various charitable causes such as women's empowerment, education, and healthcare. He has worked with several non-profit organizations and has even started his own foundation, the Bharat Ke Veer Foundation, which supports the families of Indian armed forces personnel.\n",
      "\n",
      "As one of the highest-paid celebrities in the Indian film industry, Akshay Kumar has consistently ranked among the top earners in the country, according to various publications such as Forbes India. He has been recognized for his contributions to the film industry with numerous awards, including several Filmfare Awards and a National Film Award.\n",
      "\n",
      "Overall, Akshay Kumar's versatility, fitness enthusiasm, philanthropic efforts, and commercial success make him a unique and influential figure in the Bollywood industry.\n",
      "\n",
      "Response from Competitor: 6 - \n",
      "\n",
      "The Bollywood male superstar who fits the description is **Akshay Kumar**. He is a household name in India and has established himself as a successful actor in several prominent fields, including comedy, action, and romance.\n",
      "\n",
      "Akshay is known for his versatility in entertainment, and he has consistently shown his ability to adapt to different roles and genres in his movies. He is also a fitness enthusiast, philanthropist, and one of the highest-paid celebrities in the Indian film industry.\n",
      "\n",
      "\n",
      "\n",
      "Now respond with the JSON with the ranked order of the competitors, nothing else. Do not include markdown formatting or code blocks.\n"
     ]
    }
   ],
   "source": [
    "print(judge)"
   ]
  },
  {
   "cell_type": "code",
   "execution_count": 108,
   "id": "6898229a",
   "metadata": {},
   "outputs": [],
   "source": [
    "judge_messages = [{\"role\": \"user\", \"content\": judge}]"
   ]
  },
  {
   "cell_type": "code",
   "execution_count": 109,
   "id": "dac2782c",
   "metadata": {},
   "outputs": [
    {
     "name": "stdout",
     "output_type": "stream",
     "text": [
      "ChatCompletion(id='chatcmpl-CD9qIaoaRbI5rs2zwNjlnOc8awUXo', choices=[Choice(finish_reason='stop', index=0, logprobs=None, message=ChatCompletionMessage(content='{\"results\": [\"4\", \"5\", \"6\", \"1\", \"2\", \"3\"]}', refusal=None, role='assistant', annotations=[], audio=None, function_call=None, tool_calls=None))], created=1757252134, model='gpt-4o-mini-2024-07-18', object='chat.completion', service_tier='default', system_fingerprint='fp_8bda4d3a2c', usage=CompletionUsage(completion_tokens=22, prompt_tokens=1069, total_tokens=1091, completion_tokens_details=CompletionTokensDetails(accepted_prediction_tokens=0, audio_tokens=0, reasoning_tokens=0, rejected_prediction_tokens=0), prompt_tokens_details=PromptTokensDetails(audio_tokens=0, cached_tokens=0)))\n",
      "{\"results\": [\"4\", \"5\", \"6\", \"1\", \"2\", \"3\"]}\n"
     ]
    }
   ],
   "source": [
    "openai_judge = OpenAI()\n",
    "model_name = \"gpt-4o-mini\"\n",
    "openai_judge_response = openai_judge.chat.completions.create(model=model_name, messages=judge_messages)\n",
    "judge_answer = openai_judge_response.choices[0].message.content\n",
    "print(openai_judge_response)\n",
    "print(judge_answer)\n",
    "\n",
    "#display(Markdown(judge_answer))\n",
    "\n"
   ]
  },
  {
   "cell_type": "code",
   "execution_count": 110,
   "id": "b2b51cc2",
   "metadata": {},
   "outputs": [
    {
     "name": "stdout",
     "output_type": "stream",
     "text": [
      "{'results': ['4', '5', '6', '1', '2', '3']}\n",
      "['4', '5', '6', '1', '2', '3']\n",
      "1 place: deepseek-chat\n",
      "2 place: llama-3.3-70b-versatile\n",
      "3 place: gemma:2b\n",
      "4 place: gpt-4o-mini\n",
      "5 place: claude-3-7-sonnet-latest\n",
      "6 place: gemini-2.0-flash\n"
     ]
    }
   ],
   "source": [
    "result_dict=json.loads(judge_answer)\n",
    "print(result_dict)\n",
    "ranks = result_dict[\"results\"]\n",
    "print(ranks)\n",
    "for index, result in enumerate(ranks):\n",
    "    competitor = competitors[int(result)-1]\n",
    "    print(f\"{index+1} place: {competitor}\")\n",
    "\n",
    "\n",
    "\n",
    "\n"
   ]
  }
 ],
 "metadata": {
  "kernelspec": {
   "display_name": ".venv",
   "language": "python",
   "name": "python3"
  },
  "language_info": {
   "codemirror_mode": {
    "name": "ipython",
    "version": 3
   },
   "file_extension": ".py",
   "mimetype": "text/x-python",
   "name": "python",
   "nbconvert_exporter": "python",
   "pygments_lexer": "ipython3",
   "version": "3.12.4"
  }
 },
 "nbformat": 4,
 "nbformat_minor": 5
}
