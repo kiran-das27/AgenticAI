{
 "cells": [
  {
   "cell_type": "code",
   "execution_count": 7,
   "id": "5068aa79",
   "metadata": {},
   "outputs": [],
   "source": [
    "from DataIngestTransform import SmartBatchLoader\n",
    "from langchain_openai import OpenAIEmbeddings\n",
    "from langchain_huggingface import HuggingFaceEmbeddings\n",
    "from langchain_community.embeddings import OllamaEmbeddings\n",
    "from langchain_chroma import Chroma\n",
    "from langchain_community.vectorstores import FAISS\n",
    "from typing import Any, Optional\n",
    "\n",
    "\n"
   ]
  },
  {
   "cell_type": "code",
   "execution_count": 8,
   "id": "eb8b9211",
   "metadata": {},
   "outputs": [],
   "source": [
    "\n",
    "class EmbeddingLoadVectorDB:\n",
    "    \"\"\"\n",
    "    Generic class to embed text chunks and load into a vector database.\n",
    "    Supports OpenAI, HuggingFace, and Ollama embeddings,\n",
    "    and Chroma or FAISS as vector stores.\n",
    "    \"\"\"\n",
    "\n",
    "    def __init__(\n",
    "        self,\n",
    "        splits: list,\n",
    "        embeddingType: str = \"OpenAI\",\n",
    "        vectorDB: str = \"chroma\",\n",
    "        embedding_model: Optional[str] = None,\n",
    "        persist_directory: Optional[str] = \"./chroma_store\",\n",
    "    ):\n",
    "        self.embeddingType = embeddingType.lower()\n",
    "        self.vectorDB = vectorDB.lower()\n",
    "        self.embedding_model = embedding_model\n",
    "        self.persist_directory = persist_directory\n",
    "        self.splits = splits\n",
    "        self.embedding = self._select_embedding()\n",
    "\n",
    "    def _select_embedding(self):\n",
    "        \"\"\"Select and initialize embedding model based on embeddingType.\"\"\"\n",
    "        if self.embeddingType == \"openai\":\n",
    "            model_name = self.embedding_model or \"text-embedding-3-small\"\n",
    "            print(f\"[INFO] Using OpenAI Embeddings ({model_name})\")\n",
    "            return OpenAIEmbeddings(model=model_name)\n",
    "\n",
    "        elif self.embeddingType == \"huggingface\":\n",
    "            model_name = self.embedding_model or \"sentence-transformers/all-MiniLM-L6-v2\"\n",
    "            print(f\"[INFO] Using HuggingFace Embeddings ({model_name})\")\n",
    "            return HuggingFaceEmbeddings(model_name=model_name)\n",
    "\n",
    "        elif self.embeddingType == \"ollama\":\n",
    "            model_name = self.embedding_model or \"nomic-embed-text\"\n",
    "            print(f\"[INFO] Using Ollama Embeddings ({model_name})\")\n",
    "            return OllamaEmbeddings(model=model_name)\n",
    "\n",
    "        else:\n",
    "            raise ValueError(f\"❌ Unsupported embedding type: {self.embeddingType}\")\n",
    "\n",
    "    def embeddAndLoadVectorDB(self) -> Any:\n",
    "        \"\"\"Embed documents and load them into the specified vector database.\"\"\"\n",
    "        print(f\"[INFO] Creating vector store: {self.vectorDB}\")\n",
    "\n",
    "        if self.vectorDB == \"chroma\":\n",
    "            vdb = Chroma.from_documents(\n",
    "                documents=self.splits,\n",
    "                embedding=self.embedding,\n",
    "                persist_directory=self.persist_directory,\n",
    "            )\n",
    "            print(f\"[INFO] Chroma DB created and stored at {self.persist_directory}\")\n",
    "\n",
    "        elif self.vectorDB == \"faiss\":\n",
    "            vdb = FAISS.from_documents(\n",
    "                documents=self.splits,\n",
    "                embedding=self.embedding,\n",
    "            )\n",
    "            print(f\"[INFO] FAISS DB created in memory\")\n",
    "\n",
    "        else:\n",
    "            raise ValueError(f\"❌ Unsupported vector DB type: {self.vectorDB}\")\n",
    "\n",
    "        return vdb\n",
    "\n",
    "\n"
   ]
  },
  {
   "cell_type": "code",
   "execution_count": 11,
   "id": "405fcf0e",
   "metadata": {},
   "outputs": [
    {
     "name": "stdout",
     "output_type": "stream",
     "text": [
      "[INFO] Using OpenAI Embeddings (text-embedding-3-small)\n",
      "[INFO] Creating vector store: chroma\n",
      "[INFO] Chroma DB created and stored at ./chroma_store\n"
     ]
    }
   ],
   "source": [
    "splits=SmartBatchLoader(['Space.pdf']).load_and_split_all()\n",
    "embedder = EmbeddingLoadVectorDB(\n",
    "    splits=splits,\n",
    "    embeddingType=\"openai\",\n",
    "    vectorDB=\"chroma\",\n",
    ")\n",
    "\n",
    "vector_db = embedder.embeddAndLoadVectorDB()\n"
   ]
  }
 ],
 "metadata": {
  "kernelspec": {
   "display_name": ".venv",
   "language": "python",
   "name": "python3"
  },
  "language_info": {
   "codemirror_mode": {
    "name": "ipython",
    "version": 3
   },
   "file_extension": ".py",
   "mimetype": "text/x-python",
   "name": "python",
   "nbconvert_exporter": "python",
   "pygments_lexer": "ipython3",
   "version": "3.12.4"
  }
 },
 "nbformat": 4,
 "nbformat_minor": 5
}
